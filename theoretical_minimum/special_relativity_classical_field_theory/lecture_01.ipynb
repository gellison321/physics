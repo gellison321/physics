{
 "cells": [
  {
   "cell_type": "markdown",
   "metadata": {},
   "source": [
    "# Exercise 1.1\n",
    "\n",
    "Show that the $x$ coordinate of the point $Q$ in Fig. 1.6 is $\\sqrt{1-v^2}$"
   ]
  },
  {
   "cell_type": "markdown",
   "metadata": {},
   "source": [
    "Using the first Lorentz equation (1.19), we know that the meter stick is  $1$ unit long along the $x'$ axis, and that $t=vx$. Using the Lorentz transformation:\n",
    "\n",
    "$x' = 1 = \\frac{x-v^2 x}{\\sqrt{1-v^2}}$\n",
    "\n",
    "$\\iff \\sqrt{1-v^2} = x-v^2 x$\n",
    "\n",
    "$\\iff \\sqrt{1-v^2} = x(1-v^2)$\n",
    "\n",
    "$\\iff x = \\frac{\\sqrt{1-v^2}}{(1-v^2)}$\n",
    "\n",
    "$= (1-v^2)^1(1-v^2)^{-\\frac{1}{2}} = (1-v^2)^{\\frac{1}{2}} = \\sqrt{1-v^2}$"
   ]
  },
  {
   "cell_type": "markdown",
   "metadata": {},
   "source": [
    "# Exercise 1.2\n",
    "\n",
    "a) Show that, in the twin paradox, the relationship between each twin is symmetrical prior to the reversal of travel"
   ]
  },
  {
   "cell_type": "markdown",
   "metadata": {},
   "source": [
    "We can do this, similar to above, using two forms of the Lorentz transformations:\n",
    "\n",
    "First, $t$ in terms of $t'$, or, the resting twin in terms of the traveling twin\n",
    "\n",
    "$t = \\frac{t'+v^2x'}{\\sqrt{1-v^2}}$\n",
    "\n",
    "We know that $x'= 0$ and $t'= 1$\n",
    "\n",
    "$\\implies t =  \\frac{1}{\\sqrt{1-v^2}}$\n",
    "\n",
    "Now, second, $t'$ in terms of $t$, or, the traveling twin in terms of the resting twin:\n",
    "\n",
    "$t' = \\frac{t-v^2x}{\\sqrt{1-v^2}}$\n",
    "\n",
    "We know that $x = 0$ and $t = 1$\n",
    "\n",
    "$t' = \\frac{1}{\\sqrt{1-v^2}}$\n",
    "\n",
    "And so we've shown that each views the other as having the slower clock."
   ]
  },
  {
   "cell_type": "markdown",
   "metadata": {},
   "source": [
    "b) Use spacetime diagrams to show how the traveler's abrupt change from one frame to anther changes their definition of simultaneity. In the traveller's new frame, their twin is suddenly much older than they."
   ]
  }
 ],
 "metadata": {
  "kernelspec": {
   "display_name": "phypy",
   "language": "python",
   "name": "python3"
  },
  "language_info": {
   "codemirror_mode": {
    "name": "ipython",
    "version": 3
   },
   "file_extension": ".py",
   "mimetype": "text/x-python",
   "name": "python",
   "nbconvert_exporter": "python",
   "pygments_lexer": "ipython3",
   "version": "3.11.7"
  }
 },
 "nbformat": 4,
 "nbformat_minor": 2
}
