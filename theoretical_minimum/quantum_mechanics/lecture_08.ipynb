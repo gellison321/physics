{
 "cells": [
  {
   "cell_type": "markdown",
   "metadata": {},
   "source": [
    "# Exercise 8.1\n",
    "\n",
    "Prove that the following linear operators are indeed linear operators:\n",
    "\n",
    "$X\\psi(x) = x\\psi(x)$\n",
    "\n",
    "and \n",
    "\n",
    "$D\\psi(x) = \\frac{d\\psi(x)}{dx}$"
   ]
  },
  {
   "cell_type": "markdown",
   "metadata": {},
   "source": [
    "Starting with additivity:\n",
    "\n",
    "$X[\\psi_1(x) + \\psi_2(x)] = x[\\psi_1(x) + \\psi_2(x)] = x\\psi_1(x) + x\\psi_2(x) = X\\psi_1(x) + X\\psi_2(x) \\triangle$"
   ]
  },
  {
   "cell_type": "markdown",
   "metadata": {},
   "source": [
    "$D[\\psi_1(x) + \\psi_2(x)] = \\frac{d[\\psi_1(x)+\\psi_2(x)]}{dx} = \\lim\\limits_{\\Delta h \\to 0} \\frac{\\psi_1(x + \\Delta h) + \\psi_2(x + \\Delta h) - \\psi_1(x) - \\psi_2(x) }{\\Delta h} = \\lim\\limits_{\\Delta h \\to 0} \\frac{\\psi_1(x + \\Delta h) -  \\psi_1(x)}{\\Delta h} + \\lim\\limits_{\\Delta h \\to 0} \\frac{\\psi_3(x + \\Delta h) -  \\psi_3(x)}{\\Delta h} = \\frac{d\\psi_1(x)}{dx} + \\frac{d\\psi_2(x)}{dx} = D\\psi_1(x) + D\\psi_2(x) \\triangle$ "
   ]
  },
  {
   "cell_type": "markdown",
   "metadata": {},
   "source": [
    "And homogeneity:\n",
    "\n",
    "$X[\\alpha\\psi(x)] = x\\alpha\\psi(x) = \\alpha X\\psi(x)$\n",
    "\n",
    "$\\square$\n",
    "\n",
    "$D[\\alpha\\psi(x)] = \\frac{\\alpha d\\psi(x)}{dx} = \\lim\\limits_{\\Delta h \\to 0} \\frac{\\alpha\\psi(x + \\Delta h) -  \\alpha\\psi(x)}{\\Delta h} = \\alpha \\lim\\limits_{\\Delta h \\to 0} \\frac{\\psi(x + \\Delta h) -  \\psi(x)}{\\Delta h} = \\alpha D\\psi(x)$\n",
    "\n",
    "$ \\square$"
   ]
  }
 ],
 "metadata": {
  "language_info": {
   "name": "python"
  }
 },
 "nbformat": 4,
 "nbformat_minor": 2
}
