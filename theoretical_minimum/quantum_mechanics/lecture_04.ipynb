{
 "cells": [
  {
   "cell_type": "code",
   "execution_count": 1,
   "metadata": {},
   "outputs": [],
   "source": [
    "from utils import *"
   ]
  },
  {
   "cell_type": "markdown",
   "metadata": {},
   "source": [
    "# Exercise 4.1\n",
    "\n",
    "Prove that if $U$ is unitary, and $|A\\rangle$ and $|B\\rangle$ are any two state vectors, then the inner product of $U|A\\rangle$ and $U|B\\rangle$ is the same as the inner product of $|A\\rangle$ and $|B\\rangle$"
   ]
  },
  {
   "cell_type": "markdown",
   "metadata": {},
   "source": [
    "$U$ is unitary $\\implies UU^{\\dagger} = I$\n",
    "\n",
    "Inner product of $U|A\\rangle$ and $U|B\\rangle$ is \n",
    "\n",
    "$\\langle A|U^{\\dagger}U|B\\rangle$\n",
    "\n",
    "$= \\langle A|I|B\\rangle$\n",
    "\n",
    "$ = \\langle A|B\\rangle$\n",
    "\n",
    "$ \\square$"
   ]
  },
  {
   "cell_type": "markdown",
   "metadata": {},
   "source": [
    "# Exercise 4.2\n",
    "\n",
    "Prove that, if $M$ and $L$ are both Hermitian, then $i[M, L]$ is also Hermitian."
   ]
  },
  {
   "cell_type": "markdown",
   "metadata": {},
   "source": [
    "$M$,$L$ are Hermitian $\\implies M = M^\\dagger, L = L^\\dagger$"
   ]
  },
  {
   "cell_type": "markdown",
   "metadata": {},
   "source": [
    "$(i[M,L])^\\dagger = -i[M,L]^\\dagger = -i[L^\\dagger M^\\dagger - M^\\dagger L^\\dagger]$\n",
    "\n",
    "$ = iM^\\dagger L^\\dagger - iL^\\dagger M^\\dagger = iML - iLM = i[M, L]$\n",
    "\n",
    "$\\square$"
   ]
  },
  {
   "cell_type": "markdown",
   "metadata": {},
   "source": [
    "# Exercise 4.3\n",
    "\n",
    "Check, using the definition of Poisson brackets, that $[L, H] \\iff i\\hbar\\{L, H\\}$ is dimensionally consistent"
   ]
  },
  {
   "cell_type": "markdown",
   "metadata": {},
   "source": [
    "$\\{L, H\\} = \\sum_i [\\frac{\\partial L}{\\partial q_i}\\frac{\\partial H}{\\partial p_i} - \\frac{\\partial L}{\\partial p_i}\\frac{\\partial H}{\\partial q_i}]$\n",
    "\n",
    "In other words, each term in the Poisson bracket is the time derivative of the Lagrangian and Hamiltonian respectively.\n",
    "\n",
    "Plancks constant, $\\hbar$ has the dimension of $kg\\frac{m^2}{s^2}$\n",
    "\n",
    "The dimensionality of $[L, H]$ is that of $H$, energy, or $kg\\frac{m^2}{s^2}$. "
   ]
  },
  {
   "cell_type": "markdown",
   "metadata": {},
   "source": [
    "# Exercise 4.4\n",
    "\n",
    "Verify the following commutation relationships:\n",
    "\n",
    "$[\\sigma_x, \\sigma_y] = 2i\\sigma_z$\n",
    "\n",
    "$[\\sigma_y, \\sigma_z] = 2i\\sigma_x$\n",
    "\n",
    "$[\\sigma_z, \\sigma_x] = 2i\\sigma_y$\n",
    "\n",
    "This is really just using the Pauli matrices from the previous lecture, and performing some matrix multiplication. I'll opt to do this in Python."
   ]
  },
  {
   "cell_type": "code",
   "execution_count": 2,
   "metadata": {},
   "outputs": [
    {
     "name": "stdout",
     "output_type": "stream",
     "text": [
      "The Pauli matrices:\n"
     ]
    },
    {
     "data": {
      "text/latex": [
       "$\\displaystyle \\sigma_z = \\begin{pmatrix}1.0 & 0.0 \\\\ 0.0 & -1.0\\end{pmatrix}$"
      ],
      "text/plain": [
       "<IPython.core.display.Math object>"
      ]
     },
     "metadata": {},
     "output_type": "display_data"
    },
    {
     "data": {
      "text/latex": [
       "$\\displaystyle \\sigma_x = \\begin{pmatrix}0.0 & 1.0 \\\\ 1.0 & 0.0\\end{pmatrix}$"
      ],
      "text/plain": [
       "<IPython.core.display.Math object>"
      ]
     },
     "metadata": {},
     "output_type": "display_data"
    },
    {
     "data": {
      "text/latex": [
       "$\\displaystyle \\sigma_y = \\begin{pmatrix}0.0 & -i \\\\ i & 0.0\\end{pmatrix}$"
      ],
      "text/plain": [
       "<IPython.core.display.Math object>"
      ]
     },
     "metadata": {},
     "output_type": "display_data"
    },
    {
     "data": {
      "text/latex": [
       "$\\displaystyle [\\sigma_x, \\sigma_y] = \\begin{pmatrix}2.0i & 0.0 \\\\ 0.0 & -2.0i\\end{pmatrix}$"
      ],
      "text/plain": [
       "<IPython.core.display.Math object>"
      ]
     },
     "metadata": {},
     "output_type": "display_data"
    },
    {
     "data": {
      "text/latex": [
       "$\\displaystyle [\\sigma_y, \\sigma_z] = \\begin{pmatrix}0.0 & 2.0i \\\\ 2.0i & 0.0\\end{pmatrix}$"
      ],
      "text/plain": [
       "<IPython.core.display.Math object>"
      ]
     },
     "metadata": {},
     "output_type": "display_data"
    },
    {
     "data": {
      "text/latex": [
       "$\\displaystyle [\\sigma_z, \\sigma_x] = \\begin{pmatrix}0.0 & 2.0 \\\\ -2.0 & 0.0\\end{pmatrix}$"
      ],
      "text/plain": [
       "<IPython.core.display.Math object>"
      ]
     },
     "metadata": {},
     "output_type": "display_data"
    }
   ],
   "source": [
    "def commutator(m1, m2):\n",
    "    return np.matmul(m1,m2) - np.matmul(m2,m1)\n",
    "\n",
    "print('The Pauli matrices:')\n",
    "for key in sigma:\n",
    "    display(Math(f'\\sigma_{key} = ' + numpy_array_to_latex(sigma[key])))\n",
    "\n",
    "for m1, m2 in (('x', 'y'), ('y', 'z'), ('z', 'x')):\n",
    "    display(Math(f'[\\sigma_{m1}, \\sigma_{m2}] = ' + numpy_array_to_latex(commutator(sigma[m1], sigma[m2]))))"
   ]
  },
  {
   "cell_type": "markdown",
   "metadata": {},
   "source": [
    "# Exercise 4.5\n",
    "\n",
    "Take any unit 3-vector $\\vec{n}$ and form the operator $H = \\frac{\\hbar w}{2}\\sigma \\cdot \\vec{n}$\n",
    "\n",
    "Find the energy eignevalues, $E_j$ and energy eigenvectors, $|E_j\\rangle$ by solving the time-dependent Schroedinger equation."
   ]
  },
  {
   "cell_type": "markdown",
   "metadata": {},
   "source": [
    "The spin operator:\n",
    "$\\sigma_n = \\sigma \\cdot n = \\begin{pmatrix} n_z & (n_x-in_y)\\\\ (n_x + i n_y) & -n_z \\end{pmatrix}$"
   ]
  },
  {
   "cell_type": "markdown",
   "metadata": {},
   "source": [
    "Defining the 3-vector as the position of a particle with spherical coordinates, as we did in 3.4:\n",
    "\n",
    "$n = \\begin{pmatrix} \\sin\\theta\\cos\\phi \\\\ \\sin\\theta\\sin\\phi \\\\ \\cos\\theta \\end{pmatrix}$\n",
    "\n",
    "Here $n = n\\cdot r$ where $r=1$ (unit sphere)"
   ]
  },
  {
   "cell_type": "markdown",
   "metadata": {},
   "source": [
    "$\\implies H = \\frac{\\hbar w}{2} \\cdot \\begin{pmatrix} \\cos\\theta & \\sin\\theta\\cos\\phi - i\\sin\\theta\\sin\\phi \\\\ \\sin\\theta\\cos\\phi + i\\sin\\theta\\sin\\phi & -\\cos\\theta \\end{pmatrix}$\n",
    "\n",
    "Using this general matrix, of which we already found the eigenvalues to be $\\pm 1$, the new eigenvalues will obviosuly be $\\pm \\frac{\\hbar w}{2}$"
   ]
  },
  {
   "cell_type": "code",
   "execution_count": 3,
   "metadata": {},
   "outputs": [
    {
     "data": {
      "text/latex": [
       "$\\displaystyle \\left[\\begin{matrix}\\frac{h w \\cos{\\left(t \\right)}}{2} & \\frac{h w \\left(- i \\sin{\\left(p \\right)} \\sin{\\left(t \\right)} + \\sin{\\left(t \\right)} \\cos{\\left(p \\right)}\\right)}{2}\\\\\\frac{h w \\left(i \\sin{\\left(p \\right)} \\sin{\\left(t \\right)} + \\sin{\\left(t \\right)} \\cos{\\left(p \\right)}\\right)}{2} & - \\frac{h w \\cos{\\left(t \\right)}}{2}\\end{matrix}\\right]$"
      ],
      "text/plain": [
       "Matrix([\n",
       "[                           h*w*cos(t)/2, h*w*(-I*sin(p)*sin(t) + sin(t)*cos(p))/2],\n",
       "[h*w*(I*sin(p)*sin(t) + sin(t)*cos(p))/2,                            -h*w*cos(t)/2]])"
      ]
     },
     "execution_count": 3,
     "metadata": {},
     "output_type": "execute_result"
    }
   ],
   "source": [
    "# solving using Sympy\n",
    "\n",
    "h, w = symbols('h w')\n",
    "H = h*w*P/2\n",
    "H"
   ]
  },
  {
   "cell_type": "code",
   "execution_count": 4,
   "metadata": {},
   "outputs": [
    {
     "name": "stdout",
     "output_type": "stream",
     "text": [
      "⎡-(-ⅈ⋅sin(p)⋅sin(t) + sin(t)⋅cos(p)) ⎤\n",
      "⎢────────────────────────────────────⎥\n",
      "⎢             cos(t) + 1             ⎥\n",
      "⎢                                    ⎥\n",
      "⎣                 1                  ⎦\n",
      "\n",
      "⎡-(-ⅈ⋅sin(p)⋅sin(t) + sin(t)⋅cos(p)) ⎤\n",
      "⎢────────────────────────────────────⎥\n",
      "⎢             cos(t) - 1             ⎥\n",
      "⎢                                    ⎥\n",
      "⎣                 1                  ⎦\n",
      "\n"
     ]
    }
   ],
   "source": [
    "ev = H.eigenvects()\n",
    "for i in range(len(ev)):\n",
    "    sp.pprint(ev[i][2][0], use_unicode=True)\n",
    "    print()"
   ]
  },
  {
   "cell_type": "markdown",
   "metadata": {},
   "source": [
    "# Exercise 4.6"
   ]
  },
  {
   "cell_type": "markdown",
   "metadata": {},
   "source": [
    "Construct a Schrödinger Ket from \n",
    "\n",
    "$H = \\frac{w\\hbar}{2}\\sigma_z$\n",
    "\n",
    "$L = \\sigma_x$\n",
    "\n",
    "$|\\Psi(0)\\rangle = |u\\rangle \\equiv \\sigma_z = + 1$"
   ]
  },
  {
   "cell_type": "markdown",
   "metadata": {},
   "source": [
    "Construct a Hamiltonian\n",
    "\n",
    "$H = \\frac{w\\hbar}{2}\\sigma_z = \\frac{w\\hbar}{2}\\begin{pmatrix} 1 & 0 \\\\ 0 & -1 \\end{pmatrix} = \\begin{pmatrix} \\frac{w\\hbar}{2} & 0 \\\\ 0 & -\\frac{w\\hbar}{2} \\end{pmatrix}$"
   ]
  },
  {
   "cell_type": "markdown",
   "metadata": {},
   "source": [
    "Prepare an initial state\n",
    "\n",
    "$|\\Psi(0)\\rangle = |u\\rangle \\equiv \\sigma_z = + 1$"
   ]
  },
  {
   "cell_type": "code",
   "execution_count": 5,
   "metadata": {},
   "outputs": [],
   "source": [
    "initial_state = np.array([1,0])"
   ]
  },
  {
   "cell_type": "markdown",
   "metadata": {},
   "source": [
    "Find the eigenvalues and eigenvectors of H\n",
    "\n",
    "$E_j = \\pm \\frac{w\\hbar}{2}$"
   ]
  },
  {
   "cell_type": "code",
   "execution_count": 6,
   "metadata": {},
   "outputs": [
    {
     "data": {
      "text/latex": [
       "$\\displaystyle E0 = \\begin{pmatrix}0.0 \\\\ 1.0\\end{pmatrix}$"
      ],
      "text/plain": [
       "<IPython.core.display.Math object>"
      ]
     },
     "metadata": {},
     "output_type": "display_data"
    },
    {
     "data": {
      "text/latex": [
       "$\\displaystyle E1 = \\begin{pmatrix}1.0 \\\\ 0.0\\end{pmatrix}$"
      ],
      "text/plain": [
       "<IPython.core.display.Math object>"
      ]
     },
     "metadata": {},
     "output_type": "display_data"
    }
   ],
   "source": [
    "H = Matrix(w*h*sigma['z']/2)\n",
    "ev = H.eigenvects()\n",
    "\n",
    "energy_vecs = []\n",
    "energy_vals = []\n",
    "\n",
    "for i in range(2):\n",
    "    energy_vecs.append(np.array(ev[i][2][0], dtype = np.float32).reshape(-1,1))\n",
    "    energy_vals.append(ev[i][0])\n",
    "    display(Math(f'E{i} = ' + numpy_array_to_latex(energy_vecs[i])))"
   ]
  },
  {
   "cell_type": "markdown",
   "metadata": {},
   "source": [
    "Calculate the initial coefficients $\\alpha_j(0)$"
   ]
  },
  {
   "cell_type": "code",
   "execution_count": 7,
   "metadata": {},
   "outputs": [
    {
     "data": {
      "text/plain": [
       "[0.0, 1.0]"
      ]
     },
     "execution_count": 7,
     "metadata": {},
     "output_type": "execute_result"
    }
   ],
   "source": [
    "# lots of reshaping and data type conversions - there is probably a better way to do this\n",
    "\n",
    "initial_co = [float(np.dot(energy_vecs[i].T.reshape(-1), initial_state)) for i in range(len(energy_vecs))]\n",
    "initial_co"
   ]
  },
  {
   "cell_type": "markdown",
   "metadata": {},
   "source": [
    "Rewrite $|\\Psi(0)\\rangle$ in terms of $|E_j\\rangle$ and $\\alpha_j(0)$\n",
    "\n",
    "$|\\Psi(0)\\rangle = \\sum_{j} \\alpha_j(0)|E_j\\rangle$\n",
    "\n",
    "Since the only non-zero coefficient is simply 1, this turns into its corresponding eigenvector\n",
    "\n",
    "$|\\Psi(0)\\rangle = \\begin{pmatrix} 1 \\\\ 0 \\end{pmatrix}$\n",
    "\n",
    "Which meshes to the given $|u\\rangle$"
   ]
  },
  {
   "cell_type": "markdown",
   "metadata": {},
   "source": [
    "Rewrite the state vector to capture its time-dependence and replace $\\alpha_j(t)$ with $\\alpha_j(0)e^{-\\frac{i}{\\hbar}E_j t}$\n",
    "\n",
    "$|\\Psi(t)\\rangle = \\sum_{j} \\alpha_j(t)|E_j\\rangle$\n",
    "\n",
    "and\n",
    "\n",
    "$|\\Psi(t)\\rangle = \\sum_j\\alpha_j(0)e^{-\\frac{i}{\\hbar}E_j t}|E_j\\rangle$\n",
    "\n",
    "or simply\n",
    "\n",
    "$|\\Psi(t)\\rangle  = e^{-\\frac{i}{\\hbar}t}|u\\rangle$"
   ]
  }
 ],
 "metadata": {
  "kernelspec": {
   "display_name": "phypy",
   "language": "python",
   "name": "python3"
  },
  "language_info": {
   "codemirror_mode": {
    "name": "ipython",
    "version": 3
   },
   "file_extension": ".py",
   "mimetype": "text/x-python",
   "name": "python",
   "nbconvert_exporter": "python",
   "pygments_lexer": "ipython3",
   "version": "3.11.7"
  }
 },
 "nbformat": 4,
 "nbformat_minor": 2
}
