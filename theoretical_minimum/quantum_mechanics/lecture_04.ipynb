{
 "cells": [
  {
   "cell_type": "code",
   "execution_count": 1,
   "metadata": {},
   "outputs": [],
   "source": [
    "from utils import *"
   ]
  },
  {
   "cell_type": "markdown",
   "metadata": {},
   "source": [
    "# Exercise 4.1\n",
    "\n",
    "Prove that if $U$ is unitary, and $|A\\rangle$ and $|B\\rangle$ are any two state vectors, then the inner product of $U|A\\rangle$ and $U|B\\rangle$ is the same as the inner product of $|A\\rangle$ and $|B\\rangle$"
   ]
  },
  {
   "cell_type": "markdown",
   "metadata": {},
   "source": [
    "$U$ is unitary $\\implies UU^{\\dagger} = I$\n",
    "\n",
    "Inner product of $U|A\\rangle$ and $U|B\\rangle$ is \n",
    "\n",
    "$\\langle A|U^{\\dagger}U|B\\rangle$\n",
    "\n",
    "$= \\langle A|I|B\\rangle$\n",
    "\n",
    "$ = \\langle A|B\\rangle$\n",
    "\n",
    "$ \\square$"
   ]
  },
  {
   "cell_type": "markdown",
   "metadata": {},
   "source": [
    "# Exercise 4.2\n",
    "\n",
    "Prove that, if $M$ and $L$ are both Hermitian, then $i[M, L]$ is also Hermitian."
   ]
  },
  {
   "cell_type": "markdown",
   "metadata": {},
   "source": [
    "$M$,$L$ are Hermitian $\\implies M = M^\\dagger, L = L^\\dagger$"
   ]
  },
  {
   "cell_type": "markdown",
   "metadata": {},
   "source": [
    "$(i[M,L])^\\dagger = -i[M,L]^\\dagger = -i[L^\\dagger M^\\dagger - M^\\dagger L^\\dagger]$\n",
    "\n",
    "$ = iM^\\dagger L^\\dagger - iL^\\dagger M^\\dagger = iML - iLM = i[M, L]$\n",
    "\n",
    "$\\square$"
   ]
  },
  {
   "cell_type": "markdown",
   "metadata": {},
   "source": [
    "# Exercise 4.3\n",
    "\n",
    "Check, using the definition of Poisson brackets, that $[L, H] \\iff i\\hbar\\{L, H\\}$ is dimensionally consistent"
   ]
  },
  {
   "cell_type": "markdown",
   "metadata": {},
   "source": [
    "$\\{L, H\\} = \\sum_i [\\frac{\\partial L}{\\partial q_i}\\frac{\\partial H}{\\partial p_i} - \\frac{\\partial L}{\\partial p_i}\\frac{\\partial H}{\\partial q_i}]$\n",
    "\n",
    "In other words, each term in the Poisson bracket is the time derivative of the Lagrangian and Hamiltonian respectively.\n",
    "\n",
    "Plancks constant, $\\hbar$ has the dimension of $kg\\frac{m^2}{s^2}$\n",
    "\n",
    "The dimensionality of $[L, H]$ is that of $H$, energy, or $kg\\frac{m^2}{s^2}$. "
   ]
  },
  {
   "cell_type": "markdown",
   "metadata": {},
   "source": [
    "# Exercise 4.4\n",
    "\n",
    "Verify the following commutation relationships:\n",
    "\n",
    "$[\\sigma_x, \\sigma_y] = 2i\\sigma_z$\n",
    "\n",
    "$[\\sigma_y, \\sigma_z] = 2i\\sigma_x$\n",
    "\n",
    "$[\\sigma_z, \\sigma_x] = 2i\\sigma_y$\n",
    "\n",
    "This is really just using the Pauli matrices from the previous lecture, and performing some matrix multiplication. I'll opt to do this in Python."
   ]
  },
  {
   "cell_type": "code",
   "execution_count": 22,
   "metadata": {},
   "outputs": [
    {
     "name": "stdout",
     "output_type": "stream",
     "text": [
      "The Pauli matrices:\n"
     ]
    },
    {
     "data": {
      "text/latex": [
       "$\\displaystyle Oz = \\begin{pmatrix}1.0 & 0.0 \\\\ 0.0 & -1.0\\end{pmatrix}$"
      ],
      "text/plain": [
       "<IPython.core.display.Math object>"
      ]
     },
     "metadata": {},
     "output_type": "display_data"
    },
    {
     "data": {
      "text/latex": [
       "$\\displaystyle Ox = \\begin{pmatrix}0.0 & 1.0 \\\\ 1.0 & 0.0\\end{pmatrix}$"
      ],
      "text/plain": [
       "<IPython.core.display.Math object>"
      ]
     },
     "metadata": {},
     "output_type": "display_data"
    },
    {
     "data": {
      "text/latex": [
       "$\\displaystyle Oy = \\begin{pmatrix}0.0 & -i \\\\ i & 0.0\\end{pmatrix}$"
      ],
      "text/plain": [
       "<IPython.core.display.Math object>"
      ]
     },
     "metadata": {},
     "output_type": "display_data"
    },
    {
     "name": "stdout",
     "output_type": "stream",
     "text": [
      "\n",
      "[Ox, Oy] = \n"
     ]
    },
    {
     "data": {
      "text/latex": [
       "$\\displaystyle \\begin{pmatrix}2.0i & 0.0 \\\\ 0.0 & -2.0i\\end{pmatrix}$"
      ],
      "text/plain": [
       "<IPython.core.display.Math object>"
      ]
     },
     "metadata": {},
     "output_type": "display_data"
    },
    {
     "name": "stdout",
     "output_type": "stream",
     "text": [
      "[Oy, Oz] = \n"
     ]
    },
    {
     "data": {
      "text/latex": [
       "$\\displaystyle \\begin{pmatrix}0.0 & 2.0i \\\\ 2.0i & 0.0\\end{pmatrix}$"
      ],
      "text/plain": [
       "<IPython.core.display.Math object>"
      ]
     },
     "metadata": {},
     "output_type": "display_data"
    },
    {
     "name": "stdout",
     "output_type": "stream",
     "text": [
      "[Oz, Ox] = \n"
     ]
    },
    {
     "data": {
      "text/latex": [
       "$\\displaystyle \\begin{pmatrix}0.0 & 2.0 \\\\ -2.0 & 0.0\\end{pmatrix}$"
      ],
      "text/plain": [
       "<IPython.core.display.Math object>"
      ]
     },
     "metadata": {},
     "output_type": "display_data"
    }
   ],
   "source": [
    "def commutator(m1, m2):\n",
    "    return np.matmul(m1,m2) - np.matmul(m2,m1)\n",
    "\n",
    "\n",
    "print('The Pauli matrices:')\n",
    "for key in pauli:\n",
    "    display(Math(key + ' = ' + numpy_array_to_latex(pauli[key])))\n",
    "print()\n",
    "\n",
    "for m1, m2 in (('Ox', 'Oy'), ('Oy', 'Oz'), ('Oz', 'Ox')):\n",
    "    result = commutator(pauli[m1], pauli[m2])\n",
    "    print(f'[{m1}, {m2}] = ')\n",
    "    display(Math(numpy_array_to_latex(result)))"
   ]
  }
 ],
 "metadata": {
  "kernelspec": {
   "display_name": "phypy",
   "language": "python",
   "name": "python3"
  },
  "language_info": {
   "codemirror_mode": {
    "name": "ipython",
    "version": 3
   },
   "file_extension": ".py",
   "mimetype": "text/x-python",
   "name": "python",
   "nbconvert_exporter": "python",
   "pygments_lexer": "ipython3",
   "version": "3.11.7"
  }
 },
 "nbformat": 4,
 "nbformat_minor": 2
}
