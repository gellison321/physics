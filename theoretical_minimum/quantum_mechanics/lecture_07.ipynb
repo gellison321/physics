{
 "cells": [
  {
   "cell_type": "markdown",
   "metadata": {},
   "source": [
    "# Exercise 7.1\n",
    "\n",
    "Write the tensor product $I\\otimes\\tau_x$ as a matrix and apply that matrix to each of the spin operator column vectors."
   ]
  },
  {
   "cell_type": "markdown",
   "metadata": {},
   "source": [
    "$I\\otimes\\tau_x = \\begin{pmatrix} 1 & 0 \\\\ 0 & 1\\end{pmatrix} \\otimes \\begin{pmatrix} 0 & 1 \\\\1 & 0 \\end{pmatrix} = \\begin{pmatrix} 0 & 1&0&0\\\\1&0&0&0\\\\0&0&0&1\\\\0&0&1&0\\end{pmatrix}$\n",
    "\n",
    "$I\\otimes\\tau_x |uu\\rangle = \\begin{pmatrix} 0 & 1&0&0\\\\1&0&0&0\\\\0&0&0&1\\\\0&0&1&0\\end{pmatrix} \\begin{pmatrix}1\\\\0\\\\0\\\\0\\end{pmatrix} = \\begin{pmatrix} 0\\\\1\\\\0\\\\0\\end{pmatrix} = |ud\\rangle$\n",
    "\n",
    "Okay I did one... now for Python"
   ]
  },
  {
   "cell_type": "code",
   "execution_count": 1,
   "metadata": {},
   "outputs": [
    {
     "data": {
      "text/latex": [
       "$\\displaystyle I\\otimes\\tau_x|du\\rangle = \\begin{pmatrix}0.0 \\\\ 0.0 \\\\ 0.0 \\\\ 1.0\\end{pmatrix}$"
      ],
      "text/plain": [
       "<IPython.core.display.Math object>"
      ]
     },
     "metadata": {},
     "output_type": "display_data"
    },
    {
     "data": {
      "text/latex": [
       "$\\displaystyle I\\otimes\\tau_x|dd\\rangle = \\begin{pmatrix}0.0 \\\\ 0.0 \\\\ 1.0 \\\\ 0.0\\end{pmatrix}$"
      ],
      "text/plain": [
       "<IPython.core.display.Math object>"
      ]
     },
     "metadata": {},
     "output_type": "display_data"
    },
    {
     "data": {
      "text/latex": [
       "$\\displaystyle I\\otimes\\tau_x|uu\\rangle = \\begin{pmatrix}0.0 \\\\ 1.0 \\\\ 0.0 \\\\ 0.0\\end{pmatrix}$"
      ],
      "text/plain": [
       "<IPython.core.display.Math object>"
      ]
     },
     "metadata": {},
     "output_type": "display_data"
    },
    {
     "data": {
      "text/latex": [
       "$\\displaystyle I\\otimes\\tau_x|ud\\rangle = \\begin{pmatrix}1.0 \\\\ 0.0 \\\\ 0.0 \\\\ 0.0\\end{pmatrix}$"
      ],
      "text/plain": [
       "<IPython.core.display.Math object>"
      ]
     },
     "metadata": {},
     "output_type": "display_data"
    }
   ],
   "source": [
    "from utils import *\n",
    "\n",
    "operator = tensor(qeye(2), sigmax())\n",
    "enc = {0: 'u', 1: 'd'}\n",
    "\n",
    "for a,b in itertools.product([1,0],[0,1]):\n",
    "\n",
    "    state = tensor(basis(2,a), basis(2,b))\n",
    "    result = operator*state\n",
    "\n",
    "    lprint(f'I\\otimes\\\\tau_x|{enc[a]}{enc[b]}\\\\rangle = ' + numpy_array_to_latex(result))"
   ]
  },
  {
   "cell_type": "markdown",
   "metadata": {},
   "source": [
    "# Exercise 7.2\n",
    "\n",
    "Calculate the matrix of elements of $\\sigma_z\\otimes\\tau_x$ by forming inner products."
   ]
  },
  {
   "cell_type": "markdown",
   "metadata": {},
   "source": [
    "$\\sigma_z\\otimes\\tau_x = \\begin{pmatrix} \\langle00|\\sigma_z\\tau_x|00\\rangle & \\langle00|\\sigma_z\\tau_x|01\\rangle & \\langle00|\\sigma_z\\tau_x|10\\rangle & \\langle00|\\sigma_z\\tau_x|11\\rangle \\\\ \\langle01|\\sigma_z\\tau_x|00\\rangle & \\langle01|\\sigma_z\\tau_x|01\\rangle & \\langle01|\\sigma_z\\tau_x|10\\rangle & \\langle01|\\sigma_z\\tau_x|11\\rangle \\\\\\langle10|\\sigma_z\\tau_x|00\\rangle & \\langle10|\\sigma_z\\tau_x|01\\rangle & \\langle10|\\sigma_z\\tau_x|10\\rangle & \\langle10|\\sigma_z\\tau_x|11\\rangle \\\\\\langle11|\\sigma_z\\tau_x|00\\rangle & \\langle11|\\sigma_z\\tau_x|01\\rangle & \\langle11|\\sigma_z\\tau_x|10\\rangle & \\langle11|\\sigma_z\\tau_x|11\\rangle\\end{pmatrix} = \\begin{pmatrix}0 & 1 & 0 & 0\\\\1 & 0 & 0 & 0\\\\0 & 0 & 0 & -1\\\\0 & 0 & -1 & 0 \\end{pmatrix}$"
   ]
  },
  {
   "cell_type": "markdown",
   "metadata": {},
   "source": [
    "# Exercise 7.3"
   ]
  },
  {
   "cell_type": "code",
   "execution_count": 2,
   "metadata": {},
   "outputs": [
    {
     "data": {
      "text/latex": [
       "$\\displaystyle Aa = \\left[\\begin{matrix}a_{11}^{2} + a_{12} a_{21}\\\\a_{11} a_{21} + a_{21} a_{22}\\end{matrix}\\right]$"
      ],
      "text/plain": [
       "<IPython.core.display.Math object>"
      ]
     },
     "metadata": {},
     "output_type": "display_data"
    },
    {
     "data": {
      "text/latex": [
       "$\\displaystyle Bb = \\left[\\begin{matrix}b_{11}^{2} + b_{12} b_{21}\\\\b_{11} b_{21} + b_{21} b_{22}\\end{matrix}\\right]$"
      ],
      "text/plain": [
       "<IPython.core.display.Math object>"
      ]
     },
     "metadata": {},
     "output_type": "display_data"
    },
    {
     "data": {
      "text/latex": [
       "$\\displaystyle a\\otimes b = \\left[\\begin{matrix}a_{11} b_{11}\\\\a_{11} b_{21}\\\\a_{21} b_{11}\\\\a_{21} b_{21}\\end{matrix}\\right]$"
      ],
      "text/plain": [
       "<IPython.core.display.Math object>"
      ]
     },
     "metadata": {},
     "output_type": "display_data"
    },
    {
     "data": {
      "text/latex": [
       "$\\displaystyle A\\otimes B = \\left[\\begin{matrix}a_{11} b_{11} & a_{11} b_{12} & a_{12} b_{11} & a_{12} b_{12}\\\\a_{11} b_{21} & a_{11} b_{22} & a_{12} b_{21} & a_{12} b_{22}\\\\a_{21} b_{11} & a_{21} b_{12} & a_{22} b_{11} & a_{22} b_{12}\\\\a_{21} b_{21} & a_{21} b_{22} & a_{22} b_{21} & a_{22} b_{22}\\end{matrix}\\right]$"
      ],
      "text/plain": [
       "<IPython.core.display.Math object>"
      ]
     },
     "metadata": {},
     "output_type": "display_data"
    },
    {
     "data": {
      "text/latex": [
       "$\\displaystyle Aa\\otimes Bb = \\left[\\begin{matrix}a_{11}^{2} b_{11}^{2} + a_{11}^{2} b_{12} b_{21} + a_{12} a_{21} b_{11}^{2} + a_{12} a_{21} b_{12} b_{21}\\\\a_{11}^{2} b_{11} b_{21} + a_{11}^{2} b_{21} b_{22} + a_{12} a_{21} b_{11} b_{21} + a_{12} a_{21} b_{21} b_{22}\\\\a_{11} a_{21} b_{11}^{2} + a_{11} a_{21} b_{12} b_{21} + a_{21} a_{22} b_{11}^{2} + a_{21} a_{22} b_{12} b_{21}\\\\a_{11} a_{21} b_{11} b_{21} + a_{11} a_{21} b_{21} b_{22} + a_{21} a_{22} b_{11} b_{21} + a_{21} a_{22} b_{21} b_{22}\\end{matrix}\\right]$"
      ],
      "text/plain": [
       "<IPython.core.display.Math object>"
      ]
     },
     "metadata": {},
     "output_type": "display_data"
    },
    {
     "data": {
      "text/latex": [
       "$\\displaystyle (A\\otimes B) (a\\otimes b) = \\left[\\begin{matrix}a_{11}^{2} b_{11}^{2} + a_{11}^{2} b_{12} b_{21} + a_{12} a_{21} b_{11}^{2} + a_{12} a_{21} b_{12} b_{21}\\\\a_{11}^{2} b_{11} b_{21} + a_{11}^{2} b_{21} b_{22} + a_{12} a_{21} b_{11} b_{21} + a_{12} a_{21} b_{21} b_{22}\\\\a_{11} a_{21} b_{11}^{2} + a_{11} a_{21} b_{12} b_{21} + a_{21} a_{22} b_{11}^{2} + a_{21} a_{22} b_{12} b_{21}\\\\a_{11} a_{21} b_{11} b_{21} + a_{11} a_{21} b_{21} b_{22} + a_{21} a_{22} b_{11} b_{21} + a_{21} a_{22} b_{21} b_{22}\\end{matrix}\\right]$"
      ],
      "text/plain": [
       "<IPython.core.display.Math object>"
      ]
     },
     "metadata": {},
     "output_type": "display_data"
    }
   ],
   "source": [
    "\n",
    "# a)\n",
    "n,m = 2,2\n",
    "\n",
    "# note that generating a Matrix full of symbols is different than the easier MatrixSymbol objects\n",
    "B = Matrix([[symbols(f'b{i}{j}') for j in range(1, n+1)] for i in range(1, m+1)])\n",
    "A = Matrix([[symbols(f'a{i}{j}') for j in range(1, n+1)] for i in range(1, m+1)])\n",
    "a = Matrix([symbols(f'a{i}{1}') for i in range(1, n+1)])\n",
    "b = Matrix([symbols(f'b{i}{1}') for i in range(1, n+1)])\n",
    "\n",
    "def k_prod(X, Y):\n",
    "    # Symbolic Kronecker product\n",
    "    return Matrix([[x * Y for x in row] for row in X.tolist()])\n",
    "\n",
    "# b)\n",
    "lprint('Aa = ' + latex(A*a))\n",
    "lprint('Bb = ' + latex(B*b))\n",
    "\n",
    "# c) & d)\n",
    "lprint(f'a\\otimes b = ' + latex(k_prod(a,b)))\n",
    "lprint(f'A\\otimes B = ' + latex(k_prod(A,B)))\n",
    "lprint(f'Aa\\otimes Bb = ' + latex(k_prod(A*a,B*b).applyfunc(expand)))\n",
    "\n",
    "# e)\n",
    "lprint(f'(A\\otimes B) (a\\otimes b) = ' + latex(k_prod(A,B)*k_prod(a,b)))\n",
    "\n",
    "# f)\n",
    "assert k_prod(A,B)*k_prod(a,b) == k_prod(A*a, B*b).applyfunc(expand)\n"
   ]
  }
 ],
 "metadata": {
  "kernelspec": {
   "display_name": "phypy",
   "language": "python",
   "name": "python3"
  },
  "language_info": {
   "codemirror_mode": {
    "name": "ipython",
    "version": 3
   },
   "file_extension": ".py",
   "mimetype": "text/x-python",
   "name": "python",
   "nbconvert_exporter": "python",
   "pygments_lexer": "ipython3",
   "version": "3.11.7"
  }
 },
 "nbformat": 4,
 "nbformat_minor": 2
}
