{
 "cells": [
  {
   "cell_type": "markdown",
   "metadata": {},
   "source": [
    "# Exercise 9.1\n",
    "\n",
    "\n",
    "Plug $\\psi(x) = e^{\\frac{ipx}{\\hbar}}$ into $-\\frac{\\hbar^2}{2m}\\frac{\\partial^2\\psi(x)}{\\partial x^2} = E\\psi(x)$ to verify that $E = \\frac{p^2}{2m}$"
   ]
  },
  {
   "cell_type": "markdown",
   "metadata": {},
   "source": [
    "$-\\frac{\\hbar^2}{2m}\\frac{\\partial^2 e^{\\frac{ipx}{\\hbar}}}{\\partial x^2} = Ee^{\\frac{ipx}{\\hbar}}$ \n",
    "\n",
    "$\\equiv$\n",
    "\n",
    "$-\\frac{ip}{\\hbar}\\frac{\\hbar^2}{2m}\\frac{ \\partial e^{\\frac{ipx}{\\hbar}}}{\\partial x} = Ee^{\\frac{ipx}{\\hbar}}$ \n",
    "\n",
    "$\\equiv$\n",
    "\n",
    "$-(\\frac{ip}{\\hbar})^2\\frac{\\hbar^2}{2m}e^{\\frac{ipx}{\\hbar}} = E e^{\\frac{ipx}{\\hbar}}$\n",
    "\n",
    "$\\equiv$\n",
    "\n",
    "$E = \\frac{p^2}{2m}$\n",
    "\n",
    "$\\square$"
   ]
  },
  {
   "cell_type": "markdown",
   "metadata": {},
   "source": [
    "# Exercise 9.2\n",
    "\n",
    "Prove that $[P^2, X] = P[P,X]+ [P,X]P$"
   ]
  },
  {
   "cell_type": "markdown",
   "metadata": {},
   "source": [
    "$[P^2, X] = PPX -XPP$\n",
    "\n",
    "$P[P,X] + [P,X]P = PPX - PXP + PXP - XPP = PPX - XPP$\n",
    "\n",
    "$\\square$"
   ]
  },
  {
   "cell_type": "markdown",
   "metadata": {},
   "source": [
    "# Exercise 9.2\n",
    "\n",
    "Show that \n",
    "\n",
    "$[V(x), P] = i\\hbar\\frac{dV(x)}{x} $\n",
    "\n",
    "$\\equiv$\n",
    "\n",
    "$ [V(x), P]\\psi(x) = V(x)(-i\\hbar\\frac{d}{dx})\\psi(x) - (-i\\hbar\\frac{d}{dx})V(x)\\psi(x)$"
   ]
  },
  {
   "cell_type": "markdown",
   "metadata": {},
   "source": [
    "1) Expanding the second term on the RHS, as suggested:\n",
    "\n",
    "\n",
    "$ V(x)(-i\\hbar\\frac{d}{dx})\\psi(x) - (-i\\hbar\\frac{d}{dx})V(x)\\psi(x) = V(x)(-i\\hbar\\frac{d}{dx})\\psi(x) - (-i\\hbar[\\frac{dV(x)}{dx}\\psi(x) + \\frac{d\\psi(x)}{dx}V(x)])$"
   ]
  },
  {
   "cell_type": "markdown",
   "metadata": {},
   "source": [
    "2) Being careful to distinguish between linear operators and scalars, expanding the expression:\n",
    "\n",
    "$ = -i\\hbar V(x)\\frac{d\\psi(x)}{dx} + i\\hbar\\frac{dV(x)}{dx}\\psi(x) + i\\hbar\\frac{d\\psi(x)}{dx}V(x)$\n",
    "\n",
    "\n",
    "3) Canceling\n",
    "\n",
    "$ = i\\hbar\\frac{dV(x)}{dx}\\psi(x)$\n",
    "\n",
    "4) Rewriting to equate to the original expression:\n",
    "\n",
    "$[V(x), P]\\psi(x) = i\\hbar\\frac{dV(x)}{dx}\\psi(x)$\n",
    "\n",
    "$\\equiv$\n",
    "\n",
    "$[V(x), P] = i\\hbar\\frac{dV(x)}{dx}$\n",
    "\n",
    "$\\square$\n"
   ]
  }
 ],
 "metadata": {
  "language_info": {
   "name": "python"
  }
 },
 "nbformat": 4,
 "nbformat_minor": 2
}
