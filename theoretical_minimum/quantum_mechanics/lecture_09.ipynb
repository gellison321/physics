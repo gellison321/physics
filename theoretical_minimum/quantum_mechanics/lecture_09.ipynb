{
 "cells": [
  {
   "cell_type": "markdown",
   "metadata": {},
   "source": [
    "# Exercise 9.1\n",
    "\n",
    "\n",
    "Plug $\\psi(x) = e^{\\frac{ipx}{\\hbar}}$ into $-\\frac{\\hbar^2}{2m}\\frac{\\partial^2\\psi(x)}{\\partial x^2} = E\\psi(x)$ to verify that $E = \\frac{p^2}{2m}$"
   ]
  },
  {
   "cell_type": "markdown",
   "metadata": {},
   "source": [
    "$-\\frac{\\hbar^2}{2m}\\frac{\\partial^2 e^{\\frac{ipx}{\\hbar}}}{\\partial x^2} = Ee^{\\frac{ipx}{\\hbar}}$ \n",
    "\n",
    "$\\equiv$\n",
    "\n",
    "$-\\frac{ip}{\\hbar}\\frac{\\hbar^2}{2m}\\frac{ \\partial e^{\\frac{ipx}{\\hbar}}}{\\partial x} = Ee^{\\frac{ipx}{\\hbar}}$ \n",
    "\n",
    "$\\equiv$\n",
    "\n",
    "$-(\\frac{ip}{\\hbar})^2\\frac{\\hbar^2}{2m}e^{\\frac{ipx}{\\hbar}} = E e^{\\frac{ipx}{\\hbar}}$\n",
    "\n",
    "$\\equiv$\n",
    "\n",
    "$E = \\frac{p^2}{2m}$\n",
    "\n",
    "$\\square$"
   ]
  }
 ],
 "metadata": {
  "language_info": {
   "name": "python"
  }
 },
 "nbformat": 4,
 "nbformat_minor": 2
}
