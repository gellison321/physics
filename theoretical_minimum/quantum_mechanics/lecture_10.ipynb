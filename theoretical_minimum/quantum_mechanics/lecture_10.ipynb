{
 "cells": [
  {
   "cell_type": "markdown",
   "metadata": {},
   "source": [
    "# Exercise 10.1\n",
    "\n",
    "Find the second time derivative of $x = A\\cos(wt) + B\\sin(wt)$ and show that it's the solution to $-w^2x = \\ddot{x}$"
   ]
  },
  {
   "cell_type": "markdown",
   "metadata": {},
   "source": [
    "$\\dot{x} = -wAsin(wt) + wBcos(wt)$\n",
    "\n",
    "$\\ddot{x} = -w^2Acos(wt) -w^2Bsin(wt)$\n",
    "\n",
    "$-w^2[Acos(wt) + Bsin(wt)] = -w^2Acos(wt) -w^2Bsin(wt)$"
   ]
  }
 ],
 "metadata": {
  "language_info": {
   "name": "python"
  }
 },
 "nbformat": 4,
 "nbformat_minor": 2
}
