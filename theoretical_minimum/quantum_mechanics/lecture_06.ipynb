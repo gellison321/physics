{
 "cells": [
  {
   "cell_type": "markdown",
   "metadata": {},
   "source": [
    "# Exercise 6.1\n",
    "\n",
    "Prove $P(a,b) = P_A(a)P_B(b) \\implies \\langle\\sigma_A\\sigma_B\\rangle = \\langle\\sigma_A\\rangle\\langle\\sigma_B\\rangle$, or in other words, if the probabilities factorize, then their correlation is zero."
   ]
  },
  {
   "cell_type": "markdown",
   "metadata": {},
   "source": [
    "Bayesian:\n",
    "\n",
    "$P(a,b) = P(a|b)P(b)$\n",
    "\n",
    "$P(a,b) = P(a)P(b) \\implies P(a|b) = P(a) \\iff a \\perp\\!\\!\\!\\perp b$\n",
    "\n",
    "$\\square$"
   ]
  },
  {
   "cell_type": "markdown",
   "metadata": {},
   "source": [
    "Expectation Values:\n",
    "\n",
    "$\\langle\\sigma_A\\sigma_B\\rangle = \\sum_a \\sum_b abP(a,b)$ \n",
    "\n",
    "$=\\sum_a aP(a) \\sum_b bP(b)$\n",
    "\n",
    "$= \\langle\\sigma_A\\rangle\\langle\\sigma_B\\rangle$\n",
    "\n",
    "$\\square$"
   ]
  },
  {
   "cell_type": "markdown",
   "metadata": {},
   "source": [
    "# Exercise 6.2\n",
    "\n",
    "Show that, if each individual state is normalized, then so too is the product state.\n",
    "\n",
    "$|product state\\rangle = \\{\\alpha_u|u\\} + \\alpha_d|d\\}\\} \\otimes \\{\\beta_u|u\\rangle + \\beta_d|d\\rangle\\}$"
   ]
  },
  {
   "cell_type": "markdown",
   "metadata": {},
   "source": [
    "Each individual state is normalized such that:\n",
    "\n",
    "$\\alpha_u^*\\alpha_u + \\alpha_d^*\\alpha_d = 1$\n",
    "\n",
    "$\\beta_u^*\\beta_u + \\beta_d^*\\beta_d = 1$"
   ]
  },
  {
   "cell_type": "markdown",
   "metadata": {},
   "source": [
    "So, assuming the product state maintains normalization without additional constraints:\n",
    "\n",
    "$\\alpha_u^*\\alpha_u\\beta_u^*\\beta_u + \\alpha_d^*\\alpha_d\\beta_d^*\\beta_d + \\alpha_u^*\\alpha_u\\beta_d^*\\beta_d + \\beta_u^*\\beta_u\\alpha_d^*\\alpha_d = 1$\n",
    "\n",
    "$\\alpha_u^*\\alpha_u[\\beta_u^*\\beta_u+\\beta_d^*\\beta_d] + \\alpha_d^*\\alpha_d[\\beta_d^*\\beta_d+\\beta_u^*\\beta_u] = \\alpha_u^*\\alpha_u + \\alpha_d^*\\alpha_d = 1$\n",
    "\n",
    "$\\square$"
   ]
  },
  {
   "cell_type": "markdown",
   "metadata": {},
   "source": [
    "# Exercise 6.3\n",
    "\n",
    "Prove that the state $|sing\\rangle$ cannot be written as a product state.\n",
    "\n",
    "$|sing\\rangle = \\frac{1}{\\sqrt{2}}(|ud\\rangle - |du\\rangle)$"
   ]
  },
  {
   "cell_type": "markdown",
   "metadata": {},
   "source": [
    "This is a general linear combination of the state vectors from each Alice and Bob:\n",
    "\n",
    "$|general state\\rangle = \\psi_{uu}^*\\psi_{uu}|uu\\rangle + \\psi_{ud}^*\\psi_{ud}|ud\\rangle + \\psi_{du}^*\\psi_{du}|du\\rangle + \\psi_{dd}^*\\psi_{dd}|dd\\rangle$\n",
    "\n",
    "Subject to the normalization condition:\n",
    "\n",
    "$\\psi_{uu}^*\\psi_{uu} + \\psi_{ud}^*\\psi_{ud} + \\psi_{du}^*\\psi_{du} + \\psi_{dd}^*\\psi_{dd} = 1$"
   ]
  },
  {
   "cell_type": "markdown",
   "metadata": {},
   "source": [
    "A product state forms a combination:\n",
    "\n",
    "$\\alpha_u\\beta_u|uu\\rangle + \\alpha_u\\beta_d|ud\\rangle + \\alpha_d\\beta_u|ud\\rangle + \\alpha_d\\beta_d|dd\\rangle$\n",
    "\n",
    "Subject to the normalizations:\n",
    "\n",
    "$\\alpha_u^*\\alpha_u + \\alpha_d^*\\alpha_d = 1$\n",
    "\n",
    "$\\beta_u^*\\beta_u + \\beta_d^*\\beta_d = 1$\n"
   ]
  },
  {
   "cell_type": "markdown",
   "metadata": {},
   "source": [
    "Assume $|sing\\rangle$ is a product state.\n",
    "\n",
    "$\\implies \\alpha_u\\beta_d = \\frac{1}{\\sqrt{2}}$ and $\\alpha_d\\beta_u = -\\frac{1}{\\sqrt{2}}$ and $\\alpha_u\\beta_u = 0$ and $\\alpha_d\\beta_d = 0$\n",
    "\n",
    "$\\alpha_u\\beta_u = 0 \\implies \\alpha_u = 0$ or $\\beta_u = 0$ Which contradicts $\\alpha_u\\beta_d|ud\\rangle = \\frac{1}{\\sqrt{2}}$\n",
    "\n",
    "$\\square$\n"
   ]
  },
  {
   "cell_type": "markdown",
   "metadata": {},
   "source": [
    "# Exercise 6.4\n",
    "\n",
    "Use the matrix forms of $\\sigma_z$, $\\sigma_x$, and $\\sigma_y$, and the columns vectors, $|u\\rangle$ and $|d\\rangle$ to verify equations 6.6."
   ]
  },
  {
   "cell_type": "code",
   "execution_count": 4,
   "metadata": {},
   "outputs": [
    {
     "data": {
      "text/latex": [
       "$\\displaystyle \\sigma_z = \\begin{pmatrix}1.0 & 0.0 \\\\ 0.0 & -1.0\\end{pmatrix}$"
      ],
      "text/plain": [
       "<IPython.core.display.Math object>"
      ]
     },
     "metadata": {},
     "output_type": "display_data"
    },
    {
     "data": {
      "text/latex": [
       "$\\displaystyle \\sigma_x = \\begin{pmatrix}0.0 & 1.0 \\\\ 1.0 & 0.0\\end{pmatrix}$"
      ],
      "text/plain": [
       "<IPython.core.display.Math object>"
      ]
     },
     "metadata": {},
     "output_type": "display_data"
    },
    {
     "data": {
      "text/latex": [
       "$\\displaystyle \\sigma_y = \\begin{pmatrix}0.0 & -i \\\\ i & 0.0\\end{pmatrix}$"
      ],
      "text/plain": [
       "<IPython.core.display.Math object>"
      ]
     },
     "metadata": {},
     "output_type": "display_data"
    },
    {
     "data": {
      "text/latex": [
       "$\\displaystyle |u) =\\begin{pmatrix}1.0 \\\\ 0.0\\end{pmatrix}$"
      ],
      "text/plain": [
       "<IPython.core.display.Math object>"
      ]
     },
     "metadata": {},
     "output_type": "display_data"
    },
    {
     "data": {
      "text/latex": [
       "$\\displaystyle |d) =\\begin{pmatrix}0.0 \\\\ 1.0\\end{pmatrix}$"
      ],
      "text/plain": [
       "<IPython.core.display.Math object>"
      ]
     },
     "metadata": {},
     "output_type": "display_data"
    }
   ],
   "source": [
    "# best done in python\n",
    "\n",
    "from utils import *\n",
    "\n",
    "for m in sigma:\n",
    "    display(Math(f'\\sigma_{m} = '+ numpy_array_to_latex(sigma[m])))\n",
    "\n",
    "for ss in spin:\n",
    "    display(Math(f'|{ss}) =' + numpy_array_to_latex(spin[ss])))\n"
   ]
  },
  {
   "cell_type": "code",
   "execution_count": 5,
   "metadata": {},
   "outputs": [
    {
     "data": {
      "text/latex": [
       "$\\displaystyle z|u) = \\begin{pmatrix}1.0 \\\\ 0.0\\end{pmatrix}$"
      ],
      "text/plain": [
       "<IPython.core.display.Math object>"
      ]
     },
     "metadata": {},
     "output_type": "display_data"
    },
    {
     "data": {
      "text/latex": [
       "$\\displaystyle z|d) = \\begin{pmatrix}0.0 \\\\ -1.0\\end{pmatrix}$"
      ],
      "text/plain": [
       "<IPython.core.display.Math object>"
      ]
     },
     "metadata": {},
     "output_type": "display_data"
    },
    {
     "data": {
      "text/latex": [
       "$\\displaystyle x|u) = \\begin{pmatrix}0.0 \\\\ 1.0\\end{pmatrix}$"
      ],
      "text/plain": [
       "<IPython.core.display.Math object>"
      ]
     },
     "metadata": {},
     "output_type": "display_data"
    },
    {
     "data": {
      "text/latex": [
       "$\\displaystyle x|d) = \\begin{pmatrix}1.0 \\\\ 0.0\\end{pmatrix}$"
      ],
      "text/plain": [
       "<IPython.core.display.Math object>"
      ]
     },
     "metadata": {},
     "output_type": "display_data"
    },
    {
     "data": {
      "text/latex": [
       "$\\displaystyle y|u) = \\begin{pmatrix}0.0 \\\\ i\\end{pmatrix}$"
      ],
      "text/plain": [
       "<IPython.core.display.Math object>"
      ]
     },
     "metadata": {},
     "output_type": "display_data"
    },
    {
     "data": {
      "text/latex": [
       "$\\displaystyle y|d) = \\begin{pmatrix}-i \\\\ 0.0\\end{pmatrix}$"
      ],
      "text/plain": [
       "<IPython.core.display.Math object>"
      ]
     },
     "metadata": {},
     "output_type": "display_data"
    }
   ],
   "source": [
    "for m in sigma:\n",
    "    for ss in spin:\n",
    "        display(Math(f'{m}|{ss}) = ' + numpy_array_to_latex(np.matmul(sigma[m], spin[ss]))))"
   ]
  },
  {
   "cell_type": "markdown",
   "metadata": {},
   "source": [
    "Use equations 6.6 and 6.7 to write out all of the equations 6.8"
   ]
  },
  {
   "cell_type": "code",
   "execution_count": 6,
   "metadata": {},
   "outputs": [
    {
     "data": {
      "text/latex": [
       "$\\displaystyle z|uu) = \\begin{pmatrix}1.0 & 1.0 \\\\ 0.0 & 0.0\\end{pmatrix}$"
      ],
      "text/plain": [
       "<IPython.core.display.Math object>"
      ]
     },
     "metadata": {},
     "output_type": "display_data"
    },
    {
     "data": {
      "text/latex": [
       "$\\displaystyle z|ud) = \\begin{pmatrix}1.0 & 0.0 \\\\ 0.0 & -1.0\\end{pmatrix}$"
      ],
      "text/plain": [
       "<IPython.core.display.Math object>"
      ]
     },
     "metadata": {},
     "output_type": "display_data"
    },
    {
     "data": {
      "text/latex": [
       "$\\displaystyle z|du) = \\begin{pmatrix}0.0 & 1.0 \\\\ -1.0 & 0.0\\end{pmatrix}$"
      ],
      "text/plain": [
       "<IPython.core.display.Math object>"
      ]
     },
     "metadata": {},
     "output_type": "display_data"
    },
    {
     "data": {
      "text/latex": [
       "$\\displaystyle z|dd) = \\begin{pmatrix}0.0 & 0.0 \\\\ -1.0 & -1.0\\end{pmatrix}$"
      ],
      "text/plain": [
       "<IPython.core.display.Math object>"
      ]
     },
     "metadata": {},
     "output_type": "display_data"
    },
    {
     "data": {
      "text/latex": [
       "$\\displaystyle x|uu) = \\begin{pmatrix}0.0 & 0.0 \\\\ 1.0 & 1.0\\end{pmatrix}$"
      ],
      "text/plain": [
       "<IPython.core.display.Math object>"
      ]
     },
     "metadata": {},
     "output_type": "display_data"
    },
    {
     "data": {
      "text/latex": [
       "$\\displaystyle x|ud) = \\begin{pmatrix}0.0 & 1.0 \\\\ 1.0 & 0.0\\end{pmatrix}$"
      ],
      "text/plain": [
       "<IPython.core.display.Math object>"
      ]
     },
     "metadata": {},
     "output_type": "display_data"
    },
    {
     "data": {
      "text/latex": [
       "$\\displaystyle x|du) = \\begin{pmatrix}1.0 & 0.0 \\\\ 0.0 & 1.0\\end{pmatrix}$"
      ],
      "text/plain": [
       "<IPython.core.display.Math object>"
      ]
     },
     "metadata": {},
     "output_type": "display_data"
    },
    {
     "data": {
      "text/latex": [
       "$\\displaystyle x|dd) = \\begin{pmatrix}1.0 & 1.0 \\\\ 0.0 & 0.0\\end{pmatrix}$"
      ],
      "text/plain": [
       "<IPython.core.display.Math object>"
      ]
     },
     "metadata": {},
     "output_type": "display_data"
    },
    {
     "data": {
      "text/latex": [
       "$\\displaystyle y|uu) = \\begin{pmatrix}0.0 & 0.0 \\\\ i & i\\end{pmatrix}$"
      ],
      "text/plain": [
       "<IPython.core.display.Math object>"
      ]
     },
     "metadata": {},
     "output_type": "display_data"
    },
    {
     "data": {
      "text/latex": [
       "$\\displaystyle y|ud) = \\begin{pmatrix}0.0 & -i \\\\ i & 0.0\\end{pmatrix}$"
      ],
      "text/plain": [
       "<IPython.core.display.Math object>"
      ]
     },
     "metadata": {},
     "output_type": "display_data"
    },
    {
     "data": {
      "text/latex": [
       "$\\displaystyle y|du) = \\begin{pmatrix}-i & 0.0 \\\\ 0.0 & i\\end{pmatrix}$"
      ],
      "text/plain": [
       "<IPython.core.display.Math object>"
      ]
     },
     "metadata": {},
     "output_type": "display_data"
    },
    {
     "data": {
      "text/latex": [
       "$\\displaystyle y|dd) = \\begin{pmatrix}-i & -i \\\\ 0.0 & 0.0\\end{pmatrix}$"
      ],
      "text/plain": [
       "<IPython.core.display.Math object>"
      ]
     },
     "metadata": {},
     "output_type": "display_data"
    }
   ],
   "source": [
    "# more matrix multiplication - using Python + Latex is fun\n",
    "\n",
    "for m in sigma:\n",
    "    for ss1 in spin:\n",
    "        for ss2 in spin:\n",
    "            # we can see explicitly here that |uu) is really just a concatenation of both column vectors, to which the linear operator will apply\n",
    "            combined_state = np.concatenate([spin[ss1], spin[ss2]], axis=1)\n",
    "            display(Math(f'{m}|{ss1}{ss2}) = ' + numpy_array_to_latex(np.matmul(sigma[m], combined_state))))\n"
   ]
  },
  {
   "cell_type": "code",
   "execution_count": null,
   "metadata": {},
   "outputs": [],
   "source": []
  }
 ],
 "metadata": {
  "kernelspec": {
   "display_name": "phypy",
   "language": "python",
   "name": "python3"
  },
  "language_info": {
   "codemirror_mode": {
    "name": "ipython",
    "version": 3
   },
   "file_extension": ".py",
   "mimetype": "text/x-python",
   "name": "python",
   "nbconvert_exporter": "python",
   "pygments_lexer": "ipython3",
   "version": "3.11.7"
  }
 },
 "nbformat": 4,
 "nbformat_minor": 2
}
