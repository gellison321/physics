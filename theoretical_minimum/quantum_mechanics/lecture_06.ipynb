{
 "cells": [
  {
   "cell_type": "markdown",
   "metadata": {},
   "source": [
    "# Exercise 6.1\n",
    "\n",
    "Prove $P(a,b) = P_A(a)P_B(b) \\implies \\langle\\sigma_A\\sigma_B\\rangle = \\langle\\sigma_A\\rangle\\langle\\sigma_B\\rangle$, or in other words, if the probabilities factorize, then their correlation is zero."
   ]
  },
  {
   "cell_type": "markdown",
   "metadata": {},
   "source": [
    "Bayesian:\n",
    "\n",
    "$P(a,b) = P(a|b)P(b)$\n",
    "\n",
    "$P(a,b) = P(a)P(b) \\implies P(a|b) = P(a) \\iff a \\perp\\!\\!\\!\\perp b$\n",
    "\n",
    "$\\square$"
   ]
  },
  {
   "cell_type": "markdown",
   "metadata": {},
   "source": [
    "Expectation Values:\n",
    "\n",
    "$\\langle\\sigma_A\\sigma_B\\rangle = \\sum_a \\sum_b abP(a,b)$ \n",
    "\n",
    "$=\\sum_a aP(a) \\sum_b bP(b)$\n",
    "\n",
    "$= \\langle\\sigma_A\\rangle\\langle\\sigma_B\\rangle$\n",
    "\n",
    "$\\square$"
   ]
  },
  {
   "cell_type": "markdown",
   "metadata": {},
   "source": [
    "# Exercise 6.2\n",
    "\n",
    "Show that, if each individual state is normalized, then so too is the product state.\n",
    "\n",
    "$|product state\\rangle = \\{\\alpha_u|u\\} + \\alpha_d|d\\}\\} \\otimes \\{\\beta_u|u\\rangle + \\beta_d|d\\rangle\\}$"
   ]
  },
  {
   "cell_type": "markdown",
   "metadata": {},
   "source": [
    "Each individual state is normalized such that:\n",
    "\n",
    "$\\alpha_u^*\\alpha_u + \\alpha_d^*\\alpha_d = 1$\n",
    "\n",
    "$\\beta_u^*\\beta_u + \\beta_d^*\\beta_d = 1$"
   ]
  },
  {
   "cell_type": "markdown",
   "metadata": {},
   "source": [
    "So, assuming the product state maintains normalization without additional constraints:\n",
    "\n",
    "$\\alpha_u^*\\alpha_u\\beta_u^*\\beta_u + \\alpha_d^*\\alpha_d\\beta_d^*\\beta_d + \\alpha_u^*\\alpha_u\\beta_d^*\\beta_d + \\beta_u^*\\beta_u\\alpha_d^*\\alpha_d = 1$\n",
    "\n",
    "$\\alpha_u^*\\alpha_u[\\beta_u^*\\beta_u+\\beta_d^*\\beta_d] + \\alpha_d^*\\alpha_d[\\beta_d^*\\beta_d+\\beta_u^*\\beta_u] = \\alpha_u^*\\alpha_u + \\alpha_d^*\\alpha_d = 1$\n",
    "\n",
    "$\\square$"
   ]
  },
  {
   "cell_type": "markdown",
   "metadata": {},
   "source": [
    "# Exercise 6.3\n",
    "\n",
    "Prove that the state $|sing\\rangle$ cannot be written as a product state.\n",
    "\n",
    "$|sing\\rangle = \\frac{1}{\\sqrt{2}}(|ud\\rangle - |du\\rangle)$"
   ]
  },
  {
   "cell_type": "markdown",
   "metadata": {},
   "source": [
    "This is a general linear combination of the state vectors from each Alice and Bob:\n",
    "\n",
    "$|general state\\rangle = \\psi_{uu}^*\\psi_{uu}|uu\\rangle + \\psi_{ud}^*\\psi_{ud}|ud\\rangle + \\psi_{du}^*\\psi_{du}|du\\rangle + \\psi_{dd}^*\\psi_{dd}|dd\\rangle$\n",
    "\n",
    "Subject to the normalization condition:\n",
    "\n",
    "$\\psi_{uu}^*\\psi_{uu} + \\psi_{ud}^*\\psi_{ud} + \\psi_{du}^*\\psi_{du} + \\psi_{dd}^*\\psi_{dd} = 1$"
   ]
  },
  {
   "cell_type": "markdown",
   "metadata": {},
   "source": [
    "A product state forms a combination:\n",
    "\n",
    "$\\alpha_u\\beta_u|uu\\rangle + \\alpha_u\\beta_d|ud\\rangle + \\alpha_d\\beta_u|ud\\rangle + \\alpha_d\\beta_d|dd\\rangle$\n",
    "\n",
    "Subject to the normalizations:\n",
    "\n",
    "$\\alpha_u^*\\alpha_u + \\alpha_d^*\\alpha_d = 1$\n",
    "\n",
    "$\\beta_u^*\\beta_u + \\beta_d^*\\beta_d = 1$\n"
   ]
  },
  {
   "cell_type": "markdown",
   "metadata": {},
   "source": [
    "Assume $|sing\\rangle$ is a product state.\n",
    "\n",
    "$\\implies \\alpha_u\\beta_d = \\frac{1}{\\sqrt{2}}$ and $\\alpha_d\\beta_u = -\\frac{1}{\\sqrt{2}}$ and $\\alpha_u\\beta_u = 0$ and $\\alpha_d\\beta_d = 0$\n",
    "\n",
    "$\\alpha_u\\beta_u = 0 \\implies \\alpha_u = 0$ or $\\beta_u = 0$ Which contradicts $\\alpha_u\\beta_d|ud\\rangle = \\frac{1}{\\sqrt{2}}$\n",
    "\n",
    "$\\square$\n"
   ]
  },
  {
   "cell_type": "markdown",
   "metadata": {},
   "source": [
    "# Exercise 6.4\n",
    "\n",
    "Use the matrix forms of $\\sigma_z$, $\\sigma_x$, and $\\sigma_y$, and the columns vectors, $|u\\rangle$ and $|d\\rangle$ to verify equations 6.6."
   ]
  },
  {
   "cell_type": "code",
   "execution_count": 1,
   "metadata": {},
   "outputs": [
    {
     "data": {
      "text/latex": [
       "$\\displaystyle \\sigma_z|u) = \\begin{pmatrix}1.0 \\\\ 0.0\\end{pmatrix}$"
      ],
      "text/plain": [
       "<IPython.core.display.Math object>"
      ]
     },
     "metadata": {},
     "output_type": "display_data"
    },
    {
     "data": {
      "text/latex": [
       "$\\displaystyle \\sigma_z|d) = \\begin{pmatrix}0.0 \\\\ -1.0\\end{pmatrix}$"
      ],
      "text/plain": [
       "<IPython.core.display.Math object>"
      ]
     },
     "metadata": {},
     "output_type": "display_data"
    },
    {
     "data": {
      "text/latex": [
       "$\\displaystyle \\sigma_x|u) = \\begin{pmatrix}0.0 \\\\ 1.0\\end{pmatrix}$"
      ],
      "text/plain": [
       "<IPython.core.display.Math object>"
      ]
     },
     "metadata": {},
     "output_type": "display_data"
    },
    {
     "data": {
      "text/latex": [
       "$\\displaystyle \\sigma_x|d) = \\begin{pmatrix}1.0 \\\\ 0.0\\end{pmatrix}$"
      ],
      "text/plain": [
       "<IPython.core.display.Math object>"
      ]
     },
     "metadata": {},
     "output_type": "display_data"
    },
    {
     "data": {
      "text/latex": [
       "$\\displaystyle \\sigma_y|u) = \\begin{pmatrix}0.0 \\\\ i\\end{pmatrix}$"
      ],
      "text/plain": [
       "<IPython.core.display.Math object>"
      ]
     },
     "metadata": {},
     "output_type": "display_data"
    },
    {
     "data": {
      "text/latex": [
       "$\\displaystyle \\sigma_y|d) = \\begin{pmatrix}-i \\\\ 0.0\\end{pmatrix}$"
      ],
      "text/plain": [
       "<IPython.core.display.Math object>"
      ]
     },
     "metadata": {},
     "output_type": "display_data"
    }
   ],
   "source": [
    "from utils import *\n",
    "\n",
    "for m in sigma:\n",
    "    for ss in spin:\n",
    "        result = sigma[m] @ spin[ss]\n",
    "        display(Math(f'\\sigma_{m}|{ss}) = ' + numpy_array_to_latex(result)))"
   ]
  },
  {
   "cell_type": "markdown",
   "metadata": {},
   "source": [
    "Use equations 6.6 and 6.7 to write out all of the equations 6.8"
   ]
  },
  {
   "cell_type": "code",
   "execution_count": 2,
   "metadata": {},
   "outputs": [
    {
     "data": {
      "text/latex": [
       "$\\displaystyle \\sigma_z|uu) = \\begin{pmatrix}1.0 & 1.0 \\\\ 0.0 & 0.0\\end{pmatrix}$"
      ],
      "text/plain": [
       "<IPython.core.display.Math object>"
      ]
     },
     "metadata": {},
     "output_type": "display_data"
    },
    {
     "data": {
      "text/latex": [
       "$\\displaystyle \\tau_z|uu) = \\begin{pmatrix}1.0 & 1.0 \\\\ 0.0 & 0.0\\end{pmatrix}$"
      ],
      "text/plain": [
       "<IPython.core.display.Math object>"
      ]
     },
     "metadata": {},
     "output_type": "display_data"
    },
    {
     "data": {
      "text/latex": [
       "$\\displaystyle \\sigma_z|ud) = \\begin{pmatrix}1.0 & 0.0 \\\\ 0.0 & 1.0\\end{pmatrix}$"
      ],
      "text/plain": [
       "<IPython.core.display.Math object>"
      ]
     },
     "metadata": {},
     "output_type": "display_data"
    },
    {
     "data": {
      "text/latex": [
       "$\\displaystyle \\tau_z|ud) = \\begin{pmatrix}1.0 & 0.0 \\\\ 0.0 & -1.0\\end{pmatrix}$"
      ],
      "text/plain": [
       "<IPython.core.display.Math object>"
      ]
     },
     "metadata": {},
     "output_type": "display_data"
    },
    {
     "data": {
      "text/latex": [
       "$\\displaystyle \\sigma_z|du) = \\begin{pmatrix}0.0 & 1.0 \\\\ -1.0 & 0.0\\end{pmatrix}$"
      ],
      "text/plain": [
       "<IPython.core.display.Math object>"
      ]
     },
     "metadata": {},
     "output_type": "display_data"
    },
    {
     "data": {
      "text/latex": [
       "$\\displaystyle \\tau_z|du) = \\begin{pmatrix}0.0 & 1.0 \\\\ 1.0 & 0.0\\end{pmatrix}$"
      ],
      "text/plain": [
       "<IPython.core.display.Math object>"
      ]
     },
     "metadata": {},
     "output_type": "display_data"
    },
    {
     "data": {
      "text/latex": [
       "$\\displaystyle \\sigma_z|dd) = \\begin{pmatrix}0.0 & 0.0 \\\\ -1.0 & 1.0\\end{pmatrix}$"
      ],
      "text/plain": [
       "<IPython.core.display.Math object>"
      ]
     },
     "metadata": {},
     "output_type": "display_data"
    },
    {
     "data": {
      "text/latex": [
       "$\\displaystyle \\tau_z|dd) = \\begin{pmatrix}0.0 & 0.0 \\\\ 1.0 & -1.0\\end{pmatrix}$"
      ],
      "text/plain": [
       "<IPython.core.display.Math object>"
      ]
     },
     "metadata": {},
     "output_type": "display_data"
    },
    {
     "data": {
      "text/latex": [
       "$\\displaystyle \\sigma_x|uu) = \\begin{pmatrix}0.0 & 1.0 \\\\ 1.0 & 0.0\\end{pmatrix}$"
      ],
      "text/plain": [
       "<IPython.core.display.Math object>"
      ]
     },
     "metadata": {},
     "output_type": "display_data"
    },
    {
     "data": {
      "text/latex": [
       "$\\displaystyle \\tau_x|uu) = \\begin{pmatrix}1.0 & 0.0 \\\\ 0.0 & 1.0\\end{pmatrix}$"
      ],
      "text/plain": [
       "<IPython.core.display.Math object>"
      ]
     },
     "metadata": {},
     "output_type": "display_data"
    },
    {
     "data": {
      "text/latex": [
       "$\\displaystyle \\sigma_x|ud) = \\begin{pmatrix}0.0 & 0.0 \\\\ 1.0 & 1.0\\end{pmatrix}$"
      ],
      "text/plain": [
       "<IPython.core.display.Math object>"
      ]
     },
     "metadata": {},
     "output_type": "display_data"
    },
    {
     "data": {
      "text/latex": [
       "$\\displaystyle \\tau_x|ud) = \\begin{pmatrix}1.0 & 1.0 \\\\ 0.0 & 0.0\\end{pmatrix}$"
      ],
      "text/plain": [
       "<IPython.core.display.Math object>"
      ]
     },
     "metadata": {},
     "output_type": "display_data"
    },
    {
     "data": {
      "text/latex": [
       "$\\displaystyle \\sigma_x|du) = \\begin{pmatrix}1.0 & 1.0 \\\\ 0.0 & 0.0\\end{pmatrix}$"
      ],
      "text/plain": [
       "<IPython.core.display.Math object>"
      ]
     },
     "metadata": {},
     "output_type": "display_data"
    },
    {
     "data": {
      "text/latex": [
       "$\\displaystyle \\tau_x|du) = \\begin{pmatrix}0.0 & 0.0 \\\\ 1.0 & 1.0\\end{pmatrix}$"
      ],
      "text/plain": [
       "<IPython.core.display.Math object>"
      ]
     },
     "metadata": {},
     "output_type": "display_data"
    },
    {
     "data": {
      "text/latex": [
       "$\\displaystyle \\sigma_x|dd) = \\begin{pmatrix}1.0 & 0.0 \\\\ 0.0 & 1.0\\end{pmatrix}$"
      ],
      "text/plain": [
       "<IPython.core.display.Math object>"
      ]
     },
     "metadata": {},
     "output_type": "display_data"
    },
    {
     "data": {
      "text/latex": [
       "$\\displaystyle \\tau_x|dd) = \\begin{pmatrix}0.0 & 1.0 \\\\ 1.0 & 0.0\\end{pmatrix}$"
      ],
      "text/plain": [
       "<IPython.core.display.Math object>"
      ]
     },
     "metadata": {},
     "output_type": "display_data"
    },
    {
     "data": {
      "text/latex": [
       "$\\displaystyle \\sigma_y|uu) = \\begin{pmatrix}0.0 & 1.0 \\\\ i & 0.0\\end{pmatrix}$"
      ],
      "text/plain": [
       "<IPython.core.display.Math object>"
      ]
     },
     "metadata": {},
     "output_type": "display_data"
    },
    {
     "data": {
      "text/latex": [
       "$\\displaystyle \\tau_y|uu) = \\begin{pmatrix}1.0 & 0.0 \\\\ 0.0 & i\\end{pmatrix}$"
      ],
      "text/plain": [
       "<IPython.core.display.Math object>"
      ]
     },
     "metadata": {},
     "output_type": "display_data"
    },
    {
     "data": {
      "text/latex": [
       "$\\displaystyle \\sigma_y|ud) = \\begin{pmatrix}0.0 & 0.0 \\\\ i & 1.0\\end{pmatrix}$"
      ],
      "text/plain": [
       "<IPython.core.display.Math object>"
      ]
     },
     "metadata": {},
     "output_type": "display_data"
    },
    {
     "data": {
      "text/latex": [
       "$\\displaystyle \\tau_y|ud) = \\begin{pmatrix}1.0 & -i \\\\ 0.0 & 0.0\\end{pmatrix}$"
      ],
      "text/plain": [
       "<IPython.core.display.Math object>"
      ]
     },
     "metadata": {},
     "output_type": "display_data"
    },
    {
     "data": {
      "text/latex": [
       "$\\displaystyle \\sigma_y|du) = \\begin{pmatrix}-i & 1.0 \\\\ 0.0 & 0.0\\end{pmatrix}$"
      ],
      "text/plain": [
       "<IPython.core.display.Math object>"
      ]
     },
     "metadata": {},
     "output_type": "display_data"
    },
    {
     "data": {
      "text/latex": [
       "$\\displaystyle \\tau_y|du) = \\begin{pmatrix}0.0 & 0.0 \\\\ 1.0 & i\\end{pmatrix}$"
      ],
      "text/plain": [
       "<IPython.core.display.Math object>"
      ]
     },
     "metadata": {},
     "output_type": "display_data"
    },
    {
     "data": {
      "text/latex": [
       "$\\displaystyle \\sigma_y|dd) = \\begin{pmatrix}-i & 0.0 \\\\ 0.0 & 1.0\\end{pmatrix}$"
      ],
      "text/plain": [
       "<IPython.core.display.Math object>"
      ]
     },
     "metadata": {},
     "output_type": "display_data"
    },
    {
     "data": {
      "text/latex": [
       "$\\displaystyle \\tau_y|dd) = \\begin{pmatrix}0.0 & -i \\\\ 1.0 & 0.0\\end{pmatrix}$"
      ],
      "text/plain": [
       "<IPython.core.display.Math object>"
      ]
     },
     "metadata": {},
     "output_type": "display_data"
    }
   ],
   "source": [
    "# more matrix multiplication - using Python + Latex is fun\n",
    "\n",
    "for m in sigma:\n",
    "    for ss1 in spin:\n",
    "        for ss2 in spin:\n",
    "\n",
    "            sigma_state = np.concatenate([sigma[m] @ spin[ss1], spin[ss2]], axis=1)\n",
    "            display(Math(f'\\sigma_{m}|{ss1}{ss2}) = ' + numpy_array_to_latex(sigma_state)))\n",
    "\n",
    "            tau_state = np.concatenate([spin[ss1], sigma[m] @ spin[ss2]], axis=1)\n",
    "            display(Math(f'\\\\tau_{m}|{ss1}{ss2}) = ' + numpy_array_to_latex(tau_state)))"
   ]
  },
  {
   "cell_type": "markdown",
   "metadata": {},
   "source": [
    "# Exercise 6.5\n",
    "\n",
    "Prove the following theorem: when any of Alice or Bob's spin operators acts on a product state, the result is still a product state.\n",
    "\n",
    "$|product state\\rangle = [\\alpha_u|u\\rangle + \\alpha_d|d\\rangle] \\otimes [\\beta_u|u\\rangle + \\beta_d|d\\rangle]$"
   ]
  },
  {
   "cell_type": "code",
   "execution_count": 72,
   "metadata": {},
   "outputs": [
    {
     "data": {
      "text/latex": [
       "$\\displaystyle p\\_state = \\begin{pmatrix}0.5 \\\\ 0.5 \\\\ 0.5 \\\\ 0.5\\end{pmatrix}$"
      ],
      "text/plain": [
       "<IPython.core.display.Math object>"
      ]
     },
     "metadata": {},
     "output_type": "display_data"
    },
    {
     "data": {
      "text/latex": [
       "$\\displaystyle \\sigma_z|p\\_state) = \\begin{pmatrix}0.5 \\\\ 0.5 \\\\ -0.5 \\\\ -0.5\\end{pmatrix}$"
      ],
      "text/plain": [
       "<IPython.core.display.Math object>"
      ]
     },
     "metadata": {},
     "output_type": "display_data"
    },
    {
     "data": {
      "text/latex": [
       "$\\displaystyle \\sigma_x|p\\_state) = \\begin{pmatrix}0.5 \\\\ 0.5 \\\\ 0.5 \\\\ 0.5\\end{pmatrix}$"
      ],
      "text/plain": [
       "<IPython.core.display.Math object>"
      ]
     },
     "metadata": {},
     "output_type": "display_data"
    },
    {
     "data": {
      "text/latex": [
       "$\\displaystyle \\sigma_y|p\\_state) = \\begin{pmatrix}-0.5i \\\\ -0.5i \\\\ 0.5i \\\\ 0.5i\\end{pmatrix}$"
      ],
      "text/plain": [
       "<IPython.core.display.Math object>"
      ]
     },
     "metadata": {},
     "output_type": "display_data"
    }
   ],
   "source": [
    "from qutip import *\n",
    "\n",
    "# constructing a product state: the .unit() implicitly normalizes the coefficients\n",
    "p_state = tensor((basis(2,0) + basis(2,1)).unit(), (basis(2,0) + basis(2,1)).unit())\n",
    "display(Math('p\\_state = ' + numpy_array_to_latex(np.array(p_state).round(1))))\n",
    "\n",
    "\n",
    "for m in sigma:\n",
    "\n",
    "    # have to construct the operator based on the tensor product of the og operator and the Idenity matrix\n",
    "    operator = tensor(Qobj(sigma[m]), qeye(2))\n",
    "\n",
    "    # voila\n",
    "    display(Math(f'\\sigma_{m}|p\\_state) = ' + numpy_array_to_latex(np.array(operator * p_state).round(1))))"
   ]
  },
  {
   "cell_type": "markdown",
   "metadata": {},
   "source": [
    "# Exercise 6.6\n",
    "\n",
    "Assume Charlie has prepared the two spins in the singlet state. This time, Bob measures $\\tau_y$ and Alice measures $\\sigma_x$. What is the expectation value of $\\sigma_x\\tau_y$?"
   ]
  },
  {
   "cell_type": "markdown",
   "metadata": {},
   "source": [
    "$\\langle\\sigma_x\\tau_y\\rangle = \\langle sing|\\sigma_x\\tau_y|sing\\rangle $\n",
    "\n",
    "$=\\langle sing|\\sigma_x\\tau_y|(|ud\\rangle -|du\\rangle)$\n",
    "\n",
    "$=\\langle sing|\\sigma_x|(-i|uu\\rangle -i|dd\\rangle)$\n",
    "\n",
    "$=\\langle sing||(-i|du\\rangle -i|ud\\rangle)$\n",
    "\n",
    "$=(\\langle ud| -\\langle du|)(-i|du\\rangle -i|ud\\rangle)$\n",
    "\n",
    "$=\\frac{1}{\\sqrt{2}}[-i\\langle ud|du\\rangle - i\\langle ud|ud\\rangle +i\\langle du|du\\rangle + i\\langle du|du\\rangle]$\n",
    "\n",
    "$=\\frac{-i}{\\sqrt{2}}[\\langle ud|du\\rangle + \\langle ud|ud\\rangle -\\langle du|du\\rangle - \\langle du|du\\rangle]$\n",
    "\n",
    "$=\\frac{-i}{\\sqrt{2}}[\\langle ud|du\\rangle + \\langle ud|ud\\rangle -\\langle du|du\\rangle - \\langle du|du\\rangle]$\n",
    "\n",
    "$=[0+1-1-0] = 0$"
   ]
  },
  {
   "cell_type": "markdown",
   "metadata": {},
   "source": [
    "What does this say about the correlation between the two measurements?\n",
    "\n",
    "$Correlation := \\langle\\sigma_x\\tau_y\\rangle - \\langle\\sigma_x\\rangle\\langle\\tau_y\\rangle$\n",
    "\n",
    "$=0-0\\cdot0 = 0$\n",
    "\n",
    "There is no correlation - what happens in one's system is independent of what happens in another (in a product state)."
   ]
  },
  {
   "cell_type": "code",
   "execution_count": null,
   "metadata": {},
   "outputs": [],
   "source": []
  }
 ],
 "metadata": {
  "kernelspec": {
   "display_name": "phypy",
   "language": "python",
   "name": "python3"
  },
  "language_info": {
   "codemirror_mode": {
    "name": "ipython",
    "version": 3
   },
   "file_extension": ".py",
   "mimetype": "text/x-python",
   "name": "python",
   "nbconvert_exporter": "python",
   "pygments_lexer": "ipython3",
   "version": "3.11.7"
  }
 },
 "nbformat": 4,
 "nbformat_minor": 2
}
