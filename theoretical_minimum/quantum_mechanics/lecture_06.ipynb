{
 "cells": [
  {
   "cell_type": "markdown",
   "metadata": {},
   "source": [
    "# Exercise 6.1\n",
    "\n",
    "Prove $P(a,b) = P_A(a)P_B(b) \\implies \\langle\\sigmaA\\sigmaB\\rangle = \\langle\\sigmaA\\rangle\\langle\\sigmaB\\rangle$, or in other words, if the probabilities factorize, then their correlation is zero."
   ]
  },
  {
   "cell_type": "markdown",
   "metadata": {},
   "source": [
    "Bayesian:\n",
    "\n",
    "$P(a,b) = P(a|b)P(b)$\n",
    "\n",
    "$P(a,b) = P(a)P(b) \\implies P(a|b) = P(a) \\iff a \\perp\\!\\!\\!\\perp b$\n",
    "\n",
    "$\\square$"
   ]
  },
  {
   "cell_type": "markdown",
   "metadata": {},
   "source": [
    "Expectation Values:\n",
    "\n",
    "$\\langle\\sigmaA\\sigmaB\\rangle = \\sum_a \\sum_b abP(a,b)$ \n",
    "\n",
    "$=\\sum_a aP(a) \\sum_b bP(b)$\n",
    "\n",
    "$= \\langle\\sigmaA\\rangle\\langle\\sigmaB\\rangle$\n",
    "\n",
    "$\\square$"
   ]
  },
  {
   "cell_type": "markdown",
   "metadata": {},
   "source": [
    "# Exercise 6.2\n",
    "\n",
    "Show that, if each individual state is normalized, then so too is the product state.\n",
    "\n",
    "$|product state\\rangle = \\{\\alpha_u|u\\} + \\alpha_d|d\\}\\} \\otimes \\{\\beta_u|u\\rangle + \\beta_d|d\\rangle\\}$"
   ]
  },
  {
   "cell_type": "markdown",
   "metadata": {},
   "source": [
    "Each individual state is normalized such that:\n",
    "\n",
    "$\\alpha_u^*\\alpha_u + \\alpha_d^*\\alpha_d = 1$\n",
    "\n",
    "$\\beta_u^*\\beta_u + \\beta_d^*\\beta_d = 1$"
   ]
  },
  {
   "cell_type": "markdown",
   "metadata": {},
   "source": [
    "So, assuming the product state maintains normalization without additional constraints:\n",
    "\n",
    "$\\alpha_u^*\\alpha_u\\beta_u^*\\beta_u + \\alpha_d^*\\alpha_d\\beta_d^*\\beta_d + \\alpha_u^*\\alpha_u\\beta_d^*\\beta_d + \\beta_u^*\\beta_u\\alpha_d^*\\alpha_d = 1$\n",
    "\n",
    "$\\alpha_u^*\\alpha_u[\\beta_u^*\\beta_u+\\beta_d^*\\beta_d] + \\alpha_d^*\\alpha_d[\\beta_d^*\\beta_d+\\beta_u^*\\beta_u] = \\alpha_u^*\\alpha_u + \\alpha_d^*\\alpha_d = 1$\n",
    "\n",
    "$\\square$"
   ]
  },
  {
   "cell_type": "markdown",
   "metadata": {},
   "source": [
    "# Exercise 6.3\n",
    "\n",
    "Prove that the state $|sing\\rangle$ cannot be written as a product state.\n",
    "\n",
    "$|sing\\rangle = \\frac{1}{\\sqrt{2}}(|ud\\rangle - |du\\rangle)$"
   ]
  },
  {
   "cell_type": "markdown",
   "metadata": {},
   "source": [
    "This is a general linear combination of the state vectors from each Alice and Bob:\n",
    "\n",
    "$|general state\\rangle = \\psi_{uu}^*\\psi_{uu}|uu\\rangle + \\psi_{ud}^*\\psi_{ud}|ud\\rangle + \\psi_{du}^*\\psi_{du}|du\\rangle + \\psi_{dd}^*\\psi_{dd}|dd\\rangle$\n",
    "\n",
    "Subject to the normalization condition:\n",
    "\n",
    "$\\psi_{uu}^*\\psi_{uu} + \\psi_{ud}^*\\psi_{ud} + \\psi_{du}^*\\psi_{du} + \\psi_{dd}^*\\psi_{dd} = 1$"
   ]
  },
  {
   "cell_type": "markdown",
   "metadata": {},
   "source": [
    "A product state forms a combination:\n",
    "\n",
    "$\\alpha_u\\beta_u|uu\\rangle + \\alpha_u\\beta_d|ud\\rangle + \\alpha_d\\beta_u|ud\\rangle + \\alpha_d\\beta_d|dd\\rangle$\n",
    "\n",
    "Subject to the normalizations:\n",
    "\n",
    "$\\alpha_u^*\\alpha_u + \\alpha_d^*\\alpha_d = 1$\n",
    "\n",
    "$\\beta_u^*\\beta_u + \\beta_d^*\\beta_d = 1$\n"
   ]
  },
  {
   "cell_type": "markdown",
   "metadata": {},
   "source": [
    "Assume $|sing\\rangle$ is a product state.\n",
    "\n",
    "$\\implies \\alpha_u\\beta_d = \\frac{1}{\\sqrt{2}}$ and $\\alpha_d\\beta_u = -\\frac{1}{\\sqrt{2}}$ and $\\alpha_u\\beta_u = 0$ and $\\alpha_d\\beta_d = 0$\n",
    "\n",
    "$\\alpha_u\\beta_u = 0 \\implies \\alpha_u = 0$ or $\\beta_u = 0$ Which contradicts $\\alpha_u\\beta_d|ud\\rangle = \\frac{1}{\\sqrt{2}}$\n",
    "\n",
    "$\\square$\n"
   ]
  },
  {
   "cell_type": "markdown",
   "metadata": {},
   "source": [
    "# Exercise 6.4\n",
    "\n",
    "Use the matrix forms of $\\sigmaz$, $\\sigmax$, and $\\sigmay$, and the columns vectors, $|u\\rangle$ and $|d\\rangle$ to verify equations 6.6."
   ]
  },
  {
   "cell_type": "code",
   "execution_count": 1,
   "metadata": {},
   "outputs": [
    {
     "data": {
      "text/latex": [
       "$\\displaystyle \\sigmaz|u) = \\begin{pmatrix}1.0 \\\\ 0.0\\end{pmatrix}$"
      ],
      "text/plain": [
       "<IPython.core.display.Math object>"
      ]
     },
     "metadata": {},
     "output_type": "display_data"
    },
    {
     "data": {
      "text/latex": [
       "$\\displaystyle \\sigmaz|d) = \\begin{pmatrix}0.0 \\\\ -1.0\\end{pmatrix}$"
      ],
      "text/plain": [
       "<IPython.core.display.Math object>"
      ]
     },
     "metadata": {},
     "output_type": "display_data"
    },
    {
     "data": {
      "text/latex": [
       "$\\displaystyle \\sigmax|u) = \\begin{pmatrix}0.0 \\\\ 1.0\\end{pmatrix}$"
      ],
      "text/plain": [
       "<IPython.core.display.Math object>"
      ]
     },
     "metadata": {},
     "output_type": "display_data"
    },
    {
     "data": {
      "text/latex": [
       "$\\displaystyle \\sigmax|d) = \\begin{pmatrix}1.0 \\\\ 0.0\\end{pmatrix}$"
      ],
      "text/plain": [
       "<IPython.core.display.Math object>"
      ]
     },
     "metadata": {},
     "output_type": "display_data"
    },
    {
     "data": {
      "text/latex": [
       "$\\displaystyle \\sigmay|u) = \\begin{pmatrix}0.0 \\\\ i\\end{pmatrix}$"
      ],
      "text/plain": [
       "<IPython.core.display.Math object>"
      ]
     },
     "metadata": {},
     "output_type": "display_data"
    },
    {
     "data": {
      "text/latex": [
       "$\\displaystyle \\sigmay|d) = \\begin{pmatrix}-i \\\\ 0.0\\end{pmatrix}$"
      ],
      "text/plain": [
       "<IPython.core.display.Math object>"
      ]
     },
     "metadata": {},
     "output_type": "display_data"
    }
   ],
   "source": [
    "from utils import *\n",
    "\n",
    "for m,ss in itertools.product(sigma, spin):\n",
    "    result = sigma[m] @ spin[ss]\n",
    "    display(Math(f'\\sigma{m}|{ss}) = ' + numpy_array_to_latex(result)))"
   ]
  },
  {
   "cell_type": "markdown",
   "metadata": {},
   "source": [
    "Use equations 6.6 and 6.7 to write out all of the equations 6.8"
   ]
  },
  {
   "cell_type": "code",
   "execution_count": 2,
   "metadata": {},
   "outputs": [
    {
     "data": {
      "text/latex": [
       "$\\displaystyle \\sigmaz|uu) = \\begin{pmatrix}1.0 & 1.0 \\\\ 0.0 & 0.0\\end{pmatrix}$"
      ],
      "text/plain": [
       "<IPython.core.display.Math object>"
      ]
     },
     "metadata": {},
     "output_type": "display_data"
    },
    {
     "data": {
      "text/latex": [
       "$\\displaystyle \\tau_z|uu) = \\begin{pmatrix}1.0 & 1.0 \\\\ 0.0 & 0.0\\end{pmatrix}$"
      ],
      "text/plain": [
       "<IPython.core.display.Math object>"
      ]
     },
     "metadata": {},
     "output_type": "display_data"
    },
    {
     "data": {
      "text/latex": [
       "$\\displaystyle \\sigmaz|ud) = \\begin{pmatrix}1.0 & 0.0 \\\\ 0.0 & 1.0\\end{pmatrix}$"
      ],
      "text/plain": [
       "<IPython.core.display.Math object>"
      ]
     },
     "metadata": {},
     "output_type": "display_data"
    },
    {
     "data": {
      "text/latex": [
       "$\\displaystyle \\tau_z|ud) = \\begin{pmatrix}1.0 & 0.0 \\\\ 0.0 & -1.0\\end{pmatrix}$"
      ],
      "text/plain": [
       "<IPython.core.display.Math object>"
      ]
     },
     "metadata": {},
     "output_type": "display_data"
    },
    {
     "data": {
      "text/latex": [
       "$\\displaystyle \\sigmaz|du) = \\begin{pmatrix}0.0 & 1.0 \\\\ -1.0 & 0.0\\end{pmatrix}$"
      ],
      "text/plain": [
       "<IPython.core.display.Math object>"
      ]
     },
     "metadata": {},
     "output_type": "display_data"
    },
    {
     "data": {
      "text/latex": [
       "$\\displaystyle \\tau_z|du) = \\begin{pmatrix}0.0 & 1.0 \\\\ 1.0 & 0.0\\end{pmatrix}$"
      ],
      "text/plain": [
       "<IPython.core.display.Math object>"
      ]
     },
     "metadata": {},
     "output_type": "display_data"
    },
    {
     "data": {
      "text/latex": [
       "$\\displaystyle \\sigmaz|dd) = \\begin{pmatrix}0.0 & 0.0 \\\\ -1.0 & 1.0\\end{pmatrix}$"
      ],
      "text/plain": [
       "<IPython.core.display.Math object>"
      ]
     },
     "metadata": {},
     "output_type": "display_data"
    },
    {
     "data": {
      "text/latex": [
       "$\\displaystyle \\tau_z|dd) = \\begin{pmatrix}0.0 & 0.0 \\\\ 1.0 & -1.0\\end{pmatrix}$"
      ],
      "text/plain": [
       "<IPython.core.display.Math object>"
      ]
     },
     "metadata": {},
     "output_type": "display_data"
    },
    {
     "data": {
      "text/latex": [
       "$\\displaystyle \\sigmax|uu) = \\begin{pmatrix}0.0 & 1.0 \\\\ 1.0 & 0.0\\end{pmatrix}$"
      ],
      "text/plain": [
       "<IPython.core.display.Math object>"
      ]
     },
     "metadata": {},
     "output_type": "display_data"
    },
    {
     "data": {
      "text/latex": [
       "$\\displaystyle \\tau_x|uu) = \\begin{pmatrix}1.0 & 0.0 \\\\ 0.0 & 1.0\\end{pmatrix}$"
      ],
      "text/plain": [
       "<IPython.core.display.Math object>"
      ]
     },
     "metadata": {},
     "output_type": "display_data"
    },
    {
     "data": {
      "text/latex": [
       "$\\displaystyle \\sigmax|ud) = \\begin{pmatrix}0.0 & 0.0 \\\\ 1.0 & 1.0\\end{pmatrix}$"
      ],
      "text/plain": [
       "<IPython.core.display.Math object>"
      ]
     },
     "metadata": {},
     "output_type": "display_data"
    },
    {
     "data": {
      "text/latex": [
       "$\\displaystyle \\tau_x|ud) = \\begin{pmatrix}1.0 & 1.0 \\\\ 0.0 & 0.0\\end{pmatrix}$"
      ],
      "text/plain": [
       "<IPython.core.display.Math object>"
      ]
     },
     "metadata": {},
     "output_type": "display_data"
    },
    {
     "data": {
      "text/latex": [
       "$\\displaystyle \\sigmax|du) = \\begin{pmatrix}1.0 & 1.0 \\\\ 0.0 & 0.0\\end{pmatrix}$"
      ],
      "text/plain": [
       "<IPython.core.display.Math object>"
      ]
     },
     "metadata": {},
     "output_type": "display_data"
    },
    {
     "data": {
      "text/latex": [
       "$\\displaystyle \\tau_x|du) = \\begin{pmatrix}0.0 & 0.0 \\\\ 1.0 & 1.0\\end{pmatrix}$"
      ],
      "text/plain": [
       "<IPython.core.display.Math object>"
      ]
     },
     "metadata": {},
     "output_type": "display_data"
    },
    {
     "data": {
      "text/latex": [
       "$\\displaystyle \\sigmax|dd) = \\begin{pmatrix}1.0 & 0.0 \\\\ 0.0 & 1.0\\end{pmatrix}$"
      ],
      "text/plain": [
       "<IPython.core.display.Math object>"
      ]
     },
     "metadata": {},
     "output_type": "display_data"
    },
    {
     "data": {
      "text/latex": [
       "$\\displaystyle \\tau_x|dd) = \\begin{pmatrix}0.0 & 1.0 \\\\ 1.0 & 0.0\\end{pmatrix}$"
      ],
      "text/plain": [
       "<IPython.core.display.Math object>"
      ]
     },
     "metadata": {},
     "output_type": "display_data"
    },
    {
     "data": {
      "text/latex": [
       "$\\displaystyle \\sigmay|uu) = \\begin{pmatrix}0.0 & 1.0 \\\\ i & 0.0\\end{pmatrix}$"
      ],
      "text/plain": [
       "<IPython.core.display.Math object>"
      ]
     },
     "metadata": {},
     "output_type": "display_data"
    },
    {
     "data": {
      "text/latex": [
       "$\\displaystyle \\tau_y|uu) = \\begin{pmatrix}1.0 & 0.0 \\\\ 0.0 & i\\end{pmatrix}$"
      ],
      "text/plain": [
       "<IPython.core.display.Math object>"
      ]
     },
     "metadata": {},
     "output_type": "display_data"
    },
    {
     "data": {
      "text/latex": [
       "$\\displaystyle \\sigmay|ud) = \\begin{pmatrix}0.0 & 0.0 \\\\ i & 1.0\\end{pmatrix}$"
      ],
      "text/plain": [
       "<IPython.core.display.Math object>"
      ]
     },
     "metadata": {},
     "output_type": "display_data"
    },
    {
     "data": {
      "text/latex": [
       "$\\displaystyle \\tau_y|ud) = \\begin{pmatrix}1.0 & -i \\\\ 0.0 & 0.0\\end{pmatrix}$"
      ],
      "text/plain": [
       "<IPython.core.display.Math object>"
      ]
     },
     "metadata": {},
     "output_type": "display_data"
    },
    {
     "data": {
      "text/latex": [
       "$\\displaystyle \\sigmay|du) = \\begin{pmatrix}-i & 1.0 \\\\ 0.0 & 0.0\\end{pmatrix}$"
      ],
      "text/plain": [
       "<IPython.core.display.Math object>"
      ]
     },
     "metadata": {},
     "output_type": "display_data"
    },
    {
     "data": {
      "text/latex": [
       "$\\displaystyle \\tau_y|du) = \\begin{pmatrix}0.0 & 0.0 \\\\ 1.0 & i\\end{pmatrix}$"
      ],
      "text/plain": [
       "<IPython.core.display.Math object>"
      ]
     },
     "metadata": {},
     "output_type": "display_data"
    },
    {
     "data": {
      "text/latex": [
       "$\\displaystyle \\sigmay|dd) = \\begin{pmatrix}-i & 0.0 \\\\ 0.0 & 1.0\\end{pmatrix}$"
      ],
      "text/plain": [
       "<IPython.core.display.Math object>"
      ]
     },
     "metadata": {},
     "output_type": "display_data"
    },
    {
     "data": {
      "text/latex": [
       "$\\displaystyle \\tau_y|dd) = \\begin{pmatrix}0.0 & -i \\\\ 1.0 & 0.0\\end{pmatrix}$"
      ],
      "text/plain": [
       "<IPython.core.display.Math object>"
      ]
     },
     "metadata": {},
     "output_type": "display_data"
    }
   ],
   "source": [
    "# more matrix multiplication - using Python + Latex is fun\n",
    "\n",
    "for m, ss1, ss2 in itertools.product(sigma, spin, spin):\n",
    "\n",
    "    sigmastate = np.concatenate([sigma[m] @ spin[ss1], spin[ss2]], axis=1)\n",
    "    display(Math(f'\\sigma{m}|{ss1}{ss2}) = ' + numpy_array_to_latex(sigmastate)))\n",
    "\n",
    "    tau_state = np.concatenate([spin[ss1], sigma[m] @ spin[ss2]], axis=1)\n",
    "    display(Math(f'\\\\tau_{m}|{ss1}{ss2}) = ' + numpy_array_to_latex(tau_state)))"
   ]
  },
  {
   "cell_type": "markdown",
   "metadata": {},
   "source": [
    "# Exercise 6.5\n",
    "\n",
    "Prove the following theorem: when any of Alice or Bob's spin operators acts on a product state, the result is still a product state.\n",
    "\n",
    "$|product state\\rangle = [\\alpha_u|u\\rangle + \\alpha_d|d\\rangle] \\otimes [\\beta_u|u\\rangle + \\beta_d|d\\rangle]$"
   ]
  },
  {
   "cell_type": "code",
   "execution_count": 3,
   "metadata": {},
   "outputs": [
    {
     "data": {
      "text/latex": [
       "$\\displaystyle p\\_state = \\begin{pmatrix}0.5 \\\\ 0.5 \\\\ 0.5 \\\\ 0.5\\end{pmatrix}$"
      ],
      "text/plain": [
       "<IPython.core.display.Math object>"
      ]
     },
     "metadata": {},
     "output_type": "display_data"
    },
    {
     "data": {
      "text/latex": [
       "$\\displaystyle \\sigmaz|p\\_state) = \\begin{pmatrix}0.5 \\\\ 0.5 \\\\ -0.5 \\\\ -0.5\\end{pmatrix}$"
      ],
      "text/plain": [
       "<IPython.core.display.Math object>"
      ]
     },
     "metadata": {},
     "output_type": "display_data"
    },
    {
     "data": {
      "text/latex": [
       "$\\displaystyle \\tau_z|p\\_state) = \\begin{pmatrix}0.5 \\\\ -0.5 \\\\ 0.5 \\\\ -0.5\\end{pmatrix}$"
      ],
      "text/plain": [
       "<IPython.core.display.Math object>"
      ]
     },
     "metadata": {},
     "output_type": "display_data"
    },
    {
     "data": {
      "text/latex": [
       "$\\displaystyle \\sigmax|p\\_state) = \\begin{pmatrix}0.5 \\\\ 0.5 \\\\ 0.5 \\\\ 0.5\\end{pmatrix}$"
      ],
      "text/plain": [
       "<IPython.core.display.Math object>"
      ]
     },
     "metadata": {},
     "output_type": "display_data"
    },
    {
     "data": {
      "text/latex": [
       "$\\displaystyle \\tau_x|p\\_state) = \\begin{pmatrix}0.5 \\\\ 0.5 \\\\ 0.5 \\\\ 0.5\\end{pmatrix}$"
      ],
      "text/plain": [
       "<IPython.core.display.Math object>"
      ]
     },
     "metadata": {},
     "output_type": "display_data"
    },
    {
     "data": {
      "text/latex": [
       "$\\displaystyle \\sigmay|p\\_state) = \\begin{pmatrix}-0.5i \\\\ -0.5i \\\\ 0.5i \\\\ 0.5i\\end{pmatrix}$"
      ],
      "text/plain": [
       "<IPython.core.display.Math object>"
      ]
     },
     "metadata": {},
     "output_type": "display_data"
    },
    {
     "data": {
      "text/latex": [
       "$\\displaystyle \\tau_y|p\\_state) = \\begin{pmatrix}-0.5i \\\\ 0.5i \\\\ -0.5i \\\\ 0.5i\\end{pmatrix}$"
      ],
      "text/plain": [
       "<IPython.core.display.Math object>"
      ]
     },
     "metadata": {},
     "output_type": "display_data"
    }
   ],
   "source": [
    "'''Above I was using the basic objects I built myself on top of Numpy. Rather than build \n",
    "   an entire quantum library, I will opt instead to use the QuTip library. Very useful.'''\n",
    "\n",
    "# constructing a product state: the .unit() implicitly normalizes the coefficients\n",
    "p_state = tensor((basis(2,0) + basis(2,1)).unit(), (basis(2,0) + basis(2,1)).unit())\n",
    "display(Math('p\\_state = ' + numpy_array_to_latex(np.array(p_state).round(1))))\n",
    "\n",
    "for m in sigma:\n",
    "\n",
    "    # acting on Alice's state\n",
    "    operator = tensor(Qobj(sigma[m]), qeye(2))\n",
    "    result = operator * p_state\n",
    "    display(Math(f'\\sigma{m}|p\\_state) = ' + numpy_array_to_latex(np.array(result).round(1))))\n",
    "\n",
    "    # given that we are using tensor products, the order of operation specifies which state the operator acts upon\n",
    "    # acting on Bob's state\n",
    "    operator = tensor(qeye(2), Qobj(sigma[m]))\n",
    "    result = operator * p_state\n",
    "    display(Math(f'\\\\tau_{m}|p\\_state) = ' + numpy_array_to_latex(np.array(result).round(1))))\n"
   ]
  },
  {
   "cell_type": "markdown",
   "metadata": {},
   "source": [
    "Indeed we can see that each vector adheres to the normalization condition."
   ]
  },
  {
   "cell_type": "markdown",
   "metadata": {},
   "source": [
    "# Exercise 6.6\n",
    "\n",
    "Assume Charlie has prepared the two spins in the singlet state. This time, Bob measures $\\tau_y$ and Alice measures $\\sigmax$. What is the expectation value of $\\sigmax\\tau_y$?"
   ]
  },
  {
   "cell_type": "markdown",
   "metadata": {},
   "source": [
    "$\\langle\\sigmax\\tau_y\\rangle = \\langle sing|\\sigmax\\tau_y|sing\\rangle $\n",
    "\n",
    "$=\\langle sing|\\sigmax\\tau_y|(|ud\\rangle -|du\\rangle)$\n",
    "\n",
    "$=\\langle sing|\\sigmax|(-i|uu\\rangle -i|dd\\rangle)$\n",
    "\n",
    "$=\\langle sing||(-i|du\\rangle -i|ud\\rangle)$\n",
    "\n",
    "$=(\\langle ud| -\\langle du|)(-i|du\\rangle -i|ud\\rangle)$\n",
    "\n",
    "$=\\frac{1}{\\sqrt{2}}[-i\\langle ud|du\\rangle - i\\langle ud|ud\\rangle +i\\langle du|du\\rangle + i\\langle du|du\\rangle]$\n",
    "\n",
    "$=\\frac{-i}{\\sqrt{2}}[\\langle ud|du\\rangle + \\langle ud|ud\\rangle -\\langle du|du\\rangle - \\langle du|du\\rangle]$\n",
    "\n",
    "$=\\frac{-i}{\\sqrt{2}}[\\langle ud|du\\rangle + \\langle ud|ud\\rangle -\\langle du|du\\rangle - \\langle du|du\\rangle]$\n",
    "\n",
    "$=[0+1-1-0] = 0$"
   ]
  },
  {
   "cell_type": "markdown",
   "metadata": {},
   "source": [
    "What does this say about the correlation between the two measurements?\n",
    "\n",
    "$Correlation := \\langle\\sigmax\\tau_y\\rangle - \\langle\\sigmax\\rangle\\langle\\tau_y\\rangle$\n",
    "\n",
    "$=0-0\\cdot0 = 0$\n",
    "\n",
    "There is no correlation - what happens in one's system is independent of what happens in another's (in a product state)."
   ]
  },
  {
   "cell_type": "code",
   "execution_count": 4,
   "metadata": {},
   "outputs": [
    {
     "data": {
      "text/latex": [
       "$\\displaystyle \\langle\\sigmax\\tau_y\\rangle = 0.0$"
      ],
      "text/plain": [
       "<IPython.core.display.Math object>"
      ]
     },
     "metadata": {},
     "output_type": "display_data"
    }
   ],
   "source": [
    "# qutip has a built-in singlet state\n",
    "result = expect(tensor(sigmax(), sigmay()), singlet_state())\n",
    "display(Math(f'\\langle\\sigmax\\\\tau_y\\\\rangle = ' + str(result)))"
   ]
  },
  {
   "cell_type": "markdown",
   "metadata": {},
   "source": [
    "# Exercise 6.7 \\& 6.8"
   ]
  },
  {
   "cell_type": "code",
   "execution_count": 5,
   "metadata": {},
   "outputs": [
    {
     "data": {
      "text/latex": [
       "$\\displaystyle \\sigmax\\tau_x|T_0\\rangle = 0$"
      ],
      "text/plain": [
       "<IPython.core.display.Math object>"
      ]
     },
     "metadata": {},
     "output_type": "display_data"
    },
    {
     "data": {
      "text/latex": [
       "$\\displaystyle \\sigmax\\tau_y|T_0\\rangle = 0$"
      ],
      "text/plain": [
       "<IPython.core.display.Math object>"
      ]
     },
     "metadata": {},
     "output_type": "display_data"
    },
    {
     "data": {
      "text/latex": [
       "$\\displaystyle \\sigmax\\tau_z|T_0\\rangle = 0$"
      ],
      "text/plain": [
       "<IPython.core.display.Math object>"
      ]
     },
     "metadata": {},
     "output_type": "display_data"
    },
    {
     "data": {
      "text/latex": [
       "$\\displaystyle \\sigmay\\tau_x|T_0\\rangle = 0$"
      ],
      "text/plain": [
       "<IPython.core.display.Math object>"
      ]
     },
     "metadata": {},
     "output_type": "display_data"
    },
    {
     "data": {
      "text/latex": [
       "$\\displaystyle \\sigmay\\tau_y|T_0\\rangle = 0$"
      ],
      "text/plain": [
       "<IPython.core.display.Math object>"
      ]
     },
     "metadata": {},
     "output_type": "display_data"
    },
    {
     "data": {
      "text/latex": [
       "$\\displaystyle \\sigmay\\tau_z|T_0\\rangle = 0$"
      ],
      "text/plain": [
       "<IPython.core.display.Math object>"
      ]
     },
     "metadata": {},
     "output_type": "display_data"
    },
    {
     "data": {
      "text/latex": [
       "$\\displaystyle \\sigmaz\\tau_x|T_0\\rangle = 0$"
      ],
      "text/plain": [
       "<IPython.core.display.Math object>"
      ]
     },
     "metadata": {},
     "output_type": "display_data"
    },
    {
     "data": {
      "text/latex": [
       "$\\displaystyle \\sigmaz\\tau_y|T_0\\rangle = 0$"
      ],
      "text/plain": [
       "<IPython.core.display.Math object>"
      ]
     },
     "metadata": {},
     "output_type": "display_data"
    },
    {
     "data": {
      "text/latex": [
       "$\\displaystyle \\sigmaz\\tau_z|T_0\\rangle = 1$"
      ],
      "text/plain": [
       "<IPython.core.display.Math object>"
      ]
     },
     "metadata": {},
     "output_type": "display_data"
    },
    {
     "data": {
      "text/latex": [
       "$\\displaystyle \\sigmax\\tau_x|T_1\\rangle = 1$"
      ],
      "text/plain": [
       "<IPython.core.display.Math object>"
      ]
     },
     "metadata": {},
     "output_type": "display_data"
    },
    {
     "data": {
      "text/latex": [
       "$\\displaystyle \\sigmax\\tau_y|T_1\\rangle = 0$"
      ],
      "text/plain": [
       "<IPython.core.display.Math object>"
      ]
     },
     "metadata": {},
     "output_type": "display_data"
    },
    {
     "data": {
      "text/latex": [
       "$\\displaystyle \\sigmax\\tau_z|T_1\\rangle = 0$"
      ],
      "text/plain": [
       "<IPython.core.display.Math object>"
      ]
     },
     "metadata": {},
     "output_type": "display_data"
    },
    {
     "data": {
      "text/latex": [
       "$\\displaystyle \\sigmay\\tau_x|T_1\\rangle = 0$"
      ],
      "text/plain": [
       "<IPython.core.display.Math object>"
      ]
     },
     "metadata": {},
     "output_type": "display_data"
    },
    {
     "data": {
      "text/latex": [
       "$\\displaystyle \\sigmay\\tau_y|T_1\\rangle = 1$"
      ],
      "text/plain": [
       "<IPython.core.display.Math object>"
      ]
     },
     "metadata": {},
     "output_type": "display_data"
    },
    {
     "data": {
      "text/latex": [
       "$\\displaystyle \\sigmay\\tau_z|T_1\\rangle = 0$"
      ],
      "text/plain": [
       "<IPython.core.display.Math object>"
      ]
     },
     "metadata": {},
     "output_type": "display_data"
    },
    {
     "data": {
      "text/latex": [
       "$\\displaystyle \\sigmaz\\tau_x|T_1\\rangle = 0$"
      ],
      "text/plain": [
       "<IPython.core.display.Math object>"
      ]
     },
     "metadata": {},
     "output_type": "display_data"
    },
    {
     "data": {
      "text/latex": [
       "$\\displaystyle \\sigmaz\\tau_y|T_1\\rangle = 0$"
      ],
      "text/plain": [
       "<IPython.core.display.Math object>"
      ]
     },
     "metadata": {},
     "output_type": "display_data"
    },
    {
     "data": {
      "text/latex": [
       "$\\displaystyle \\sigmaz\\tau_z|T_1\\rangle = -1$"
      ],
      "text/plain": [
       "<IPython.core.display.Math object>"
      ]
     },
     "metadata": {},
     "output_type": "display_data"
    },
    {
     "data": {
      "text/latex": [
       "$\\displaystyle \\sigmax\\tau_x|T_2\\rangle = 0$"
      ],
      "text/plain": [
       "<IPython.core.display.Math object>"
      ]
     },
     "metadata": {},
     "output_type": "display_data"
    },
    {
     "data": {
      "text/latex": [
       "$\\displaystyle \\sigmax\\tau_y|T_2\\rangle = 0$"
      ],
      "text/plain": [
       "<IPython.core.display.Math object>"
      ]
     },
     "metadata": {},
     "output_type": "display_data"
    },
    {
     "data": {
      "text/latex": [
       "$\\displaystyle \\sigmax\\tau_z|T_2\\rangle = 0$"
      ],
      "text/plain": [
       "<IPython.core.display.Math object>"
      ]
     },
     "metadata": {},
     "output_type": "display_data"
    },
    {
     "data": {
      "text/latex": [
       "$\\displaystyle \\sigmay\\tau_x|T_2\\rangle = 0$"
      ],
      "text/plain": [
       "<IPython.core.display.Math object>"
      ]
     },
     "metadata": {},
     "output_type": "display_data"
    },
    {
     "data": {
      "text/latex": [
       "$\\displaystyle \\sigmay\\tau_y|T_2\\rangle = 0$"
      ],
      "text/plain": [
       "<IPython.core.display.Math object>"
      ]
     },
     "metadata": {},
     "output_type": "display_data"
    },
    {
     "data": {
      "text/latex": [
       "$\\displaystyle \\sigmay\\tau_z|T_2\\rangle = 0$"
      ],
      "text/plain": [
       "<IPython.core.display.Math object>"
      ]
     },
     "metadata": {},
     "output_type": "display_data"
    },
    {
     "data": {
      "text/latex": [
       "$\\displaystyle \\sigmaz\\tau_x|T_2\\rangle = 0$"
      ],
      "text/plain": [
       "<IPython.core.display.Math object>"
      ]
     },
     "metadata": {},
     "output_type": "display_data"
    },
    {
     "data": {
      "text/latex": [
       "$\\displaystyle \\sigmaz\\tau_y|T_2\\rangle = 0$"
      ],
      "text/plain": [
       "<IPython.core.display.Math object>"
      ]
     },
     "metadata": {},
     "output_type": "display_data"
    },
    {
     "data": {
      "text/latex": [
       "$\\displaystyle \\sigmaz\\tau_z|T_2\\rangle = 1$"
      ],
      "text/plain": [
       "<IPython.core.display.Math object>"
      ]
     },
     "metadata": {},
     "output_type": "display_data"
    }
   ],
   "source": [
    "# reformatting the qutip functions for ease of displaying results in Latex\n",
    "trip = {f'T_{i}':ts for i, ts in enumerate(triplet_states())}\n",
    "ops = {'x': sigmax(),\n",
    "       'y': sigmay(),\n",
    "       'z': sigmaz()}\n",
    "\n",
    "for state,op1,op2 in itertools.product(trip, ops, ops):\n",
    "    result = expect(tensor(ops[op1], ops[op2]), trip[state])\n",
    "    display(Math(f'\\sigma{op1}\\\\tau_{op2}|{state}\\\\rangle = ' + str(round(result))))"
   ]
  },
  {
   "cell_type": "markdown",
   "metadata": {},
   "source": [
    "# Exercise 6.9\n",
    "\n",
    "Prove that $|sing\\rangle$, $|T_1\\rangle$, $T_2\\rangle$, and $|T_3\\rangle$ are all eigenvectors of $\\vec{\\sigma}\\cdot\\vec{\\tau}$. What are there eigenvalues?"
   ]
  },
  {
   "cell_type": "code",
   "execution_count": 6,
   "metadata": {},
   "outputs": [
    {
     "name": "stdout",
     "output_type": "stream",
     "text": [
      "[-3.  1.  1.  1.]\n"
     ]
    }
   ],
   "source": [
    "# construct sigma.tau, consisting of the tensor product of each of their components\n",
    "sigma = tensor(sigmax(), sigmax()) + tensor(sigmay(), sigmay()) + tensor(sigmaz(), sigmaz())\n",
    "\n",
    "# find their eigenstates\n",
    "e_vals, e_vecs = sigma.eigenstates()\n",
    "\n",
    "# collect each state in question\n",
    "states = [singlet_state()] + [state for state in triplet_states()]\n",
    "\n",
    "# assert that each state is in the list of eigenvectors\n",
    "for state in states:\n",
    "    assert np.any([np.isclose(state, e_vec) for e_vec in e_vecs])\n",
    "\n",
    "print(e_vals)"
   ]
  },
  {
   "cell_type": "markdown",
   "metadata": {},
   "source": [
    "# Exercise 6.10\n",
    "\n",
    "A system of two spins has the Hamiltonian $H = \\frac{w}{2} \\vec{\\sigma}\\cdot\\vec{\\tau}$\n",
    "\n",
    "What are the possible energies of the system and what are the eigenvectors?"
   ]
  },
  {
   "cell_type": "code",
   "execution_count": 7,
   "metadata": {},
   "outputs": [
    {
     "data": {
      "text/latex": [
       "$\\displaystyle E_0 = -1.5*w$"
      ],
      "text/plain": [
       "<IPython.core.display.Math object>"
      ]
     },
     "metadata": {},
     "output_type": "display_data"
    },
    {
     "data": {
      "text/latex": [
       "$\\displaystyle |E_0\\rangle = \\left[\\begin{matrix}0\\\\-1.0\\\\1.0\\\\0\\end{matrix}\\right]$"
      ],
      "text/plain": [
       "<IPython.core.display.Math object>"
      ]
     },
     "metadata": {},
     "output_type": "display_data"
    },
    {
     "data": {
      "text/latex": [
       "$\\displaystyle E_1 = 3$"
      ],
      "text/plain": [
       "<IPython.core.display.Math object>"
      ]
     },
     "metadata": {},
     "output_type": "display_data"
    },
    {
     "data": {
      "text/latex": [
       "$\\displaystyle |E_1\\rangle = \\left[\\begin{matrix}1.0\\\\0\\\\0\\\\0\\end{matrix}\\right]$"
      ],
      "text/plain": [
       "<IPython.core.display.Math object>"
      ]
     },
     "metadata": {},
     "output_type": "display_data"
    }
   ],
   "source": [
    "w = symbols('w')\n",
    "H = Matrix(sigma)*w/2\n",
    "\n",
    "for i, e_vec in enumerate(H.eigenvects()):\n",
    "    display(Math(f'E_{i} = ' + str(e_vec[i])))\n",
    "    display(Math(f'|E_{i}\\\\rangle = '+ latex(e_vec[2][0])))"
   ]
  },
  {
   "cell_type": "markdown",
   "metadata": {},
   "source": [
    "Suppose the system starts in the state $|uu\\rangle$. What is the state at any later time?"
   ]
  },
  {
   "cell_type": "code",
   "execution_count": 35,
   "metadata": {},
   "outputs": [
    {
     "data": {
      "text/latex": [
       "Quantum object: dims = [[2, 2], [1, 1]], shape = (4, 1), type = ket $ \\\\ \\left(\\begin{matrix}(0.969-0.248j)\\\\0.0\\\\0.0\\\\0.0\\\\\\end{matrix}\\right)$"
      ],
      "text/plain": [
       "Quantum object: dims = [[2, 2], [1, 1]], shape = (4, 1), type = ket\n",
       "Qobj data =\n",
       "[[0.96885051-0.2476463j]\n",
       " [0.        +0.j       ]\n",
       " [0.        +0.j       ]\n",
       " [0.        +0.j       ]]"
      ]
     },
     "execution_count": 35,
     "metadata": {},
     "output_type": "execute_result"
    }
   ],
   "source": [
    "# setting w = 1 for ease\n",
    "omega = 1.0 \n",
    "H = (omega / 4) * sigma\n",
    "\n",
    "# The initial state\n",
    "S_0 = tensor(basis(2,0), basis(2,0))\n",
    "\n",
    "# Solving the time-dependent Schrödinger equation\n",
    "T = np.linspace(0, 10, 1000)\n",
    "result = mesolve(H, S_0, T)\n",
    "\n",
    "# See the state at a future time\n",
    "result.states[100]\n"
   ]
  },
  {
   "cell_type": "code",
   "execution_count": 45,
   "metadata": {},
   "outputs": [
    {
     "data": {
      "image/png": "[encoded data removed]",
      "text/plain": [
       "<Figure size 1000x600 with 1 Axes>"
      ]
     },
     "metadata": {},
     "output_type": "display_data"
    }
   ],
   "source": [
    "# Here is a more interesting example with a modified initial state of \n",
    "\n",
    "observables = [tensor(sigmax(), qeye(2)), tensor(qeye(2), sigmax()),\n",
    "               tensor(sigmay(), qeye(2)), tensor(qeye(2), sigmay()),\n",
    "               tensor(sigmaz(), qeye(2)), tensor(qeye(2), sigmaz())]\n",
    "\n",
    "S_0 = tensor((basis(2, 0) + basis(2, 1)).unit(), (basis(2, 0) - basis(2, 1)).unit())\n",
    "\n",
    "result = mesolve(H, S_0, T, e_ops=observables)\n",
    "\n",
    "\n",
    "labels = ['Sigma_x1', 'Sigma_x2', 'Sigma_y1', 'Sigma_y2', 'Sigma_z1', 'Sigma_z2']\n",
    "colors = ['r', 'b', 'g', 'm', 'c', 'y']\n",
    "plt.figure(figsize=(10, 6))\n",
    "\n",
    "for i in range(len(observables)):\n",
    "    plt.plot(T, result.expect[i], label=labels[i], color=colors[i])\n",
    "\n",
    "\n",
    "plt.xlabel('Time')\n",
    "plt.ylabel('Expectation values')\n",
    "plt.title('Time Evolution of Spin Components (Expectation Values)')\n",
    "plt.legend()\n",
    "plt.grid(True)"
   ]
  },
  {
   "cell_type": "code",
   "execution_count": null,
   "metadata": {},
   "outputs": [],
   "source": []
  }
 ],
 "metadata": {
  "kernelspec": {
   "display_name": "phypy",
   "language": "python",
   "name": "python3"
  },
  "language_info": {
   "codemirror_mode": {
    "name": "ipython",
    "version": 3
   },
   "file_extension": ".py",
   "mimetype": "text/x-python",
   "name": "python",
   "nbconvert_exporter": "python",
   "pygments_lexer": "ipython3",
   "version": "3.11.7"
  }
 },
 "nbformat": 4,
 "nbformat_minor": 2
}
