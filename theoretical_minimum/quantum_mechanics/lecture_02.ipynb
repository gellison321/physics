{
 "cells": [
  {
   "cell_type": "code",
   "execution_count": 1,
   "metadata": {},
   "outputs": [],
   "source": [
    "import numpy as np, itertools\n",
    "from sympy.physics.quantum import *\n",
    "from qutip import *\n",
    "from sympy import *"
   ]
  },
  {
   "cell_type": "markdown",
   "metadata": {},
   "source": [
    "# Exercise 2.1"
   ]
  },
  {
   "cell_type": "markdown",
   "metadata": {},
   "source": [
    "Where \n",
    "\n",
    "$|r\\rangle = \\frac{1}{\\sqrt{2}}|u\\rangle + \\frac{1}{\\sqrt{2}}|d\\rangle$\n",
    "\n",
    "and \n",
    "\n",
    "$|l\\rangle = \\frac{1}{\\sqrt{2}}|u\\rangle - \\frac{1}{\\sqrt{2}}|d\\rangle$\n",
    "\n",
    "Prove that\n",
    "\n",
    "$|r\\rangle \\perp |l\\rangle$"
   ]
  },
  {
   "cell_type": "markdown",
   "metadata": {},
   "source": [
    "We know that if two vectors are orthogonal their inner product is 0.\n",
    "\n",
    "$|r\\rangle \\perp |l\\rangle \\iff \\langle r |l\\rangle = 0$\n",
    "\n",
    "$\\langle r |l\\rangle = \\frac{1}{\\sqrt{2}}\\frac{1}{\\sqrt{2}} - \\frac{1}{\\sqrt{2}}\\frac{1}{\\sqrt{2}} = 0$\n",
    "\n",
    "$\\square$"
   ]
  },
  {
   "cell_type": "markdown",
   "metadata": {},
   "source": [
    "# Exercise 2.2\n",
    "Where\n",
    "\n",
    "$|i\\rangle = \\frac{1}{\\sqrt{2}}|u\\rangle + \\frac{i}{\\sqrt{2}}|d\\rangle$\n",
    "\n",
    "$|o\\rangle = \\frac{1}{\\sqrt{2}}|u\\rangle - \\frac{i}{\\sqrt{2}}|d\\rangle$\n",
    "\n",
    "$|r\\rangle = \\frac{1}{\\sqrt{2}}|u\\rangle + \\frac{1}{\\sqrt{2}}|d\\rangle$\n",
    "\n",
    "$|l\\rangle = \\frac{1}{\\sqrt{2}}|u\\rangle - \\frac{1}{\\sqrt{2}}|d\\rangle$\n",
    "\n",
    "Prove that $|i\\rangle$ and $|o\\rangle$ satisfy the following conditions:\n",
    "\n",
    "$\\langle i|o\\rangle  = 0$\n",
    "\n",
    "2.8\n",
    "\n",
    "$\\langle o|u \\rangle \\langle u|o\\rangle = \\frac{1}{2}$\n",
    "\n",
    "$\\langle o|d \\rangle \\langle d|o \\rangle = \\frac{1}{2}$\n",
    "\n",
    "$\\langle i|u \\rangle \\langle u|i \\rangle= \\frac{1}{2}$\n",
    "\n",
    "$\\langle i|d \\rangle \\langle d|i \\rangle= \\frac{1}{2}$\n",
    "\n",
    "2.9\n",
    "\n",
    "$\\langle o|r \\rangle \\langle r|o\\rangle = \\frac{1}{2}$\n",
    "\n",
    "$\\langle o|l \\rangle \\langle l|o \\rangle = \\frac{1}{2}$\n",
    "\n",
    "$\\langle i|r \\rangle \\langle r|i \\rangle= \\frac{1}{2}$\n",
    "\n",
    "$\\langle i|l \\rangle \\langle l|i \\rangle= \\frac{1}{2}$\n"
   ]
  },
  {
   "cell_type": "code",
   "execution_count": 2,
   "metadata": {},
   "outputs": [
    {
     "name": "stdout",
     "output_type": "stream",
     "text": [
      "<i|u> = [[0.70710678+0.j]]\n",
      "<I|u><u|I> = [0.5+0.j]\n",
      "<I|d><d|I> = [0.5+0.j]\n",
      "<I|L><L|I> = [0.5+0.j]\n",
      "<I|R><R|I> = [0.5+0.j]\n",
      "<O|u><u|O> = [0.5+0.j]\n",
      "<O|d><d|O> = [0.5+0.j]\n",
      "<O|L><L|O> = [0.5+0.j]\n",
      "<O|R><R|O> = [0.5+0.j]\n"
     ]
    }
   ],
   "source": [
    "# The qutip library is useful for numerical calculations with quantum mechanics\n",
    "\n",
    "# Define the basis ket vectors\n",
    "space = {'u' : basis(2, 0), 'd' : basis(2, 1)}\n",
    "\n",
    " # Define other kets as linear combinations of the basis kets\n",
    "space['I'] = (space['u'] + 1j * space['d']).unit()\n",
    "space['O'] = (space['u'] - 1j * space['d']).unit()\n",
    "space['L'] = (space['u'] + space['d']).unit()\n",
    "space['R'] = (space['u'] - space['d']).unit()\n",
    "\n",
    "# Computing <i|o>\n",
    "inner_product = space['I'].dag() * space['u']\n",
    "print(f'<i|u> = {inner_product[0]}')\n",
    "\n",
    "# computing equations 2.8 and 2.9\n",
    "for pair in itertools.product(['I', 'O'], ['u', 'd', 'L', 'R']):\n",
    "    p1 = space[pair[0]].dag() * space[pair[1]]\n",
    "    p2 = space[pair[1]].dag() * space[pair[0]]\n",
    "    print(f'<{pair[0]}|{pair[1]}><{pair[1]}|{pair[0]}> = {p1*p2[0][0]}')"
   ]
  },
  {
   "cell_type": "markdown",
   "metadata": {},
   "source": [
    "# Exercise 2.3"
   ]
  },
  {
   "cell_type": "markdown",
   "metadata": {},
   "source": [
    "Where\n",
    "\n",
    "$|i\\rangle = \\alpha|u\\rangle + \\beta|d\\rangle$\n",
    "\n",
    "$|o\\rangle = \\gamma|u\\rangle + \\delta|d\\rangle$"
   ]
  },
  {
   "cell_type": "code",
   "execution_count": 3,
   "metadata": {},
   "outputs": [],
   "source": [
    "# sympy is more suitable for this symbolic computation\n",
    "\n",
    "# basis vectors\n",
    "u = Ket('u')\n",
    "d = Ket('d')\n",
    "\n",
    "\n",
    "strings = ['alpha', 'beta', 'gamma', 'delta']\n",
    "syms = {string : val for string, val in zip(strings, symbols(strings, real=True))}\n",
    "\n",
    "# Define the other kets as linear combinations of the basis kets\n",
    "I = syms['alpha']*u + syms['beta']*d\n",
    "O = syms['gamma']*u + syms['delta']*d\n",
    "\n",
    "conditions = {}\n",
    "solutions = {}\n",
    "\n",
    "# Normalization condition for any linear combination of the basis kets\n",
    "\n",
    "for pair in (('alpha', 'beta'), ('gamma', 'delta')):\n",
    "    conditions[f'{pair[0]}_{pair[1]}_norm'] = Eq(syms[pair[0]]**2 + syms[pair[1]]**2, 1)"
   ]
  },
  {
   "cell_type": "markdown",
   "metadata": {},
   "source": [
    "a)\n",
    "\n",
    "Use Eqs. 2.9 to show that\n",
    "\n",
    "$\\alpha^*\\alpha = \\beta^*\\beta = \\gamma^*\\gamma = \\delta^*\\delta = \\frac{1}{2}$"
   ]
  },
  {
   "cell_type": "code",
   "execution_count": 4,
   "metadata": {},
   "outputs": [],
   "source": [
    "# a)\n",
    "\n",
    "# EQs 2.8\n",
    "for sym in strings:\n",
    "    conditions[sym] = Eq(conjugate(syms[sym])*syms[sym], 1/2)\n",
    "\n",
    "for pair in (('alpha', 'beta'), ('gamma', 'delta')):\n",
    "    solutions[f'{pair[0]}'] = solve((conditions[pair[0]], conditions[f'{pair[0]}_{pair[1]}_norm']), (syms[pair[0]], syms[pair[1]]))\n",
    "    solutions[f'{pair[1]}'] = solve((conditions[pair[1]], conditions[f'{pair[0]}_{pair[1]}_norm']), (syms[pair[0]], syms[pair[1]]))\n",
    "\n",
    "for solution in ('alpha', 'beta', 'gamma', 'delta'):\n",
    "    s = solutions[solution]\n",
    "    assert round(s[0][0]*conjugate(s[0][1]),1) == 0.5"
   ]
  },
  {
   "cell_type": "markdown",
   "metadata": {},
   "source": [
    "b)\n",
    " \n",
    "Use a) and Eqs. 2.9 to show that\n",
    "\n",
    "$\\alpha^*\\beta + \\alpha\\beta^* = \\gamma^*\\delta + \\gamma\\delta^* = 0$"
   ]
  },
  {
   "cell_type": "code",
   "execution_count": 5,
   "metadata": {},
   "outputs": [],
   "source": [
    "# b)\n",
    "\n",
    "# EQs 2.9\n",
    "for pair in (('alpha', 'beta'), ('gamma', 'delta')):\n",
    "    condition = Eq(conjugate(syms[pair[0]])*syms[pair[1]] + syms[pair[0]]*conjugate(syms[pair[1]]), 0)\n",
    "    conditions[f'{pair[0]}_{pair[1]}'] = condition\n",
    "\n",
    "for pair in (('alpha', 'beta'), ('gamma', 'delta')):\n",
    "    solution = solve((conditions[f'{pair[0]}_{pair[1]}'], conditions[f'{pair[0]}_{pair[1]}_norm']), (syms[pair[0]], syms[pair[1]]))\n",
    "    solutions[f'{pair[0]}_{pair[1]}'] = solution\n",
    "\n",
    "\n",
    "for solution in ('alpha_beta', 'gamma_delta'):\n",
    "    s = solutions[solution]\n",
    "    assert round(s[0][0]*conjugate(s[0][1]),1) == 0.0\n"
   ]
  },
  {
   "cell_type": "markdown",
   "metadata": {},
   "source": [
    "c)\n",
    "\n",
    "Show that $\\alpha^*\\beta$ is a pure imaginary number\n",
    "\n",
    "We know that\n",
    "\n",
    "$\\alpha^*\\beta + \\alpha\\beta^* = 0$\n",
    "\n",
    "If we assume that $\\alpha$ and $\\beta$ are complex number of the form $\\alpha = a+ib$, then \n",
    "\n",
    "$\\alpha^*\\beta + \\alpha\\beta^* = 0 \\equiv 2a_{\\alpha}a_{\\beta} = 0$\n",
    "\n",
    "If $2a_{\\alpha}a_{\\beta} = 0$, then $a_{\\alpha}a_{\\beta} = 0$\n",
    "\n",
    "Which implictly states that the real part of $\\alpha^*\\beta$ and thus,$\\alpha^*\\beta$ is pure imaginary"
   ]
  },
  {
   "cell_type": "code",
   "execution_count": 6,
   "metadata": {},
   "outputs": [],
   "source": [
    "alpha, beta = symbols('alpha beta', complex=True)\n",
    "\n",
    "condition = Eq(conjugate(alpha)*beta + alpha*conjugate(beta), 0)\n",
    "norm = Eq(alpha**2 + beta**2, 1)\n",
    "\n",
    "solution = solve((condition,norm)), re(alpha*conjugate(beta))\n",
    "\n",
    "for s in solution[0]:\n",
    "    assert conjugate(s[alpha])*s[beta] == 0.0"
   ]
  }
 ],
 "metadata": {
  "kernelspec": {
   "display_name": "phypy",
   "language": "python",
   "name": "python3"
  },
  "language_info": {
   "codemirror_mode": {
    "name": "ipython",
    "version": 3
   },
   "file_extension": ".py",
   "mimetype": "text/x-python",
   "name": "python",
   "nbconvert_exporter": "python",
   "pygments_lexer": "ipython3",
   "version": "3.11.7"
  }
 },
 "nbformat": 4,
 "nbformat_minor": 2
}
