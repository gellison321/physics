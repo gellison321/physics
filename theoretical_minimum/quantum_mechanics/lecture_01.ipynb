{
 "cells": [
  {
   "cell_type": "code",
   "execution_count": 1,
   "metadata": {},
   "outputs": [],
   "source": [
    "from sympy.physics.quantum import Bra, Ket, Dagger, InnerProduct, OuterProduct\n",
    "from sympy import *"
   ]
  },
  {
   "cell_type": "markdown",
   "metadata": {},
   "source": [
    "# Exercise 1.1\n",
    "Prove $\\{ \\langle A| + \\langle Bx|\\}|C \\rangle = \\langle A|C \\rangle + \\langle B|C \\rangle$\n",
    "\n",
    "$\\{ \\langle A| + \\langle Bx|\\}|C \\rangle = \\langle C|\\{|A\\rangle + \\langle B|\\}$ ( Axiom 2)\n",
    "\n",
    "$ = \\langle C|A\\rangle^{\\star}  + \\langle C|B\\rangle^{\\star}$ (Axiom 1)\n",
    "\n",
    "$ = \\langle A|C\\rangle + \\langle B|C\\rangle$ (Axiom 2)\n",
    "\n",
    "$\\square$"
   ]
  },
  {
   "cell_type": "code",
   "execution_count": 2,
   "metadata": {},
   "outputs": [
    {
     "name": "stdout",
     "output_type": "stream",
     "text": [
      "(<A| + <B|)*|C>\n",
      "<A|*|C> + <B|*|C>\n",
      "QED\n"
     ]
    }
   ],
   "source": [
    "''' We can use the sympy quantum physics package to \n",
    "    prove the distributive property of the inner product.\n",
    "    \n",
    "    Our primary assumption is that sympy will use the \n",
    "    fundamental axioms of quantum physics'''\n",
    "\n",
    "# The kets\n",
    "ket_A = Ket('A')\n",
    "ket_B = Ket('B')\n",
    "ket_C = Ket('C')\n",
    "\n",
    "# The corresponding bras\n",
    "bra_A = Dagger(ket_A)\n",
    "bra_B = Dagger(ket_B)\n",
    "\n",
    "# The LHS\n",
    "expr = (bra_A + bra_B)*ket_C\n",
    "print(expr)\n",
    "\n",
    "# The .expand() method will expand the expression using the axioms, to give the RHS\n",
    "print(expr.expand())\n",
    "print('QED')"
   ]
  },
  {
   "cell_type": "markdown",
   "metadata": {},
   "source": [
    "Prove $\\langle A|A\\rangle$ is a real number\n",
    "\n",
    "$ x + iy = \\langle A|A\\rangle$\n",
    "\n",
    "$ = \\langle A|A\\rangle^{\\star}$ (Axiom 2)\n",
    "\n",
    "$ = x - iy$\n",
    "\n",
    "$\\implies 2iy = 0$\n",
    "\n",
    "$ \\implies y = 0$\n",
    "\n",
    "$\\implies \\langle A|A\\rangle \\in \\mathbb{C}$\n",
    "\n",
    "$\\square$"
   ]
  },
  {
   "cell_type": "code",
   "execution_count": 3,
   "metadata": {},
   "outputs": [
    {
     "name": "stdout",
     "output_type": "stream",
     "text": [
      "<A|A> = <A|A>\n"
     ]
    }
   ],
   "source": [
    "# |A>\n",
    "ketA = Ket('A')\n",
    "\n",
    "# <A|\n",
    "braA = Bra('A')\n",
    "\n",
    "# <A|A>\n",
    "inner_product_AA = InnerProduct(braA, ketA)\n",
    "\n",
    "# <A|A>*\n",
    "conjugate_inner_product_AA = conjugate(inner_product_AA)\n",
    "\n",
    "assert inner_product_AA == conjugate_inner_product_AA\n",
    "\n",
    "print(inner_product_AA, '=', conjugate_inner_product_AA)"
   ]
  },
  {
   "cell_type": "markdown",
   "metadata": {},
   "source": [
    "# Exercise 1.2\n",
    "Show that equation 1.2:\n",
    "\n",
    "$\\langle B|A\\rangle = \\beta_{1}^{\\star}\\alpha_{1} + \\beta_{2}^{\\star}\\alpha_{2} + \\dots + \\beta_{N}^{\\star}\\alpha_{N}$\n",
    "\n",
    "satisfies all of the axioms of inner products"
   ]
  },
  {
   "cell_type": "markdown",
   "metadata": {},
   "source": [
    "Axiom 1:\n",
    "\n",
    "$\\langle C|\\{|A\\rangle + |B\\rangle \\} = \\langle C|A \\rangle + \\langle C|B \\rangle$ (linearity)\n",
    "\n",
    "Equation 1.2 generalized...\n",
    "\n",
    "$\\langle B|A\\rangle = \\sum_{n=1}^{N} \\beta_{n}^{\\star}\\alpha_{n}$\n",
    "\n",
    "and applied to axiom 1\n",
    "\n",
    "$\\langle C|\\{|A\\rangle + |B\\rangle \\} = \\sum_{n=1}^{N} \\gamma_{n}^{\\star}(\\alpha_{n} + \\beta_{n})$\n",
    "\n",
    "$ =  \\sum_{n=1}^{N} \\gamma_{n}^{\\star}\\alpha_{n} + \\sum_{n=1}^{N} \\gamma_{n}^{\\star}\\beta_{n}$\n",
    "\n",
    "$ = \\langle C|A\\rangle + \\langle C|B\\rangle $\n",
    "\n",
    "$\\square$"
   ]
  },
  {
   "cell_type": "markdown",
   "metadata": {},
   "source": [
    "Axiom 2:\n",
    "\n",
    "$\\langle B|A\\rangle = \\langle A|B\\rangle^{\\star}$\n",
    "\n",
    "Generalized Eq 1.2:\n",
    "\n",
    "$\\langle B|A\\rangle = \\sum_{n=1}^{N} \\beta_{n}^{\\star}\\alpha_{n}$\n",
    "\n",
    "$\\langle A|B\\rangle^\\star = \\sum_{n=1}^{N} (\\alpha_n^\\star\\beta_n)^\\star$\n",
    "\n",
    "$= \\sum_{n=1}^{N} \\beta_n^\\star\\alpha_n$\n",
    "\n",
    "$\\square$\n"
   ]
  }
 ],
 "metadata": {
  "kernelspec": {
   "display_name": "phypy",
   "language": "python",
   "name": "python3"
  },
  "language_info": {
   "codemirror_mode": {
    "name": "ipython",
    "version": 3
   },
   "file_extension": ".py",
   "mimetype": "text/x-python",
   "name": "python",
   "nbconvert_exporter": "python",
   "pygments_lexer": "ipython3",
   "version": "3.11.7"
  }
 },
 "nbformat": 4,
 "nbformat_minor": 2
}
