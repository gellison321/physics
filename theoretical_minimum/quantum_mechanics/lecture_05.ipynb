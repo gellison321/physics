{
 "cells": [
  {
   "cell_type": "markdown",
   "metadata": {},
   "source": [
    "# Exercise 5.1\n",
    "\n",
    "Show that any $2\\times 2$ Hermitian matrix, $L$, can be written as a sum of the following four terms\n",
    "\n",
    "$L = a\\sigma_x + b\\sigma_y + c\\sigma_z +dI$"
   ]
  },
  {
   "cell_type": "markdown",
   "metadata": {},
   "source": [
    "Any Hermitian Matrix, $L$:\n",
    "\n",
    "$L = \\begin{pmatrix} \\alpha & \\beta \\\\ \\psi & \\phi \\end{pmatrix} = L^\\dagger = \\begin{pmatrix} \\alpha^* & \\psi^* \\\\ \\beta^* & \\phi^* \\end{pmatrix}$"
   ]
  },
  {
   "cell_type": "markdown",
   "metadata": {},
   "source": [
    "$\\alpha = c + d = \\alpha^*$\n",
    "\n",
    "$\\beta = a - bi = \\psi^*$\n",
    "\n",
    "$\\psi = a + bi = \\beta^*$\n",
    "\n",
    "$\\phi = c-d = \\phi^*$\n",
    "\n",
    "$\\alpha, \\phi \\in \\R$ and $\\beta, \\psi \\in \\mathbb{C}$\n",
    "\n",
    "$\\square$"
   ]
  },
  {
   "cell_type": "markdown",
   "metadata": {},
   "source": [
    "# Exercise 5.2\n",
    "\n",
    "Show that:\n",
    "\n",
    "1) $\\triangle A^2 = \\langle A^2\\rangle$ and $\\triangle B^2 = \\langle B^2\\rangle$\n",
    "\n",
    "2) $[\\bar{A}, \\bar{B}] = [A, B]$|\n",
    "\n",
    "3) $\\triangle A\\triangle B = \\frac{1}{2}|\\langle \\Psi|[A,B]|\\Psi\\rangle|$"
   ]
  },
  {
   "cell_type": "markdown",
   "metadata": {},
   "source": [
    "1) Without loss of generality we will focus on proving $\\langle A \\rangle = (\\triangle A)^2)$\n",
    "\n",
    "$\\bar{A} = A - \\langle A\\rangle$\n",
    "\n",
    "$\\langle \\bar{A} \\rangle = \\sum_a \\bar{a}P(a)$\n",
    "\n",
    "$\\langle \\bar{A}^2 \\rangle = \\sum_a \\bar{a}^2P(a) = (\\triangle A)^2$ (Eq. 5.3)\n",
    "\n",
    "$\\square$"
   ]
  },
  {
   "cell_type": "markdown",
   "metadata": {},
   "source": [
    "2)\n",
    "\n",
    "$[\\bar{A}, \\bar{B}] = [(A-\\langle A \\rangle), (B-\\langle B\\rangle)]$\n",
    "\n",
    "$= [(A-\\langle A \\rangle)(B-\\langle B\\rangle)] - [(B-\\langle B\\rangle)(A-\\langle A \\rangle)]$\n",
    "\n",
    "$= AB - \\langle A\\rangle B- \\langle B\\rangle A + \\langle A\\rangle\\langle B \\rangle - BA + \\langle B\\rangle A + \\langle A\\rangle B - \\langle A\\rangle\\langle B \\rangle$\n",
    "\n",
    "\n",
    "$\\langle A\\rangle \\langle B \\rangle = \\langle B\\rangle \\langle A \\rangle$\n",
    "\n",
    "$\\implies [\\bar{A}, \\bar{B}] = AB - BA = [A,B]$\n",
    "\n",
    "\n",
    "$\\square$"
   ]
  },
  {
   "cell_type": "markdown",
   "metadata": {},
   "source": [
    "3) \n",
    "\n",
    "$|X\\rangle = \\bar{A}| \\Psi\\rangle = (A-\\langle A\\rangle)|\\Psi\\rangle )$\n",
    "\n",
    "$|Y\\rangle = i\\bar{B}|\\Psi\\rangle = i(B-\\langle B\\rangle)|\\Psi\\rangle )$\n",
    "\n",
    "Input these into the Cauchy-Schwarz inequality\n",
    "\n",
    "$ 2\\sqrt{\\langle \\bar{A}^2 \\rangle \\langle \\bar{B}^2 \\rangle} = |\\langle \\Psi|[\\bar{A}, \\bar{B}]|\\Psi\\rangle|$\n",
    "\n",
    "$= \\sqrt{\\langle \\bar{A}^2 \\rangle \\langle \\bar{B}^2 \\rangle} = \\frac{1}{2}|\\langle \\Psi|[\\bar{A}, \\bar{B}]|\\Psi\\rangle|$\n",
    "\n",
    "$= \\sqrt{(\\triangle A)^2 (\\triangle B)^2} = \\frac{1}{2}|\\langle \\Psi|[\\bar{A}, \\bar{B}]|\\Psi\\rangle|$ (Proof 1)\n",
    "\n",
    "$\\sqrt{(\\triangle A)^2 (\\triangle B)^2} = \\sqrt{\\sum_{\\{a,b\\}}\\bar{a}^2\\bar{b}^2P(a)P(b)} = \\sum_{\\{a,b\\}}\\bar{a}\\bar{b}P(a)P(b) = \\triangle A\\triangle B$\n",
    "\n",
    "$= \\triangle A\\triangle B = \\frac{1}{2}|\\langle \\Psi|[\\bar{A}, \\bar{B}]|\\Psi\\rangle|$ \n",
    "\n",
    "$= \\triangle A\\triangle B = \\frac{1}{2}|\\langle \\Psi|[A,B]|\\Psi\\rangle|$ (Proof 2)\n",
    "\n",
    "$\\square$\n"
   ]
  }
 ],
 "metadata": {
  "language_info": {
   "name": "python"
  }
 },
 "nbformat": 4,
 "nbformat_minor": 2
}
