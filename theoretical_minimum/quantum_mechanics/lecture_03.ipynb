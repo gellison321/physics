{
 "cells": [
  {
   "cell_type": "markdown",
   "metadata": {},
   "source": [
    "# Exercise 3.1\n",
    "Prove the following: If a vector space is N-dimensional, an orthonormal basis of N vectors can be constructed from the eigenvectors of a Hermitian operator."
   ]
  },
  {
   "cell_type": "markdown",
   "metadata": {},
   "source": [
    "The Hermitian operator:\n",
    "\n",
    "A Hermitian operator is defined as a matrix that satisfies the following:\n",
    "\n",
    "$M = M^\\dagger$ \n",
    "\n",
    "Where $M^\\dagger$ is the transpose conjugate of $M$\n",
    "\n",
    "$M^\\dagger = [M^T]^*$"
   ]
  },
  {
   "cell_type": "markdown",
   "metadata": {},
   "source": [
    "If a vector-space is N-dimensional, the corresponding $M^\\dagger$ will be $N\\times N$ dimensional"
   ]
  },
  {
   "cell_type": "markdown",
   "metadata": {},
   "source": [
    "The eigenvectors of $M^\\dagger$, as all eigenvectors, satisfy the following:\n",
    "\n",
    "$M^\\dagger \\vec\\lambda = \\lambda \\vec\\lambda$\n",
    "\n"
   ]
  },
  {
   "cell_type": "markdown",
   "metadata": {},
   "source": []
  }
 ],
 "metadata": {
  "language_info": {
   "name": "python"
  }
 },
 "nbformat": 4,
 "nbformat_minor": 2
}
