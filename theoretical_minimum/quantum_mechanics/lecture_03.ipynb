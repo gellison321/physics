{
 "cells": [
  {
   "cell_type": "markdown",
   "metadata": {},
   "source": [
    "# Exercise 3.1\n",
    "Prove the following: If a vector space is N-dimensional, an orthonormal basis of N vectors can be constructed from the eigenvectors of a Hermitian operator."
   ]
  },
  {
   "cell_type": "markdown",
   "metadata": {},
   "source": [
    "The Hermitian operator:\n",
    "\n",
    "A Hermitian operator is defined as a matrix that satisfies the following:\n",
    "\n",
    "$M = M^\\dagger$ \n",
    "\n",
    "Where $M^\\dagger$ is the transpose conjugate of $M$\n",
    "\n",
    "$M^\\dagger = [M^T]^*$"
   ]
  },
  {
   "cell_type": "markdown",
   "metadata": {},
   "source": [
    "### 1: Prove the eigenvalues of a Hermitian are real\n",
    "\n",
    "The eigenvectors of $M$, as all eigenvectors, satisfy the following where $\\lambda$ is the eigenvalue associated with the eigenvector $|\\lambda\\rangle$\n",
    "\n",
    "$M|\\lambda\\rangle = \\lambda |\\lambda\\rangle$ $(Eq 1)$\n",
    "\n",
    "$\\iff $\n",
    "\n",
    "$\\langle\\lambda|M^\\dagger = \\langle\\lambda|\\lambda^*$ (Eq 2)"
   ]
  },
  {
   "cell_type": "markdown",
   "metadata": {},
   "source": [
    "$(Eq 1)*\\langle\\lambda| \\equiv \\langle \\lambda|M|\\lambda\\rangle = \\lambda\\langle\\lambda|\\lambda\\rangle$\n",
    "\n",
    "$(Eq 2)*|\\lambda\\rangle \\equiv  \\langle \\lambda|M|\\lambda\\rangle = \\lambda^*\\langle\\lambda|\\lambda\\rangle$\n",
    "\n",
    "$\\implies \\lambda = \\lambda^* \\implies \\lambda \\in \\rm I\\!R$"
   ]
  },
  {
   "cell_type": "markdown",
   "metadata": {},
   "source": [
    "### 2: Prove all the eigenvectors are orthogonal (or an orthognal vector can be constructed)\n",
    "\n"
   ]
  },
  {
   "cell_type": "markdown",
   "metadata": {},
   "source": [
    "Starting with the eigenvalues and eigenvectors of an N dimensional space\n",
    "\n",
    "$L|\\lambda_{i} \\rangle = \\lambda_{i}|\\lambda_{i}\\rangle  \\space \\forall i \\in N$\n",
    "\n",
    "Suppose $\\lambda_1$ and $\\lambda_2$ are unequal eigenvalues of the Hermitian operator L\n",
    "\n",
    "Step 1)\n",
    "\n",
    "$L|\\lambda_1\\rangle =\\lambda_1|\\lambda_1\\rangle$\n",
    "\n",
    "$L|\\lambda_2\\rangle =\\lambda_2|\\lambda_2\\rangle$\n",
    "\n",
    "Step 2)\n",
    "\n",
    "$\\langle \\lambda_1|L = \\lambda_1\\langle \\lambda_1|$\n",
    "\n",
    "Step 3)\n",
    "\n",
    "$\\langle \\lambda_1 | L | \\lambda_2 \\rangle = \\lambda_1\\langle\\lambda_1|\\lambda_2\\rangle$\n",
    "\n",
    "$\\langle \\lambda_1 | L | \\lambda_2 \\rangle = \\lambda_2\\langle\\lambda_1|\\lambda_2\\rangle$\n",
    "\n",
    "$\\iff$\n",
    "\n",
    "$\\lambda_1\\langle\\lambda_1|\\lambda_2\\rangle = \\lambda_2\\langle\\lambda_1|\\lambda_2\\rangle$\n",
    "\n",
    "$\\iff$\n",
    "\n",
    "$(\\lambda_1-\\lambda_2)\\langle\\lambda_1|\\lambda_2\\rangle = 0$\n",
    "\n",
    "$\\implies \\langle\\lambda_1| \\perp |\\lambda_2\\rangle$ (remember, we assume that $\\lambda_1 \\neq \\lambda_2$)\n",
    "\n",
    "\n",
    "And in the case that a single eigenvalue corresponds to multiple eigenvectors, any linear combination of the two eigenvectors is also an eigenvector.\n"
   ]
  },
  {
   "cell_type": "markdown",
   "metadata": {},
   "source": [
    "# Exercise 3.2\n",
    "Prove that\n",
    "\n",
    "$\n",
    "\\begin{pmatrix}\n",
    "(\\sigma_z)_{11} & (\\sigma_z)_{12} \\\\\n",
    "(\\sigma_z)_{21} & (\\sigma_z)_{22} \\\\\n",
    "\\end{pmatrix} = \\begin{pmatrix}\n",
    "1 & 0 \\\\ 0 &-1\n",
    "\\end{pmatrix}\n",
    "$\n",
    "\n",
    "Is the unique solution to\n",
    "\n",
    "$\\begin{pmatrix}\n",
    "(\\sigma_z)_{11} & (\\sigma_z)_{12} \\\\\n",
    "(\\sigma_z)_{21} & (\\sigma_z)_{22} \\\\\n",
    "\\end{pmatrix} \\begin{pmatrix} 1 \\\\ 0 \\end{pmatrix} = \\begin{pmatrix} 1 \\\\ 0 \\end{pmatrix}$\n",
    "\n",
    "and\n",
    "\n",
    "$\\begin{pmatrix}\n",
    "(\\sigma_z)_{11} & (\\sigma_z)_{12} \\\\\n",
    "(\\sigma_z)_{21} & (\\sigma_z)_{22} \\\\\n",
    "\\end{pmatrix} \\begin{pmatrix} 0 \\\\ 1 \\end{pmatrix} = -\\begin{pmatrix} 0 \\\\ 1 \\end{pmatrix}$"
   ]
  },
  {
   "cell_type": "markdown",
   "metadata": {},
   "source": [
    "1st\n",
    "$\\begin{pmatrix}\n",
    "(\\sigma_z)_{11} & (\\sigma_z)_{12} \\\\\n",
    "(\\sigma_z)_{21} & (\\sigma_z)_{22} \\\\\n",
    "\\end{pmatrix}  \\begin{pmatrix} 1 \\\\ 0 \\end{pmatrix} = \\begin{pmatrix} (\\sigma_z)_{11} * 1 + (\\sigma_z)_{12} * 0 \\\\ (\\sigma_z)_{21} * 1 + (\\sigma_z)_{22} * 0 \\end{pmatrix} = \\begin{pmatrix} (\\sigma_z)_{11} \\\\ (\\sigma_z)_{21}\\end{pmatrix} $\n",
    "\n",
    "$\\implies (\\sigma_z)_{11} = 1$ and $ (\\sigma_z)_{21} = 0$"
   ]
  },
  {
   "cell_type": "markdown",
   "metadata": {},
   "source": [
    "2nd \n",
    "$\\begin{pmatrix}\n",
    "(\\sigma_z)_{11} & (\\sigma_z)_{12} \\\\\n",
    "(\\sigma_z)_{21} & (\\sigma_z)_{22} \\\\\n",
    "\\end{pmatrix}  \\begin{pmatrix} 0 \\\\ 1 \\end{pmatrix} = \\begin{pmatrix} (\\sigma_z)_{11} * 0 + (\\sigma_z)_{12} * 1 \\\\ (\\sigma_z)_{21} * 0 + (\\sigma_z)_{22} * 1 \\end{pmatrix} = \\begin{pmatrix} (\\sigma_z)_{12} \\\\ (\\sigma_z)_{22}\\end{pmatrix} $\n",
    "\n",
    "$\\implies (\\sigma_z)_{12} = 0$ and $ (\\sigma_z)_{22} = -1$\n",
    "\n",
    "Finally $\\implies \\begin{pmatrix}\n",
    "(\\sigma_z)_{11} & (\\sigma_z)_{12} \\\\\n",
    "(\\sigma_z)_{21} & (\\sigma_z)_{22} \\\\\n",
    "\\end{pmatrix} = \\begin{pmatrix}\n",
    "1 & 0 \\\\ 0 &-1\n",
    "\\end{pmatrix}$"
   ]
  },
  {
   "cell_type": "code",
   "execution_count": 1,
   "metadata": {},
   "outputs": [
    {
     "data": {
      "text/latex": [
       "$\\displaystyle Oz = \\begin{pmatrix}1.0 & 0.0 \\\\ 0.0 & -1.0\\end{pmatrix}$"
      ],
      "text/plain": [
       "<IPython.core.display.Math object>"
      ]
     },
     "metadata": {},
     "output_type": "display_data"
    },
    {
     "data": {
      "text/latex": [
       "$\\displaystyle Ox = \\begin{pmatrix}0.0 & 1.0 \\\\ 1.0 & 0.0\\end{pmatrix}$"
      ],
      "text/plain": [
       "<IPython.core.display.Math object>"
      ]
     },
     "metadata": {},
     "output_type": "display_data"
    },
    {
     "data": {
      "text/latex": [
       "$\\displaystyle Oy = \\begin{pmatrix}0.0 & -i \\\\ i & 0.0\\end{pmatrix}$"
      ],
      "text/plain": [
       "<IPython.core.display.Math object>"
      ]
     },
     "metadata": {},
     "output_type": "display_data"
    }
   ],
   "source": [
    "# doing this in python with numpy\n",
    "\n",
    "import numpy as np\n",
    "from IPython.display import display, Math\n",
    "\n",
    "# We want to find a matrix A such that AX = B\n",
    "X = np.array([[1, 0],\n",
    "              [0, 1]])\n",
    "\n",
    "B = np.array([[1, 0],  \n",
    "              [0, -1]])\n",
    "\n",
    "# solution\n",
    "At = np.linalg.solve(X.T, B.T)\n",
    "\n",
    "# making it pretty\n",
    "def format_complex_number(val):\n",
    "    \"\"\"Formats a complex number into a more readable form for LaTeX.\"\"\"\n",
    "    if val.imag == 0:\n",
    "        return str(float(val.real)) \n",
    "    elif val.real == 0:\n",
    "        if val.imag == 1:\n",
    "            return 'i'\n",
    "        elif val.imag == -1:\n",
    "            return '-i'\n",
    "        else:\n",
    "            return f\"{val.imag}i\"  \n",
    "    else:\n",
    "        return f\"{val.real}+{val.imag}i\" \n",
    "\n",
    "def numpy_array_to_latex(array):\n",
    "    latex_str = r'\\begin{pmatrix}'\n",
    "    for row in array:\n",
    "        row_str = ' & '.join(format_complex_number(val) for val in row)\n",
    "        latex_str += row_str + r' \\\\ '\n",
    "    latex_str = latex_str.rstrip(r' \\\\ ')  # Remove the last row separator\n",
    "    latex_str += r'\\end{pmatrix}'\n",
    "    return latex_str\n",
    "\n",
    "# displaying the result and the other Pauli matrices\n",
    "pauli = {'Oz' : At.T,\n",
    "         'Ox' : np.array([[0,1],[1,0]]),\n",
    "         'Oy' : np.array([[0,-1j],[1j,0]])\n",
    "         }\n",
    "\n",
    "for key in pauli:\n",
    "    display(Math(key + ' = ' + numpy_array_to_latex(pauli[key])))"
   ]
  },
  {
   "cell_type": "markdown",
   "metadata": {},
   "source": [
    "# Exercise 3\n",
    "Calculate the eigenvalues and eigenvectors of\n",
    "\n",
    "$\\sigma_n = \\begin{pmatrix} \\cos\\theta & \\sin\\theta \\\\ \\sin\\theta & -\\cos\\theta \\end{pmatrix}$\n",
    "\n",
    "assuming $\\vec\\lambda_1 = \\begin{pmatrix} \\cos\\alpha \\\\ \\sin\\alpha \\end{pmatrix}$"
   ]
  },
  {
   "cell_type": "markdown",
   "metadata": {},
   "source": [
    "### Finding $\\lambda$\n",
    "\n",
    "$\\det{\\begin{pmatrix} \\cos\\theta - \\lambda & \\sin\\theta \\\\ \\sin\\theta & - \\cos\\theta - \\lambda \\end{pmatrix}} = 0$\n",
    "\n",
    "$\\iff (cos\\theta - \\lambda)(-cos\\theta - \\lambda) - sin^2\\theta = 0$\n",
    "\n",
    "$\\iff \\lambda^2 = sin^2\\theta + cos^2\\theta$\n",
    "\n",
    "$\\iff \n",
    "\\lambda = \n",
    "\\begin{cases}\n",
    "1 & = \\lambda_1 \\\\\n",
    "-1 & = \\lambda_2\n",
    "\\end{cases}$\n"
   ]
  },
  {
   "cell_type": "markdown",
   "metadata": {},
   "source": [
    "### Finding $\\vec\\lambda_1$\n",
    "\n",
    "Let's not overcomplicate it...\n",
    "\n",
    "$\\begin{pmatrix} \\cos\\theta & \\sin\\theta \\\\ \\sin\\theta & -\\cos\\theta \\end{pmatrix} \\begin{pmatrix} \\cos\\alpha \\\\ \\sin\\alpha \\end{pmatrix} = \\lambda_1\\begin{pmatrix} \\cos\\alpha \\\\ \\sin\\alpha \\end{pmatrix}$\n",
    "\n",
    "$ \\iff \\begin{pmatrix} \\cos\\theta\\times \\cos\\alpha + \\sin\\theta \\times \\sin\\alpha \\\\ \\sin\\theta \\times \\cos\\alpha -\\cos\\theta \\times \\sin\\alpha \\end{pmatrix} = \\begin{pmatrix} \\cos\\alpha \\\\ \\sin\\alpha \\end{pmatrix}$\n",
    "\n",
    "$ \\iff \\begin{pmatrix} \\cos(\\theta - \\alpha)\\\\ \\sin(\\theta - \\alpha) \\end{pmatrix} = \\begin{pmatrix} \\cos\\alpha \\\\ \\sin\\alpha \\end{pmatrix}$\n",
    "\n",
    "$\\iff \\theta - \\alpha = \\alpha$\n",
    "\n",
    "$\\iff \\alpha = \\frac{\\theta}{2}$\n",
    "\n",
    "$\\vec\\lambda_1 = \\begin{pmatrix} \\cos\\frac{\\theta}{2} \\\\ \\sin\\frac{\\theta}{2} \\end{pmatrix}$"
   ]
  },
  {
   "cell_type": "markdown",
   "metadata": {},
   "source": [
    "### Finding $\\vec\\lambda_2$\n",
    "\n",
    "Making no assumptions about the form, except that they will contain some linear combination of sine and cosine"
   ]
  },
  {
   "cell_type": "markdown",
   "metadata": {},
   "source": [
    "Let's assume they are orthogonal\n",
    "\n",
    "$\\implies \\vec\\lambda_1 \\perp \\vec\\lambda_2$\n",
    "\n",
    "$\\begin{pmatrix} \\cos\\frac{\\theta}{2} \\\\ \\sin\\frac{\\theta}{2} \\end{pmatrix} \\cdot \\begin{pmatrix} \\lambda_{2x}\\ \\lambda_{2z}\\end{pmatrix} = 0$\n",
    "\n",
    "$\\iff \\vec\\lambda_2 = \\begin{pmatrix} -\\sin\\frac{\\theta}{2} \\\\ \\cos\\frac{\\theta}{2} \\end{pmatrix}$"
   ]
  },
  {
   "cell_type": "markdown",
   "metadata": {},
   "source": [
    "# Exercise 3.4\n",
    "\n",
    "\n",
    "Let $n_z = \\cos\\theta$, $n_x = \\sin\\theta\\cos\\phi$, $n_y = \\sin\\theta\\sin\\phi$. Find the eigenvalues and eigenvectors.\n",
    "\n",
    "$\\sigma_n = \\begin{pmatrix} \\cos\\theta & \\sin\\theta\\cos\\phi - i\\sin\\theta\\sin\\phi \\\\ \\sin\\theta\\cos\\phi + i\\sin\\theta\\sin\\phi & -\\cos\\theta \\end{pmatrix}$"
   ]
  },
  {
   "cell_type": "code",
   "execution_count": 2,
   "metadata": {},
   "outputs": [
    {
     "name": "stdout",
     "output_type": "stream",
     "text": [
      "Eigenvectors:\n",
      "⎡⎛       ⎡⎡-(-ⅈ⋅sin(p)⋅sin(t) + sin(t)⋅cos(p)) ⎤⎤⎞  ⎛      ⎡⎡-(-ⅈ⋅sin(p)⋅sin(t\n",
      "⎢⎜       ⎢⎢────────────────────────────────────⎥⎥⎟  ⎜      ⎢⎢─────────────────\n",
      "⎢⎜-1, 1, ⎢⎢             cos(t) + 1             ⎥⎥⎟, ⎜1, 1, ⎢⎢             cos(\n",
      "⎢⎜       ⎢⎢                                    ⎥⎥⎟  ⎜      ⎢⎢                 \n",
      "⎣⎝       ⎣⎣                 1                  ⎦⎦⎠  ⎝      ⎣⎣                 \n",
      "\n",
      ") + sin(t)⋅cos(p)) ⎤⎤⎞⎤\n",
      "───────────────────⎥⎥⎟⎥\n",
      "t) - 1             ⎥⎥⎟⎥\n",
      "                   ⎥⎥⎟⎥\n",
      "1                  ⎦⎦⎠⎦\n"
     ]
    }
   ],
   "source": [
    "import sympy as sp\n",
    "from sympy import symbols, sin, cos, I\n",
    "\n",
    "t, p = symbols('t p')\n",
    "\n",
    "sigma_n = sp.Matrix([[cos(t), sin(t)*cos(p) - I*sin(t)*sin(p)],[sin(t)*cos(p) + I*sin(t)*sin(p), -cos(t)]])\n",
    "\n",
    "eigenvalues = sigma_n.eigenvals()\n",
    "eigenvectors = sigma_n.eigenvects()\n",
    "\n",
    "\n",
    "print(\"Eigenvectors:\")\n",
    "sp.pprint(eigenvectors, use_unicode=True)\n"
   ]
  },
  {
   "cell_type": "markdown",
   "metadata": {},
   "source": [
    "# Exercise 3.5\n",
    "\n",
    "This is really just a generalization of 3.4. If we know $\\theta$, the angle between $\\hat{m}$ and $\\hat{n}$, then the answer is simply \n",
    "\n",
    "$P(+1) = \\cos^2\\frac{\\theta}{2}$"
   ]
  }
 ],
 "metadata": {
  "kernelspec": {
   "display_name": "phypy",
   "language": "python",
   "name": "python3"
  },
  "language_info": {
   "codemirror_mode": {
    "name": "ipython",
    "version": 3
   },
   "file_extension": ".py",
   "mimetype": "text/x-python",
   "name": "python",
   "nbconvert_exporter": "python",
   "pygments_lexer": "ipython3",
   "version": "3.11.7"
  }
 },
 "nbformat": 4,
 "nbformat_minor": 2
}
