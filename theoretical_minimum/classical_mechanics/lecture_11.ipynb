{
 "cells": [
  {
   "cell_type": "markdown",
   "metadata": {},
   "source": [
    "# Exercise 1\n",
    "Confirm \n",
    "\n",
    "$ [\\vec{V} \\times \\vec{A}]_{i} = \\sum_{j}\\sum_{k} \\epsilon_{ijk}V_{j}A{k}$\n",
    "\n",
    "First, according to the axioms in the book, \n",
    "\n",
    "$\\epsilon_{ijk} = 1 \\iff <i,j,k> \\in \\{<x,y,z>, <y,z,x>, <z,x,y>\\}$\n",
    "\n",
    "$\\epsilon_{ijk} = -1 \\iff <i,j,k> \\in \\{<z,y,x>, <x,z,y>, <y,x,z>\\}$\n",
    "\n",
    "so \n",
    "\n",
    "$ [\\vec{V} \\times \\vec{A}]_{x} = 1\\cdot[V_{y}A_{z}] - 1\\cdot[V_{z}A_{y}]$\n",
    "\n",
    "$ [\\vec{V} \\times \\vec{A}]_{y} = 1\\cdot[V_{z}A_{x}] - 1\\cdot[V_{x}A_{z}]$\n",
    "\n",
    "$ [\\vec{V} \\times \\vec{A}]_{z} = 1\\cdot[V_{x}A_{y}] - 1\\cdot[V_{y}A_{x}]$\n",
    "\n",
    "and all other terms are 0."
   ]
  },
  {
   "cell_type": "markdown",
   "metadata": {},
   "source": [
    "Prove \n",
    "\n",
    "$V_{i}A_{j} - V_{j}A_{i} = \\sum_{k}\\epsilon_{ijk}\\frac{\\partial A_{k}}{\\partial x_{j}}$\n",
    "\n",
    "For  $i = x$\n",
    "\n",
    "$j \\in \\{y, z\\} \\implies \\sum_{k}\\epsilon_{ijk}\\frac{\\partial A_{k}}{\\partial x_{j}} = V_{x}A_{j} - V_{j}A_{x}$\n",
    "\n",
    "For  $i = y$\n",
    "\n",
    "$j \\in \\{x, z\\} \\implies \\sum_{k}\\epsilon_{ijk}\\frac{\\partial A_{k}}{\\partial x_{j}} = V_{y}A_{j} - V_{j}A_{y}$\n",
    "\n",
    "For  $i = z$\n",
    "\n",
    "$j \\in \\{y, x\\} \\implies \\sum_{k}\\epsilon_{ijk}\\frac{\\partial A_{k}}{\\partial x_{j}} = V_{z}A_{j} - V_{j}A_{z}$"
   ]
  },
  {
   "cell_type": "markdown",
   "metadata": {},
   "source": [
    "# Exercise 2\n",
    "Prove\n",
    "\n",
    "$\\vec{\\nabla}\\times [\\vec{\\nabla}V(x)] = 0$"
   ]
  },
  {
   "cell_type": "markdown",
   "metadata": {},
   "source": []
  }
 ],
 "metadata": {
  "language_info": {
   "name": "python"
  }
 },
 "nbformat": 4,
 "nbformat_minor": 2
}
