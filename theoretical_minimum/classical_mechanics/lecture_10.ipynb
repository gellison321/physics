{
 "cells": [
  {
   "cell_type": "markdown",
   "metadata": {},
   "source": [
    "# Exercise 1\n",
    "Prove the following:\n",
    "\n",
    "$ \\{F(q),p\\} = \\frac{\\partial F(q,p)}{\\partial q_{i}}$"
   ]
  },
  {
   "cell_type": "markdown",
   "metadata": {},
   "source": [
    "Where $F(q,p)$ and $p_{i}$ are functions of 2N variables\n",
    "\n",
    "$ \\{F(q,p),p\\} = \\sum_{k=1}^{N}\\frac{\\partial F(q,p)}{\\partial q_{k}}\\frac{\\partial p_{i}}{\\partial p_{k}} - \\frac{\\partial F(q,p)}{\\partial p_{k}}\\frac{\\partial p_{i}}{\\partial q_{k}} $\n",
    "\n",
    "$\\frac{\\partial p_{i}}{\\partial p_{k}} = \\delta_{ij}$\n",
    "\n",
    "$\\frac{\\partial p_{i}}{\\partial q_{k}} = 0$\n",
    "\n",
    "$\\implies \\{F(q,p),p\\} =  \\frac{\\partial F(q,p)}{\\partial q_{i}}$\n",
    "\n",
    "Additionally, this will come in Exercise 2\n",
    "\n",
    "$ \\{F(q,p),p\\} = \\sum_{k=1}^{N}\\frac{\\partial F(q,p)}{\\partial p_{k}}\\frac{\\partial q_{i}}{\\partial p_{k}} - \\frac{\\partial F(q,p)}{\\partial p_{k}}\\frac{\\partial q_{i}}{\\partial p_{k}} $\n",
    "\n",
    "\n",
    "$\\frac{\\partial q_{i}}{\\partial p_{k}} =0$\n",
    "\n",
    "$\\frac{\\partial q_{i}}{\\partial q_{k}} =  \\delta_{ij}$\n",
    "\n",
    "$\\implies \\{F(q,p),q\\} =  -\\frac{\\partial F(q,p)}{\\partial q_{i}}$"
   ]
  },
  {
   "cell_type": "markdown",
   "metadata": {},
   "source": [
    "# Exercise 2\n",
    "Prove Newton's equations from the following expressions for Hamilton's equations using axioms of Poisson brackets\n",
    "\n",
    "$\\dot{p} = \\{p,H\\}$\n",
    "\n",
    "$\\dot{q} = \\{q,H\\}$\n",
    "\n",
    "$H = \\frac{1}{2m}p^{2} + V(q)$"
   ]
  },
  {
   "cell_type": "markdown",
   "metadata": {},
   "source": [
    "$\\dot{q} = -\\{H(q,p), q\\} = \\frac{\\partial H(q,p)}{\\partial p} = \\frac{p}{m}$\n",
    "\n",
    "$\\implies p = m\\dot{q} \\implies \\dot{p} = m\\ddot{q}$\n",
    "\n",
    "$\\dot{p} = \\{p,H\\} = -{H(q,p),p} = -\\frac{\\partial H(q,p)}{\\partial q} = -V'(q)$\n",
    "\n",
    "$F = -V'(q)$\n",
    "\n",
    "$\\implies F = m\\ddot{q}$"
   ]
  },
  {
   "cell_type": "markdown",
   "metadata": {},
   "source": [
    "# Exercise 3\n",
    "Work out the following Poisson brackets\n",
    "\n",
    "$\\{x,L_{z}\\} = \\{x, (xp_{y}-yp_{x})\\}$\n",
    "\n",
    "$\\{y,L_{z}\\} = \\{y, (xp_{y}-yp_{x})\\}$\n",
    "\n",
    "$\\{z,L_{z}\\} = \\{z, (xp_{y}-yp_{x})\\}$\n",
    "\n",
    "or in general...\n",
    "\n",
    "$\\{q_{k},L_{z}\\} = \\{q_{k}, (q_{x}p_{y}-q_{y}p_{x})\\}$ where $k \\in \\{x,y,z\\}$\n",
    "\n",
    "Rearranging using our axioms:\n",
    "\n",
    "$ = -\\{(q_{x}p_{y}-q_{y}p_{x}),q_{k}\\}$ (Antisymmetry)\n",
    "\n",
    "$ = -[\\{q_{x}p_{y}, q_{k}\\} - \\{q_{y}p_{x}, q_{k}\\}] =\\{q_{y}p_{x}, q_{k}\\} -  \\{q_{x}p_{y}, q_{k}\\}$ (Linearity)\n",
    "\n",
    "$ = q_{y}\\{p_{x},q_{k}\\} + p_{x}\\{q_{y}, q_{k}\\} - q_{x}\\{p_{y},q_{k}\\} - p_{y}\\{q_{x}, q_{k}\\}$ (Product Rule)\n",
    "\n",
    "$\\{q_{y}, q_{k}\\} = 0$ and $\\{q_{x}, q_{k}\\} = 0$ (Specific Poisson Brackets)\n",
    "\n",
    "$\\implies \\{q_{k},L_{z}\\} = q_{y}\\{p_{x},q_{k}\\} - q_{x}\\{p_{y},q_{k}\\}$\n",
    "\n",
    "$ = q_{x} \\{q_{k}, p_{y}\\} - q_{y}\\{q_{k}, p_{x}\\}$ (Antisymmetry)\n",
    "\n",
    "Let $k = x$\n",
    "\n",
    "$\\implies \\{q_{k},L_{z}\\} = -q{y}$\n",
    "\n",
    "Let $k = y$\n",
    "\n",
    "$\\implies \\{q_{k},L_{z}\\} = q{x}$\n",
    "\n",
    "Let $k = z$\n",
    "\n",
    "$\\implies \\{q_{k},L_{z}\\} = 0$\n",
    "\n"
   ]
  }
 ],
 "metadata": {
  "language_info": {
   "name": "python"
  }
 },
 "nbformat": 4,
 "nbformat_minor": 2
}
