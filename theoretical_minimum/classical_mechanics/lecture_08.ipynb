{
 "cells": [
  {
   "cell_type": "markdown",
   "metadata": {},
   "source": [
    "# Exercise 1\n",
    "From the Lagrangian\n",
    "\n",
    "$L = \\frac{m\\dot{x}^{2}}{2} - \\frac{k}{2}x^{2}$\n",
    "\n",
    "and equation\n",
    "\n",
    "$q = (km)^{\\frac{1}{4}}x$\n",
    "\n",
    "show that the Lagrangian has the form of\n",
    "\n",
    "$L = \\frac{1}{2w}\\dot{q}^{2} - \\frac{w}{2}q^{2}$\n",
    "\n",
    "First, let's express $x$ in terms of $q$, $k$, and $m$\n",
    "\n",
    "$q = (km)^{\\frac{1}{4}} $\n",
    "\n",
    "$\\iff x = q(km)^{-\\frac{1}{4}}$\n",
    "\n",
    "$ \\implies \\dot{x} = \\dot{q}(km)^{-\\frac{1}{4}}$\n",
    "\n",
    "$ \\implies L = \\frac{m}{2}\\dot{q}^{2}(km)^{\\frac{1}{16}} - \\frac{k}{2}q^{2}(km)^{\\frac{1}{16}}$\n",
    "\n",
    "If we assume equivalency, then\n",
    "\n",
    "$ \\frac{1}{w} = m(km)^{\\frac{1}{16}} \\iff 1 = wm(km)^{\\frac{1}{16}}$ \n",
    "\n",
    "and \n",
    "\n",
    "$w = k(km)^{\\frac{1}{16}} \\iff 1 = \\frac{k}{w}(km)^{\\frac{1}{16}}$\n",
    "\n",
    "so\n",
    "\n",
    "$\\frac{k}{w}(km)^{\\frac{1}{16}} = wm(km)^{\\frac{1}{16}}$\n",
    "\n",
    "$\\iff wm = \\frac{k}{w} \\iff w^{2} = \\frac{k}{m}$\n",
    "\n",
    "This looks familiar."
   ]
  },
  {
   "cell_type": "markdown",
   "metadata": {},
   "source": [
    "# Exercise 2\n",
    "Derive the Hamiltonian from\n",
    "\n",
    "$L = \\frac{1}{2w}\\dot{q}^{2} - \\frac{w}{2}q^{2}$"
   ]
  },
  {
   "cell_type": "markdown",
   "metadata": {},
   "source": [
    "The definition of the Hamiltonian:\n",
    "\n",
    "$ H = T + V$ , $T = \\frac{1}{2w}\\dot{q}^{2}$, and $V = \\frac{w}{2}q^{2}$\n",
    "\n",
    "$\\implies H = \\frac{1}{2w}\\dot{q}^{2} + \\frac{w}{2}q^{2}$\n",
    "\n",
    "$p_{i} = \\frac{\\partial L}{\\partial \\dot{q}_{i}} = \\frac{1}{w}\\dot{q} \\iff \\dot{q} = wp$\n",
    "\n",
    "$\\implies H = \\frac{1}{2}wp^{2} + \\frac{1}{2}q^{2}$"
   ]
  }
 ],
 "metadata": {
  "language_info": {
   "name": "python"
  }
 },
 "nbformat": 4,
 "nbformat_minor": 2
}
