{
 "cells": [
  {
   "cell_type": "code",
   "execution_count": 1,
   "metadata": {},
   "outputs": [],
   "source": [
    "import numpy as np, matplotlib.pyplot as plt, itertools, networkx as nx\n",
    "from sympy import *"
   ]
  },
  {
   "cell_type": "markdown",
   "metadata": {},
   "source": [
    "# Exercise 1\n",
    "Find the indefinite inegrals of the follwing:\n",
    "\n",
    "$f(t) = t^{4}$\n",
    "\n",
    "$f(t) = cos(t)$\n",
    "\n",
    "$f(t) = t^{2} - 2$"
   ]
  },
  {
   "cell_type": "code",
   "execution_count": 2,
   "metadata": {},
   "outputs": [],
   "source": [
    "# define our functions in sympy notation\n",
    "\n",
    "t, c = symbols('t c')\n",
    "funcs = [t**4, cos(t), t**2-2]"
   ]
  },
  {
   "cell_type": "markdown",
   "metadata": {},
   "source": [
    "$\\int t^{4}dt = \\frac{1}{5}t^{5} + c$\n",
    "\n",
    "$\\int cos(t)dt = sin(t) + c$\n",
    "\n",
    "$\\int t^{2}-2 = \\frac{1}{3}t^{3}-2t + c$"
   ]
  },
  {
   "cell_type": "code",
   "execution_count": 3,
   "metadata": {},
   "outputs": [
    {
     "name": "stdout",
     "output_type": "stream",
     "text": [
      "t**5/5+c\n",
      "sin(t)+c\n",
      "t**3/3 - 2*t+c\n"
     ]
    }
   ],
   "source": [
    "# indefinite integration of functions\n",
    "for f in funcs:\n",
    "    print(str(integrate(f, t)) + '+' +str(c))"
   ]
  },
  {
   "cell_type": "markdown",
   "metadata": {},
   "source": [
    "# Exercise 2\n",
    "Use the fundamental theorem of calculus to evaluate each integral from Ex. 1 with limits of integration being t=0 to t=T"
   ]
  },
  {
   "cell_type": "markdown",
   "metadata": {},
   "source": [
    "The general form of the fundamental theorem of calculus is given by:\n",
    "\n",
    "$\\int_{a}^{b} f(t)dt = F(t)\\Big|_a^b = F(b) - F(a)$\n",
    "\n",
    "and\n",
    "\n",
    "$\\int \\frac{df}{dt}dt = f(t) + c$"
   ]
  },
  {
   "cell_type": "markdown",
   "metadata": {},
   "source": [
    "so...\n",
    "\n",
    "$\\int_{0}^{T} t^{4}dt = [\\frac{1}{5}t^{5} + c] \\Big|_0^T = [\\frac{1}{5}\\cdot T^{5} + c] - [\\frac{1}{5}\\cdot 0^{5} + c]= \\frac{1}{5}T^{5}$\n",
    "\n",
    "$\\int_{0}^{T} cos(t)dt = [-sin(t) + c] \\Big|_0^T = [-sin(T) + c] - [-sin(0) + c] = -sin(T)$\n",
    "\n",
    "$\\int_{0}^{T} [t^{2}-2] dt= [\\frac{1}{3}t^{3}-2t + c] \\Big|_0^T = [\\frac{1}{3}T^{3}-2T + c] - [\\frac{1}{3} \\cdot 0^{3}-2\\cdot 0 + c] = \\frac{1}{3}T^{3}-2T$"
   ]
  },
  {
   "cell_type": "code",
   "execution_count": 4,
   "metadata": {},
   "outputs": [
    {
     "name": "stdout",
     "output_type": "stream",
     "text": [
      "T**5/5\n",
      "sin(T)\n",
      "T**3/3 - 2*T\n"
     ]
    }
   ],
   "source": [
    "# must define a new variable T\n",
    "T = symbols('T')\n",
    "for f in funcs:\n",
    "    print(integrate(f, (t, T)))"
   ]
  },
  {
   "cell_type": "markdown",
   "metadata": {},
   "source": [
    "# Exercise 3\n",
    "Treat the expression from Ex. 1 as expression for the acceleration of a particle. Integrate them once, with respect to time, and determine the velocities, and a second time to determine the trajectories. Because we will use t as one the the limits of integration we will adopt the dummy integration variable t'. INtegrate them from t' = 0 to t'=t."
   ]
  },
  {
   "cell_type": "markdown",
   "metadata": {},
   "source": [
    "$\\int_{0}^{t} t'^{4}dt' = [\\frac{1}{5}t^{5} + c] \\Big|_0^t = \\frac{1}{5}t^{5}$\n",
    "\n",
    "$\\int_{0}^{T} \\frac{1}{5}t^{5}dt = [\\frac{1}{30}t^{6} + c]\\Big|_0^T = \\frac{1}{30}T^{6}$\n",
    "\n",
    "$\\int_{0}^{t} cos(t')dt' = [-sin(t') + c] \\Big|_0^t = -sin(t)$\n",
    "\n",
    "$\\int_{0}^{T} -sin(t)dt = [-cos(t) + c] \\Big|_0^T = -cos(T)$\n",
    "\n",
    "$\\int_{0}^{t} [t'^{2}-2] dt' [\\frac{1}{3}t'^{3}-2t' + c] \\Big|_0^t = \\frac{1}{3}t^{3}-2t$\n",
    "\n",
    "$\\int_{0}^{T} [\\frac{1}{3}t^{3}-2t] dt = [\\frac{1}{12}t^{4} - t^{2} + c] \\Big|_0^T = \\frac{1}{12}t^{4} - t^{2}$"
   ]
  },
  {
   "cell_type": "code",
   "execution_count": 5,
   "metadata": {},
   "outputs": [
    {
     "name": "stdout",
     "output_type": "stream",
     "text": [
      "T**6/30\n",
      "-cos(T)\n",
      "T**4/12 - T**2\n"
     ]
    }
   ],
   "source": [
    "# second integration of our functions\n",
    "# note that, for the sake of not rewriting our functions, I've rearranged the example to integrate from t -> tp -> T\n",
    "tp = symbols('tp')\n",
    "for f in funcs:\n",
    "    print(integrate(f, (t, tp), (tp, T)))"
   ]
  },
  {
   "cell_type": "markdown",
   "metadata": {},
   "source": [
    "# Exercise 4\n",
    "Evaluate $\\int_{0}^{\\frac{\\pi}{2}}xcos(x)dx$ (using integration by parts)\n",
    "\n",
    "Integration by parts is given by:\n",
    "\n",
    "$f(x)g(x) \\Big|_{a}^{b} - \\int_{a}^{b} f(x)\\frac{dg(x)}{dx} = \\int_{a}^{b} g(x)\\frac{f(x)}{dx}$"
   ]
  },
  {
   "cell_type": "markdown",
   "metadata": {},
   "source": [
    "$\\int_{0}^{\\frac{\\pi}{2}}xcos(x)dx = \\int_{0}^{\\frac{\\pi}{2}}x\\frac{dsin(x)}{dx} = xsin(x)\\Big|_{0}^{\\frac{\\pi}{2}} - \\int_{0}^{\\frac{\\pi}{2}}\\frac{dx}{dx}sin(x)dx = \\frac{\\pi}{2}sin(\\frac{\\pi}{2}) - \\int_{0}^{\\frac{\\pi}{2}}sin(x)dx$\n",
    "\n",
    "$= \\frac{\\pi}{2} - [cos(x) + c] \\Big|_{0}{\\frac{\\pi}{2}} = \\frac{\\pi}{2} - [(cos(\\frac{\\pi}{2}) + c) - (cos(0) + c)] = \\frac{\\pi}{2} - 1$"
   ]
  },
  {
   "cell_type": "code",
   "execution_count": 6,
   "metadata": {},
   "outputs": [
    {
     "name": "stdout",
     "output_type": "stream",
     "text": [
      "x*sin(x) + cos(x)\n",
      "0.570796326794897\n"
     ]
    }
   ],
   "source": [
    "x = symbols('x')\n",
    "print(integrate(x*cos(x),x))\n",
    "print(integrate(x*cos(x),(x, 0, np.pi/2)))"
   ]
  }
 ],
 "metadata": {
  "kernelspec": {
   "display_name": "phypy",
   "language": "python",
   "name": "python3"
  },
  "language_info": {
   "codemirror_mode": {
    "name": "ipython",
    "version": 3
   },
   "file_extension": ".py",
   "mimetype": "text/x-python",
   "name": "python",
   "nbconvert_exporter": "python",
   "pygments_lexer": "ipython3",
   "version": "3.11.7"
  }
 },
 "nbformat": 4,
 "nbformat_minor": 2
}
