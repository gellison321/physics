{
 "cells": [
  {
   "cell_type": "code",
   "execution_count": 1,
   "metadata": {},
   "outputs": [],
   "source": [
    "import numpy as np, matplotlib.pyplot as plt, itertools\n",
    "from sympy import *"
   ]
  },
  {
   "cell_type": "markdown",
   "metadata": {},
   "source": [
    "# Exercise 1\n",
    "Derive the following equations of motion\n",
    "\n",
    "$\\dot{p}_{1} = -V^{'}(q_{1}-q_{2})$\n",
    "\n",
    "$\\dot{p}_{2} = +V^{'}(q_{1}-q_{2})$"
   ]
  },
  {
   "cell_type": "markdown",
   "metadata": {},
   "source": [
    "In general\n",
    "\n",
    "$p_{i} = \\frac{\\partial L}{\\partial \\dot{q}_{i}}$\n",
    "\n",
    "And our lagrangian is\n",
    "\n",
    "$L = \\frac{1}{2}(\\dot{q}_{1}^{2} + \\dot{q}_{2}^{2}) - V(q_{1} - q_{2})$\n",
    "\n",
    "$p_{1} = \\dot{q}_{1}$\n",
    "\n",
    "$p_{2} = \\dot{q}_{2}$\n",
    "\n",
    "$\\frac{\\partial}{\\partial t}p_{1} = \\ddot{q}_{1} = \\dot{p}_{1}$\n",
    "\n",
    "$\\frac{\\partial}{\\partial t}p_{2} = \\ddot{q}_{2} = \\dot{p}_{2}$\n",
    "\n",
    "$\\frac{\\partial L}{\\partial q_{1}} = -V^{'}(q_{1} - q_{2})$\n",
    "\n",
    "$\\frac{\\partial L}{\\partial q_{2}} = V^{'}(q_{1} - q_{2})$\n",
    "\n",
    "The Euler Lagrange equations\n",
    "\n",
    "$\\frac{d}{dt}(\\frac{\\partial L}{\\partial \\dot{x}_{i}}) - \\frac{\\partial L}{\\partial x_{i}} = 0$\n",
    "\n",
    "$\\implies \\dot{p}_{1} = -V^{'}(q_{1} - q_{2})$\n",
    "\n",
    "$\\implies \\dot{p}_{2} = V^{'}(q_{1} - q_{2})$"
   ]
  },
  {
   "cell_type": "markdown",
   "metadata": {},
   "source": [
    "# Exercise 2\n",
    "Explain the conservation for the following equations of motion:\n",
    "\n",
    "$\\dot{p}_{1} = -\\alpha V^{'}(\\alpha q_{1} - \\beta q_{2})$\n",
    "\n",
    "$\\dot{p}_{2} = +\\beta V^{'}(\\alpha q_{1} - \\beta q_{2})$\n",
    "\n",
    "$\\beta \\dot{p}_{1} = -\\alpha \\beta V^{'}(\\alpha q_{1} - \\beta q_{2})$\n",
    "\n",
    "$\\alpha \\dot{p}_{2} = + \\alpha \\beta V^{'}(\\alpha q_{1} - \\beta q_{2})$\n",
    "\n",
    "$\\implies \\dot{p}_{1}+\\dot{p}_{2} = \\alpha \\beta V^{'}(\\alpha q_{1} - \\beta q_{2})-\\alpha \\beta V^{'}(\\alpha q_{1} - \\beta q_{2}) = 0$\n",
    "\n",
    "This is, physically, like scaling each axis by the coefficient of the other axis. So we are \"normalizing\" the axes, resulting in a conversation. I wonder if this relationship applies to transformations that are not linear combinations."
   ]
  }
 ],
 "metadata": {
  "kernelspec": {
   "display_name": "phypy",
   "language": "python",
   "name": "python3"
  },
  "language_info": {
   "codemirror_mode": {
    "name": "ipython",
    "version": 3
   },
   "file_extension": ".py",
   "mimetype": "text/x-python",
   "name": "python",
   "nbconvert_exporter": "python",
   "pygments_lexer": "ipython3",
   "version": "3.11.7"
  }
 },
 "nbformat": 4,
 "nbformat_minor": 2
}
