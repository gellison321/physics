{
 "cells": [
  {
   "cell_type": "markdown",
   "metadata": {},
   "source": [
    "# Exercise 1\n",
    "Derive the following equations of motion\n",
    "\n",
    "$\\dot{p}_{1} = -V^{'}(q_{1}-q_{2})$\n",
    "\n",
    "$\\dot{p}_{2} = +V^{'}(q_{1}-q_{2})$"
   ]
  },
  {
   "cell_type": "markdown",
   "metadata": {},
   "source": [
    "In general\n",
    "\n",
    "$p_{i} = \\frac{\\partial L}{\\partial \\dot{q}_{i}}$\n",
    "\n",
    "And our lagrangian is\n",
    "\n",
    "$L = \\frac{1}{2}(\\dot{q}_{1}^{2} + \\dot{q}_{2}^{2}) - V(q_{1} - q_{2})$\n",
    "\n",
    "$p_{1} = \\dot{q}_{1}$\n",
    "\n",
    "$p_{2} = \\dot{q}_{2}$\n",
    "\n",
    "$\\frac{\\partial}{\\partial t}p_{1} = \\ddot{q}_{1} = \\dot{p}_{1}$\n",
    "\n",
    "$\\frac{\\partial}{\\partial t}p_{2} = \\ddot{q}_{2} = \\dot{p}_{2}$\n",
    "\n",
    "$\\frac{\\partial L}{\\partial q_{1}} = -V^{'}(q_{1} - q_{2})$\n",
    "\n",
    "$\\frac{\\partial L}{\\partial q_{2}} = V^{'}(q_{1} - q_{2})$\n",
    "\n",
    "The Euler Lagrange equations\n",
    "\n",
    "$\\frac{d}{dt}(\\frac{\\partial L}{\\partial \\dot{x}_{i}}) - \\frac{\\partial L}{\\partial x_{i}} = 0$\n",
    "\n",
    "$\\implies \\dot{p}_{1} = -V^{'}(q_{1} - q_{2})$\n",
    "\n",
    "$\\implies \\dot{p}_{2} = V^{'}(q_{1} - q_{2})$"
   ]
  },
  {
   "cell_type": "markdown",
   "metadata": {},
   "source": [
    "# Exercise 2\n",
    "Explain the conservation for the following equations of motion:\n",
    "\n",
    "$\\dot{p}_{1} = -\\alpha V^{'}(\\alpha q_{1} - \\beta q_{2})$\n",
    "\n",
    "$\\dot{p}_{2} = +\\beta V^{'}(\\alpha q_{1} - \\beta q_{2})$\n",
    "\n",
    "$\\beta \\dot{p}_{1} = -\\alpha \\beta V^{'}(\\alpha q_{1} - \\beta q_{2})$\n",
    "\n",
    "$\\alpha \\dot{p}_{2} = + \\alpha \\beta V^{'}(\\alpha q_{1} - \\beta q_{2})$\n",
    "\n",
    "$\\implies \\dot{p}_{1}+\\dot{p}_{2} = \\alpha \\beta V^{'}(\\alpha q_{1} - \\beta q_{2})-\\alpha \\beta V^{'}(\\alpha q_{1} - \\beta q_{2}) = 0$\n",
    "\n",
    "This is, physically, like scaling each axis by the coefficient of the other axis. So we are \"normalizing\" the axes, resulting in a conversation. I wonder if this relationship applies to transformations that are not linear combinations."
   ]
  },
  {
   "cell_type": "markdown",
   "metadata": {},
   "source": [
    "# Exercise 3\n",
    "\n",
    "Show that, given the following transformations:\n",
    "\n",
    "$q_{1} \\rightarrow q_{1} - a \\delta$\n",
    "\n",
    "$q_{2} \\rightarrow q_{2} + b \\delta$\n",
    "\n",
    "the combination \n",
    "\n",
    "$aq_{1} bq_{2}$, \n",
    "\n",
    "and the Lagrangian,\n",
    "\n",
    "$L = \\frac{1}{2}(\\dot{q}_{1}^{2} + \\dot{q}_{2}^{2}) - V(q_{1}-q_{2})$\n",
    "\n",
    "are invariant.\n",
    "\n",
    "$aq_{1} + bq_{2}$\n",
    "\n",
    "$= a(q_{1} - b\\delta) + b(q_{2} - b\\delta)$\n",
    "\n",
    "$= aq_{1} - ab\\delta + bq_{2} + ab\\delta$\n",
    "\n",
    "$= aq_{1} + bq_{2}$\n",
    "\n",
    "$\\implies$ combination is invariant.\n",
    "\n",
    "To show that the Lagrangian is invariant, we assume that $a$ and $b$ are time invariant and thus, $\\dot{q}_{1}$ and $\\dot{q}_{2}$ are invariant as well. Thus the Lagrangian:\n",
    "\n",
    "$L = \\frac{1}{2}(\\dot{q}_{1}^{2} + \\dot{q}_{2}^{2}) - V(aq_{1} - bq_{2})$\n",
    "\n",
    "is also invariant."
   ]
  },
  {
   "cell_type": "markdown",
   "metadata": {},
   "source": [
    "# Exercise 4\n",
    "Show that the Lagrangian\n",
    "\n",
    "$L = \\frac{1}{2}(\\dot{q}_{1}^{2} + \\dot{q}_{2}^{2}) - V(q_{1}^{2}+q_{2}^{2})$\n",
    "\n",
    "does not change to the first order of $\\delta$ according to the shifts:\n",
    "\n",
    "$\\delta_{v}x = y\\delta$\n",
    "\n",
    "$\\delta_{v}y = -x\\delta$"
   ]
  },
  {
   "cell_type": "markdown",
   "metadata": {},
   "source": [
    "$L = \\frac{1}{2}[(\\dot{x} + \\dot{y}\\delta)^{2} + (\\dot{y} - \\dot{x}\\delta)^{2}] - V[(x + y\\delta)^{2} + (y - x\\delta)^{2}]$\n",
    "\n",
    "$ = \\frac{1}{2}[\\dot{x}^{2} + 2\\dot{x}\\dot{y}\\delta + \\dot{y}^{2}\\delta^{2} + \\dot{y}^{2} -2\\dot{x}\\dot{y}\\delta + \\dot{x}^{2}\\delta^{2}] - V[x^{2} + 2xy\\delta + y^{2}\\delta^{2} + y^{2} -2xy\\delta + x^{2}\\delta^{2}]$\n",
    "\n",
    "$ = \\frac{1}{2}[\\dot{x}^{2}(1+\\delta^{2}) + \\dot{y}^{2}(1+\\delta^{2})] - V[x^{2}(1+\\delta^{2}) + y^{2}(1+\\delta^{2})]$\n",
    "\n",
    "\n",
    "Where we care only about the first order of $\\delta$, we can see that the second order is negligible, and thus $1+\\delta^{2} = 1$\n",
    "\n",
    "$\\implies L = \\frac{1}{2}(\\dot{q}_{1}^{2} + \\dot{q}_{2}^{2}) - V(q_{1}^{2}+q_{2}^{2})$"
   ]
  },
  {
   "cell_type": "markdown",
   "metadata": {},
   "source": [
    "# Exercise 5\n",
    "Determine the equations of motion for a simple pendulum. I will refer back to the solution for the same problem in [Lecture 06](\"https://github.com/gellison321/physics/blob/main/theoretical_minimum/classical_mechanics/lecture_06.ipynb\")"
   ]
  },
  {
   "cell_type": "markdown",
   "metadata": {},
   "source": [
    "# Exercise 6\n",
    "Work out the Euler-Lagrange equations for the following Lagrangian:\n",
    "\n",
    "$L = T_{1} + T_{2} $\n",
    "\n",
    "$= \\frac{\\dot{\\theta}^{2}}{2} + \\frac{\\dot{\\theta}^{2}+ (\\dot{\\theta}+ \\dot{\\alpha})^{2}}{2} + \\dot{\\theta}(\\dot{\\theta}+\\dot{\\alpha})cos(\\alpha)$\n",
    "\n",
    "$ = \\dot{\\theta}^{2} + \\frac{1}{2}(\\dot{\\theta}+ \\dot{\\alpha})^{2} + \\dot{\\theta}^{2}cos(\\alpha) + \\dot{\\theta}\\dot{\\alpha}cos(\\alpha)$"
   ]
  },
  {
   "cell_type": "markdown",
   "metadata": {},
   "source": [
    "$\\frac{\\partial L}{\\partial \\theta} = 0$\n",
    "\n",
    "$\\frac{\\partial L}{\\partial \\dot{\\theta}} = 3\\dot{\\theta} + \\dot{\\alpha} + 2\\dot{\\theta}cos(\\alpha) + \\dot{\\alpha}cos(\\alpha)$\n",
    "\n",
    "$\\frac{\\partial L}{\\partial \\alpha} = -\\dot{\\theta}^{2}\\dot{\\alpha}sin(\\alpha) - \\dot{\\theta} \\dot{\\alpha}^{2}sin(\\alpha)$\n",
    "\n",
    "$\\frac{\\partial L}{\\partial \\dot{\\alpha}} = \\dot{\\theta} + \\dot{\\alpha} + \\dot{\\theta}cos(\\alpha)$"
   ]
  },
  {
   "cell_type": "markdown",
   "metadata": {},
   "source": [
    "Euler Lagrange Equations\n",
    "\n",
    "$\\frac{d}{dt}(\\frac{\\partial L}{\\partial \\dot{x}_{i}}) - \\frac{\\partial L}{\\partial x_{i}} = 0$\n",
    "\n",
    "$\\frac{d}{dt}\\frac{\\partial L}{\\partial \\dot{\\theta}} = 3\\ddot{\\theta} + \\ddot{\\alpha} + 2\\ddot{\\theta}cos(\\alpha) - 2\\dot{\\theta}\\dot{\\alpha}sin(\\alpha) + \\ddot{\\alpha}cos(\\alpha) - \\dot{\\alpha}^{2}sin(\\alpha)$\n",
    "\n",
    "$\\implies 3\\ddot{\\theta} + \\ddot{\\alpha} + 2\\ddot{\\theta}cos(\\alpha) - 2\\dot{\\theta}\\dot{\\alpha}sin(\\alpha) + \\ddot{\\alpha}cos(\\alpha) - \\dot{\\alpha}^{2}sin(\\alpha) = 0$\n",
    "\n",
    "$\\iff 3\\ddot{\\theta} + \\ddot{\\alpha} + 2\\ddot{\\theta}cos(\\alpha) + \\ddot{\\alpha}cos(\\alpha)= 2\\dot{\\theta}\\dot{\\alpha}sin(\\alpha) + \\dot{\\alpha}^{2}sin(\\alpha)$\\\n",
    "\n",
    "$\\iff \\ddot{\\theta}(3 + 2cos(\\alpha)) + \\ddot{\\alpha}(1 + cos(\\alpha)) = \\dot{\\alpha}(2\\dot{\\theta} + \\dot{\\alpha})sin(\\alpha)$\n",
    "\n",
    "$\\frac{d}{dt}\\frac{\\partial L}{\\partial \\dot{\\alpha}} = \\ddot{\\theta} + \\ddot{\\alpha} + \\ddot{\\theta}cos(\\alpha) - \\dot{\\theta}\\dot{\\alpha}sin(\\alpha)$\n",
    "\n",
    "$\\implies \\ddot{\\theta} + \\ddot{\\alpha} + \\ddot{\\theta}cos(\\alpha) - \\dot{\\theta}\\dot{\\alpha}sin(\\alpha) = -\\dot{\\theta}^{2}\\dot{\\alpha}sin(\\alpha) - \\dot{\\theta} \\dot{\\alpha}^{2}sin(\\alpha)$\n",
    "\n",
    "$\\iff \\ddot{\\theta}(1 + cos(\\alpha)) + \\ddot{\\alpha} = \\dot{\\theta}\\dot{\\alpha}sin(\\alpha) -\\dot{\\theta}^{2}\\dot{\\alpha}sin(\\alpha) - \\dot{\\theta} \\dot{\\alpha}^{2}sin(\\alpha)$"
   ]
  },
  {
   "cell_type": "markdown",
   "metadata": {},
   "source": [
    "# Exercise 7\n",
    "Work out the form of the angular momentum and show that it is conserved absent gravity."
   ]
  },
  {
   "cell_type": "markdown",
   "metadata": {},
   "source": [
    "Angular momentum:\n",
    "\n",
    "$ p_{\\theta} = \\frac{\\partial L}{\\partial \\dot{\\theta}} = 3\\dot{\\theta} + \\dot{\\alpha} + 2\\dot{\\theta}cos(\\alpha) + \\dot{\\alpha}cos(\\alpha)$\n",
    "\n",
    "$\\frac{\\partial L}{\\partial \\theta} = 0$\n",
    "\n",
    "and according to the Euler Lagrange equations\n",
    "\n",
    "$\\frac{\\partial L}{\\partial \\theta} = \\frac{d p_{\\theta}}{dt}$\n",
    "\n",
    "$\\implies \\frac{d p_{\\theta}}{dt} = 0$\n",
    "\n",
    "And thus the angular momentum for $\\theta$ is conserved"
   ]
  }
 ],
 "metadata": {
  "kernelspec": {
   "display_name": "phypy",
   "language": "python",
   "name": "python3"
  },
  "language_info": {
   "codemirror_mode": {
    "name": "ipython",
    "version": 3
   },
   "file_extension": ".py",
   "mimetype": "text/x-python",
   "name": "python",
   "nbconvert_exporter": "python",
   "pygments_lexer": "ipython3",
   "version": "3.11.7"
  }
 },
 "nbformat": 4,
 "nbformat_minor": 2
}
