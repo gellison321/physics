{
 "cells": [
  {
   "cell_type": "code",
   "execution_count": 1,
   "metadata": {},
   "outputs": [],
   "source": [
    "import numpy as np, matplotlib.pyplot as plt, itertools\n",
    "from sympy import *"
   ]
  },
  {
   "cell_type": "markdown",
   "metadata": {},
   "source": [
    "# Exercise 1\n",
    "Show that $\\frac{d}{dt}\\frac{\\partial L}{\\partial \\dot{x}} - \\frac{\\partial L}{\\partial x} = 0\\equiv F = ma$.\n",
    "\n",
    "$L = T - V = \\frac{1}{2}m\\dot{x}^{2} - V(x)$\n",
    "\n",
    "$\\frac{\\partial L}{\\partial \\dot{x}} = m\\dot{x}$\n",
    "\n",
    "$\\frac{\\partial L}{\\partial x} = -\\frac{\\partial V}{\\partial x}$\n",
    "\n",
    "$\\frac{d}{dt}m\\dot{x} = m\\ddot{x}$\n",
    "\n",
    "$F = -\\frac{\\partial V}{\\partial x}$\n",
    "\n",
    "$\\implies m\\ddot{x} - F = 0 \\iff F = ma$"
   ]
  },
  {
   "cell_type": "markdown",
   "metadata": {},
   "source": [
    "# Exercise 2\n",
    "Show that $\\frac{d}{dt}(\\frac{\\partial L}{\\partial \\dot{x}_{i}}) - \\frac{\\partial L}{\\partial x_{i}} = 0\\equiv F_{i} = m_{i}\\ddot{x}_{i}$.\n",
    "\n",
    "$\\frac{\\partial L}{\\partial \\dot{x}_{i}} = m_{i}\\dot{x}_{i}$\n",
    "\n",
    "$\\frac{\\partial L}{\\partial x_{i}} = -\\frac{\\partial V}{\\partial x_{i}}$\n",
    "\n",
    "$\\frac{d}{dt}m_{i}\\dot{x}_{i} = m_{i}\\ddot{x}_{i}$\n",
    "\n",
    "$F_{i} = -\\frac{\\partial V}{\\partial x_{i}}$\n",
    "\n",
    "$\\implies m_{i}\\ddot{x}_{i} - F_{i} = 0 \\iff F_{i} = m_{i}\\ddot{x}_{i}$"
   ]
  },
  {
   "cell_type": "code",
   "execution_count": null,
   "metadata": {},
   "outputs": [],
   "source": []
  }
 ],
 "metadata": {
  "kernelspec": {
   "display_name": "phypy",
   "language": "python",
   "name": "python3"
  },
  "language_info": {
   "codemirror_mode": {
    "name": "ipython",
    "version": 3
   },
   "file_extension": ".py",
   "mimetype": "text/x-python",
   "name": "python",
   "nbconvert_exporter": "python",
   "pygments_lexer": "ipython3",
   "version": "3.11.7"
  }
 },
 "nbformat": 4,
 "nbformat_minor": 2
}
