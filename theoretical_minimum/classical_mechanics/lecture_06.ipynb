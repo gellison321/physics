{
 "cells": [
  {
   "cell_type": "code",
   "execution_count": 1,
   "metadata": {},
   "outputs": [],
   "source": [
    "import numpy as np, matplotlib.pyplot as plt, itertools\n",
    "from sympy import *"
   ]
  },
  {
   "cell_type": "markdown",
   "metadata": {},
   "source": [
    "# Exercise 1\n",
    "Show that $\\frac{d}{dt}\\frac{\\partial L}{\\partial \\dot{x_{I}}} - \\frac{\\partial L}{\\partial x} = 0\\equiv F = ma$.\n",
    "\n",
    "$L = T - V = \\frac{1}{2}m\\dot{x}^{2} - V(x)$\n",
    "\n",
    "$\\frac{\\partial L}{\\partial \\dot{x}} = m\\dot{x}$\n",
    "\n",
    "$\\frac{\\partial L}{\\partial x} = -\\frac{\\partial V}{\\partial x}$\n",
    "\n",
    "$\\frac{d}{dt}m\\dot{x} = m\\ddot{x}$\n",
    "\n",
    "$F = -\\frac{\\partial V}{\\partial x}$\n",
    "\n",
    "$\\implies m\\ddot{x} - F = 0 \\iff F = ma$"
   ]
  },
  {
   "cell_type": "markdown",
   "metadata": {},
   "source": [
    "# Exercise 2\n",
    "Show that $\\frac{d}{dt}(\\frac{\\partial L}{\\partial \\dot{x}_{i}}) - \\frac{\\partial L}{\\partial x_{i}} = 0\\equiv F_{i} = m_{i}\\ddot{x}_{i}$.\n",
    "\n",
    "$\\frac{\\partial L}{\\partial \\dot{x}_{i}} = m_{i}\\dot{x}_{i}$\n",
    "\n",
    "$\\frac{\\partial L}{\\partial x_{i}} = -\\frac{\\partial V}{\\partial x_{i}}$\n",
    "\n",
    "$\\frac{d}{dt}m_{i}\\dot{x}_{i} = m_{i}\\ddot{x}_{i}$\n",
    "\n",
    "$F_{i} = -\\frac{\\partial V}{\\partial x_{i}}$\n",
    "\n",
    "$\\implies m_{i}\\ddot{x}_{i} - F_{i} = 0 \\iff F_{i} = m_{i}\\ddot{x}_{i}$"
   ]
  },
  {
   "cell_type": "markdown",
   "metadata": {},
   "source": [
    "# Exercise 3\n",
    "Use the Euler-Lagrange equations to derive the equations of motion from the Lagrangian in \n",
    "\n",
    "$L = \\frac{m}{2}( \\dot{X}^{2}+ \\dot{Y}^{2}) + \\frac{mw^{2}}{2}(X^{2}+Y^{2}) + mw(\\dot{X}Y - \\dot{Y}X)$"
   ]
  },
  {
   "cell_type": "markdown",
   "metadata": {},
   "source": [
    "$\\frac{\\partial L}{\\partial X} = mw^{2}X - mw\\dot{Y}$\n",
    "\n",
    "$\\frac{\\partial L}{\\partial Y} = mw^{2}Y + mw\\dot{X}$\n",
    "\n",
    "$\\frac{\\partial L}{\\partial \\dot{X}} = m\\dot{X} + mwY$\n",
    "\n",
    "$\\frac{\\partial L}{\\partial \\dot{Y}} = m\\dot{Y} - mwX$\n",
    "\n",
    "Euler-Lagrange Equation:\n",
    "\n",
    "$\\frac{d}{dt}(\\frac{\\partial L}{\\partial \\dot{x}_{i}}) - \\frac{\\partial L}{\\partial x_{i}} = 0$\n",
    "\n",
    "$\\implies \\frac{d}{dt}( m\\dot{X} + mwY) = mw^{2}X - mw\\dot{Y} \\equiv m\\ddot{X} = mw^{2}X - 2mw\\dot{Y}$\n",
    "\n",
    "$\\implies \\frac{d}{dt}( m\\dot{Y} - mwX) = mw^{2}Y + mw\\dot{X} \\equiv m\\ddot{Y} = mw^{2}Y + 2mw\\dot{X}$"
   ]
  },
  {
   "cell_type": "markdown",
   "metadata": {},
   "source": [
    "# Exercise 4\n",
    "Work out $L = \\frac{m}{2}( \\dot{X}^{2}+ \\dot{Y}^{2}) + \\frac{mw^{2}}{2}(X^{2}+Y^{2}) + mw(\\dot{X}Y - \\dot{Y}X)$ and $\\frac{d}{dt}(\\frac{\\partial L}{\\partial \\dot{x}_{i}}) - \\frac{\\partial L}{\\partial x_{i}} = 0$ in polar coordinates.\n"
   ]
  },
  {
   "cell_type": "markdown",
   "metadata": {},
   "source": [
    "Polar coordinates:\n",
    "\n",
    "$X = Rcos(\\theta)$\n",
    "\n",
    "$Y = Rsin(\\theta)$\n",
    "\n",
    "$\\dot{X} = \\dot{R}cos(\\theta) - R \\dot{\\theta}\\sin{(\\theta)}$\n",
    "\n",
    "$\\dot{Y} = \\dot{R}sin(\\theta) + R \\dot{\\theta} \\cos{(\\theta)}$\n",
    "\n",
    "Expressing our terms in polar coordinates and solving using trig identities\n",
    "\n",
    "$\\implies \\dot{X}^{2}+ \\dot{Y}^{2} = (\\dot{R}cos(\\theta) - R \\dot{\\theta}\\sin{(\\theta)})^{2} + (\\dot{R}sin(\\theta) + R \\dot{\\theta} \\cos{(\\theta)})^{2}$\n",
    "\n",
    "$= \\dot{R}^{2}cos^{2}(\\theta) + R^{2}\\dot{\\theta}^{2}sin^{2}(\\theta) - 2R\\dot{\\theta}cos(\\theta)\\dot{R}sin(\\theta) + \\dot{R}^{2}sin^{2}(\\theta) + R^{2}\\dot{\\theta}^{2}cos^{2}(\\theta) +2R\\dot{\\theta}cos(\\theta)\\dot{R}sin(\\theta) $\n",
    "\n",
    "$ = \\dot{R}^{2}[cos^{2}(\\theta) + sin^{2}(\\theta)] + R^{2}\\dot{\\theta}^{2}[sin^{2}(\\theta)+cos^{2}(\\theta)]$\n",
    "\n",
    "$= \\dot{R}^{2} + R^{2}\\dot{\\theta}^{2}$\n",
    "\n",
    "$\\implies X^{2} + Y^{2} =  Rcos(\\theta)^{2} +Rsin(\\theta)^{2}$\n",
    "\n",
    "$= R^{2}[cos^{2}{\\theta} + sin^{2}(\\theta)]$\n",
    "\n",
    "$= R^{2}$\n",
    "\n",
    "$\\implies \\dot{X}Y + \\dot{Y}X = (\\dot{R}cos(\\theta) - R\\dot{\\theta}sin(\\theta))Rsin(\\theta) - (\\dot{R}sin(\\theta) +R\\dot{\\theta}cos(\\theta))Rcos(\\theta)$\n",
    "\n",
    "$= [\\dot{R}Rcos(\\theta)sin(\\theta) - R^{2}\\dot{\\theta}sin^{2}(\\theta)] - [\\dot{R}Rsin(\\theta)cos(\\theta) - R^{2}\\dot{\\theta}cos^{2}(\\theta)]$\n",
    "\n",
    "$= -R^{2}\\dot{\\theta}[sin^{2}(\\theta) + cos^{2}(\\theta)]$\n",
    "\n",
    "$= -R^{2}\\dot{\\theta}$\n",
    "\n",
    "Plugging back into the Lagrangian\n",
    "\n",
    "$\\implies L = \\frac{m}{2}( \\dot{R}^{2} + R^{2}\\dot{\\theta}^{2}) + \\frac{mw^{2}}{2}(R^{2}) + mw(-R^{2}\\dot{\\theta})$\n",
    "\n",
    "$\\frac{\\partial L}{\\partial R} = mR\\dot{\\theta}^{2} + mw^{2}R - 2mwR\\dot{\\theta}$\n",
    "\n",
    "$\\frac{\\partial L}{\\partial \\dot{R}} = m\\dot{R}$\n",
    "\n",
    "$\\frac{\\partial L}{\\partial \\theta} = 0$\n",
    "\n",
    "$\\frac{\\partial L}{\\partial \\dot{\\theta}} = mR^{2}\\dot{\\theta} -mwR^{2}$\n",
    "\n",
    "\n",
    "$\\frac{d}{dt}(m\\dot{R}) = mR\\dot{\\theta}^{2} + mw^{2}R - 2mwR\\dot{\\theta}$\n",
    "\n",
    "$\\implies \\ddot{R} = R\\dot{\\theta}^{2} + w^{2}R - 2wR\\dot{\\theta}$\n",
    "\n",
    "$\\frac{d}{dt}(mR^{2}\\dot{\\theta} -mwR^{2}) = 2mR\\dot{R} - 2mwR\\dot{R} + R^{2}\\ddot{\\theta}$\n",
    "\n",
    "$\\implies R\\ddot{\\theta} = 2\\dot{R}w - 2\\dot{R}\\dot{\\theta}$"
   ]
  }
 ],
 "metadata": {
  "kernelspec": {
   "display_name": "phypy",
   "language": "python",
   "name": "python3"
  },
  "language_info": {
   "codemirror_mode": {
    "name": "ipython",
    "version": 3
   },
   "file_extension": ".py",
   "mimetype": "text/x-python",
   "name": "python",
   "nbconvert_exporter": "python",
   "pygments_lexer": "ipython3",
   "version": "3.11.7"
  }
 },
 "nbformat": 4,
 "nbformat_minor": 2
}
